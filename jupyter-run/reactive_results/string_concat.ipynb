{
 "cells": [
  {
   "cell_type": "code",
   "execution_count": 1,
   "id": "5ac796e5-c274-484b-8109-d46e13cc18c2",
   "metadata": {},
   "outputs": [
    {
     "name": "stdout",
     "output_type": "stream",
     "text": [
      "a = \"h\"  "
     ]
    }
   ],
   "source": [
    "a = \"h\"  "
   ]
  },
  {
   "cell_type": "code",
   "execution_count": 4,
   "id": "bea408bf",
   "metadata": {},
   "outputs": [
    {
     "name": "stdout",
     "output_type": "stream",
     "text": [
      "a += \"goodbye\""
     ]
    }
   ],
   "source": [
    "a += \"goodbye\""
   ]
  },
  {
   "cell_type": "code",
   "execution_count": 3,
   "id": "b866b48f-980c-4f42-99a3-3c9ac33a81f3",
   "metadata": {},
   "outputs": [
    {
     "name": "stdout",
     "output_type": "stream",
     "text": [
      "print(len(a))"
     ]
    }
   ],
   "source": [
    "print(len(a))"
   ]
  }
 ],
 "metadata": {
  "ipyflow": {
   "cell_children": {
    "27b27d54-3aed-4d46-a5cb-afa4a3ae861a": [
     "b866b48f-980c-4f42-99a3-3c9ac33a81f3"
    ],
    "5ac796e5-c274-484b-8109-d46e13cc18c2": [
     "27b27d54-3aed-4d46-a5cb-afa4a3ae861a"
    ],
    "b866b48f-980c-4f42-99a3-3c9ac33a81f3": []
   },
   "cell_parents": {
    "27b27d54-3aed-4d46-a5cb-afa4a3ae861a": [
     "5ac796e5-c274-484b-8109-d46e13cc18c2"
    ],
    "5ac796e5-c274-484b-8109-d46e13cc18c2": [],
    "b866b48f-980c-4f42-99a3-3c9ac33a81f3": [
     "27b27d54-3aed-4d46-a5cb-afa4a3ae861a"
    ]
   }
  },
  "kernelspec": {
   "display_name": "Echo",
   "language": "text",
   "name": "echo"
  },
  "language_info": {
   "file_extension": ".txt",
   "mimetype": "text/plain",
   "name": "echo"
  }
 },
 "nbformat": 4,
 "nbformat_minor": 5
}
