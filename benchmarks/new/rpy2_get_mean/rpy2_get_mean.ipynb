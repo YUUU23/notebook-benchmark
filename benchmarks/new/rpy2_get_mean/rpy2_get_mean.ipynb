{
 "cells": [
  {
   "cell_type": "code",
   "execution_count": 1,
   "id": "62ce48fa-56bd-42d7-a401-0445e884974c",
   "metadata": {},
   "outputs": [
    {
     "name": "stderr",
     "output_type": "stream",
     "text": [
      "Error importing in API mode: ImportError(\"dlopen(/opt/anaconda3/envs/jlab-e/lib/python3.13/site-packages/_rinterface_cffi_api.abi3.so, 0x0002): Library not loaded: /Library/Frameworks/R.framework/Versions/4.5-arm64/Resources/lib/libRblas.dylib\\n  Referenced from: <668E1903-F0E7-30D5-BA27-15F8287F87F7> /opt/anaconda3/envs/jlab-e/lib/python3.13/site-packages/_rinterface_cffi_api.abi3.so\\n  Reason: tried: '/Library/Frameworks/R.framework/Versions/4.5-arm64/Resources/lib/libRblas.dylib' (no such file), '/System/Volumes/Preboot/Cryptexes/OS/Library/Frameworks/R.framework/Versions/4.5-arm64/Resources/lib/libRblas.dylib' (no such file), '/Library/Frameworks/R.framework/Versions/4.5-arm64/Resources/lib/libRblas.dylib' (no such file)\")\n",
      "Trying to import in ABI mode.\n",
      "/opt/anaconda3/envs/jlab-e/lib/python3.13/site-packages/rpy2/rinterface/__init__.py:1211: UserWarning: Environment variable \"PWD\" redefined by R and overriding existing variable. Current: \"/Users/happy2na/Downloads/notebook-benchmark\", R: \"/Users/happy2na/Downloads/notebook-benchmark/benchmarks/new/rpy2_get_mean\"\n",
      "  warnings.warn(\n",
      "/opt/anaconda3/envs/jlab-e/lib/python3.13/site-packages/rpy2/rinterface/__init__.py:1211: UserWarning: Environment variable \"XPC_SERVICE_NAME\" redefined by R and overriding existing variable. Current: \"application.com.microsoft.VSCode.231522362.231522368.8CA9732E-69C9-4B69-8A92-6D4EF0AE1EF0\", R: \"0\"\n",
      "  warnings.warn(\n",
      "/opt/anaconda3/envs/jlab-e/lib/python3.13/site-packages/rpy2/rinterface/__init__.py:1211: UserWarning: Environment variable \"R_SESSION_TMPDIR\" redefined by R and overriding existing variable. Current: \"/var/folders/6m/f47m_fzj7cb6grp4vc8q8h880000gn/T//Rtmp4usm9q\", R: \"/var/folders/6m/f47m_fzj7cb6grp4vc8q8h880000gn/T//RtmpBQmVlf\"\n",
      "  warnings.warn(\n"
     ]
    }
   ],
   "source": [
    "import rpy2.robjects as robjects\n",
    "from rpy2.robjects.packages import importr"
   ]
  },
  {
   "cell_type": "code",
   "execution_count": 2,
   "id": "62d1f605-a0ab-4456-a22a-35e665bc601c",
   "metadata": {},
   "outputs": [],
   "source": [
    "r_env = robjects.r['new.env']()"
   ]
  },
  {
   "cell_type": "code",
   "execution_count": 14,
   "id": "0e4decd3-9b26-4fe2-916f-07d4234726a0",
   "metadata": {},
   "outputs": [],
   "source": [
    "arr = [1,2,3,8,5]\n",
    "assign_var = 'x'"
   ]
  },
  {
   "cell_type": "code",
   "execution_count": null,
   "id": "ce4d8e75-2781-4bcc-8ab3-c85ae7525c10",
   "metadata": {},
   "outputs": [],
   "source": [
    "r_env[assign_var] = robjects.FloatVector(arr)"
   ]
  },
  {
   "cell_type": "code",
   "execution_count": 11,
   "id": "e2dc30c7-3ceb-44db-8802-85824920256a",
   "metadata": {},
   "outputs": [],
   "source": [
    "r_expr = robjects.r('expression(mean(x))')"
   ]
  },
  {
   "cell_type": "code",
   "execution_count": 12,
   "id": "1e15dee4-80ad-483f-92fc-1e87ac0436a3",
   "metadata": {},
   "outputs": [],
   "source": [
    "mean_val = robjects.r['eval'](r_expr, envir=r_env)"
   ]
  },
  {
   "cell_type": "code",
   "execution_count": 13,
   "id": "3c5cea49-84fd-4765-af32-863ec3646e96",
   "metadata": {},
   "outputs": [
    {
     "name": "stdout",
     "output_type": "stream",
     "text": [
      "3.0\n"
     ]
    }
   ],
   "source": [
    "print(mean_val[0])"
   ]
  }
 ],
 "metadata": {
  "kernelspec": {
   "display_name": "Python 3 (ipyflow)",
   "language": "python",
   "name": "ipyflow"
  },
  "language_info": {
   "codemirror_mode": {
    "name": "ipython",
    "version": 3
   },
   "file_extension": ".py",
   "mimetype": "text/x-python",
   "name": "python",
   "nbconvert_exporter": "python",
   "pygments_lexer": "ipython3",
   "version": "3.13.2"
  }
 },
 "nbformat": 4,
 "nbformat_minor": 5
}
