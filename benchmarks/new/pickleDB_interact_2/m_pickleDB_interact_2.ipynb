{
 "cells": [
  {
   "cell_type": "code",
   "execution_count": 1,
   "id": "2cfde71b-69f9-4298-9afd-2583dc73e00d",
   "metadata": {},
   "outputs": [],
   "source": [
    "from pickledb import PickleDB"
   ]
  },
  {
   "cell_type": "code",
   "execution_count": 2,
   "id": "72051d7f-042d-4916-ac14-2c416392c168",
   "metadata": {},
   "outputs": [],
   "source": [
    "db = PickleDB('test.db')"
   ]
  },
  {
   "cell_type": "code",
   "execution_count": 3,
   "id": "f3c2ddb4-43d8-4210-ab1a-be6ce3ca149d",
   "metadata": {},
   "outputs": [],
   "source": [
    "k = 'k1'"
   ]
  },
  {
   "cell_type": "code",
   "execution_count": 4,
   "id": "a7206c11-ca59-4c7d-8d4d-63c1a08358c8",
   "metadata": {},
   "outputs": [
    {
     "data": {
      "text/plain": [
       "True"
      ]
     },
     "execution_count": 4,
     "metadata": {},
     "output_type": "execute_result"
    }
   ],
   "source": [
    "db.set(k, 'v2')"
   ]
  },
  {
   "cell_type": "code",
   "execution_count": 5,
   "id": "2aad7820-db2d-4e4c-8e80-930f000b6287",
   "metadata": {},
   "outputs": [
    {
     "data": {
      "text/plain": [
       "'v2'"
      ]
     },
     "execution_count": 5,
     "metadata": {},
     "output_type": "execute_result"
    }
   ],
   "source": [
    "db.get('k1')"
   ]
  },
  {
   "cell_type": "code",
   "execution_count": 6,
   "id": "2334d628-36f5-4f94-9186-646a9cb71091",
   "metadata": {},
   "outputs": [],
   "source": [
    "db.get('k2')"
   ]
  }
 ],
 "metadata": {
  "ipyflow": {
   "cell_children": {
    "2334d628-36f5-4f94-9186-646a9cb71091": [],
    "2aad7820-db2d-4e4c-8e80-930f000b6287": [
     "2334d628-36f5-4f94-9186-646a9cb71091"
    ],
    "2cfde71b-69f9-4298-9afd-2583dc73e00d": [
     "72051d7f-042d-4916-ac14-2c416392c168",
     "2aad7820-db2d-4e4c-8e80-930f000b6287",
     "a7206c11-ca59-4c7d-8d4d-63c1a08358c8",
     "2334d628-36f5-4f94-9186-646a9cb71091"
    ],
    "6b24c525-92c7-4bb0-bc8a-ab43e3957b90": [],
    "72051d7f-042d-4916-ac14-2c416392c168": [
     "a7206c11-ca59-4c7d-8d4d-63c1a08358c8",
     "2aad7820-db2d-4e4c-8e80-930f000b6287"
    ],
    "764650c0-be79-4981-8fb6-df23cb93edd9": [],
    "7e12b3aa-5710-4eb2-b4d3-e9424b0d5dc3": [],
    "a454af57-7c4c-4e3d-9bd0-661b1d2d51c9": [],
    "a7206c11-ca59-4c7d-8d4d-63c1a08358c8": [],
    "f3c2ddb4-43d8-4210-ab1a-be6ce3ca149d": []
   },
   "cell_parents": {
    "2334d628-36f5-4f94-9186-646a9cb71091": [
     "2cfde71b-69f9-4298-9afd-2583dc73e00d",
     "2aad7820-db2d-4e4c-8e80-930f000b6287"
    ],
    "2aad7820-db2d-4e4c-8e80-930f000b6287": [
     "2cfde71b-69f9-4298-9afd-2583dc73e00d",
     "72051d7f-042d-4916-ac14-2c416392c168"
    ],
    "2cfde71b-69f9-4298-9afd-2583dc73e00d": [],
    "6b24c525-92c7-4bb0-bc8a-ab43e3957b90": [],
    "72051d7f-042d-4916-ac14-2c416392c168": [
     "2cfde71b-69f9-4298-9afd-2583dc73e00d"
    ],
    "764650c0-be79-4981-8fb6-df23cb93edd9": [],
    "7e12b3aa-5710-4eb2-b4d3-e9424b0d5dc3": [],
    "a454af57-7c4c-4e3d-9bd0-661b1d2d51c9": [],
    "a7206c11-ca59-4c7d-8d4d-63c1a08358c8": [
     "2cfde71b-69f9-4298-9afd-2583dc73e00d",
     "72051d7f-042d-4916-ac14-2c416392c168"
    ],
    "f3c2ddb4-43d8-4210-ab1a-be6ce3ca149d": []
   }
  },
  "kernelspec": {
   "display_name": "Python 3 (ipykernel)",
   "language": "python",
   "name": "python3"
  },
  "language_info": {
   "codemirror_mode": {
    "name": "ipython",
    "version": 3
   },
   "file_extension": ".py",
   "mimetype": "text/x-python",
   "name": "python",
   "nbconvert_exporter": "python",
   "pygments_lexer": "ipython3",
   "version": "3.13.5"
  }
 },
 "nbformat": 4,
 "nbformat_minor": 5
}
