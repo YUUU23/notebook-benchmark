{
 "cells": [
  {
   "cell_type": "code",
   "execution_count": 3,
   "id": "08c8271f",
   "metadata": {},
   "outputs": [],
   "source": [
    "import numpy as np"
   ]
  },
  {
   "cell_type": "code",
   "execution_count": 4,
   "id": "076705e7",
   "metadata": {},
   "outputs": [],
   "source": [
    "x = np.array([1,2,3])"
   ]
  },
  {
   "cell_type": "code",
   "execution_count": 10,
   "id": "fc33ff6a",
   "metadata": {},
   "outputs": [],
   "source": [
    "a = 2"
   ]
  },
  {
   "cell_type": "code",
   "execution_count": 6,
   "id": "cb19592d",
   "metadata": {},
   "outputs": [],
   "source": [
    "y = x[a]"
   ]
  },
  {
   "cell_type": "code",
   "execution_count": 7,
   "id": "017c8004",
   "metadata": {},
   "outputs": [],
   "source": [
    "x[0] = 10 "
   ]
  },
  {
   "cell_type": "code",
   "execution_count": null,
   "id": "d086dfec",
   "metadata": {},
   "outputs": [
    {
     "name": "stdout",
     "output_type": "stream",
     "text": [
      "3\n"
     ]
    }
   ],
   "source": [
    "print(x, y)"
   ]
  }
 ],
 "metadata": {
  "ipyflow": {
   "cell_children": {
    "017c8004": [],
    "076705e7": [],
    "08c8271f": [],
    "cb19592d": [],
    "d086dfec": [],
    "fc33ff6a": []
   },
   "cell_parents": {
    "017c8004": [],
    "076705e7": [],
    "08c8271f": [],
    "cb19592d": [],
    "d086dfec": [],
    "fc33ff6a": []
   }
  },
  "kernelspec": {
   "display_name": "Python 3 (ipyflow)",
   "language": "python",
   "name": "ipyflow"
  },
  "language_info": {
   "codemirror_mode": {
    "name": "ipython",
    "version": 3
   },
   "file_extension": ".py",
   "mimetype": "text/x-python",
   "name": "python",
   "nbconvert_exporter": "python",
   "pygments_lexer": "ipython3",
   "version": "3.13.5"
  }
 },
 "nbformat": 4,
 "nbformat_minor": 5
}
