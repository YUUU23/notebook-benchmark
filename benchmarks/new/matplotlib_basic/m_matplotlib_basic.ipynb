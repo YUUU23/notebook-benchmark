{
 "cells": [
  {
   "cell_type": "code",
   "execution_count": 1,
   "id": "bfad7872-9e75-40b6-8587-efdf11badefb",
   "metadata": {},
   "outputs": [],
   "source": [
    "import matplotlib.pyplot as plt\n",
    "import numpy as np"
   ]
  },
  {
   "cell_type": "code",
   "execution_count": 2,
   "id": "fc4659fc-b3b4-414c-b10a-efc985c0149f",
   "metadata": {},
   "outputs": [],
   "source": [
    "x_label = \"cows\""
   ]
  },
  {
   "cell_type": "code",
   "execution_count": 3,
   "id": "c3eb0d51-21bf-47da-b435-3fa208df96f6",
   "metadata": {},
   "outputs": [],
   "source": [
    "y_label = \"weight\""
   ]
  },
  {
   "cell_type": "code",
   "execution_count": 11,
   "id": "3aeb9791-0b02-47e1-8a0f-529c6d7f7896",
   "metadata": {},
   "outputs": [],
   "source": [
    "x_axis = np.array([1,2,8,9])"
   ]
  },
  {
   "cell_type": "code",
   "execution_count": 5,
   "id": "f9c95c2b-47bc-4b18-a2d0-8e2eeff1d047",
   "metadata": {},
   "outputs": [],
   "source": [
    "y_axis = np.array([8,2,8,9])"
   ]
  },
  {
   "cell_type": "code",
   "execution_count": 1,
   "id": "bb14fbff-7786-42cd-98b0-ae0139e5aead",
   "metadata": {},
   "outputs": [
    {
     "ename": "NameError",
     "evalue": "name 'plt' is not defined",
     "output_type": "error",
     "traceback": [
      "\u001b[31m---------------------------------------------------------------------------\u001b[39m",
      "\u001b[31mNameError\u001b[39m                                 Traceback (most recent call last)",
      "\u001b[36mCell\u001b[39m\u001b[36m \u001b[39m\u001b[32mIn[1]\u001b[39m\u001b[32m, line 1\u001b[39m\n\u001b[32m----> \u001b[39m\u001b[32m1\u001b[39m \u001b[43mplt\u001b[49m.xlabel(x_label)\n\u001b[32m      2\u001b[39m plt.ylabel(y_label)\n\u001b[32m      3\u001b[39m plt.title(\u001b[33m\"\u001b[39m\u001b[33mfarm weight\u001b[39m\u001b[33m\"\u001b[39m)\n",
      "\u001b[31mNameError\u001b[39m: name 'plt' is not defined"
     ]
    }
   ],
   "source": [
    "plt.xlabel(x_label)\n",
    "plt.ylabel(y_label)\n",
    "plt.title(\"farm weight\")\n",
    "plt.plot(x_axis, y_axis, '-')"
   ]
  }
 ],
 "metadata": {
  "ipyflow": {
   "cell_children": {
    "0ab5c4e3-aea4-4840-8998-4a01040b5309": [],
    "11d68bd9-373b-4ebc-95f8-14dcaafc9e2a": [],
    "12405af4-5648-4dbd-b63f-81e8cc63cd73": [],
    "3aeb9791-0b02-47e1-8a0f-529c6d7f7896": [],
    "4e7d2e87-76a5-4414-996b-400b0f860479": [],
    "5d43b4c9-c991-4608-9abf-93deae5898ee": [],
    "78b30a3b-3342-4473-bd5c-7afc09f49b08": [],
    "9d6e6a30-2daf-434c-b653-ba8ac8bbe1ef": [],
    "bb14fbff-7786-42cd-98b0-ae0139e5aead": [],
    "bfad7872-9e75-40b6-8587-efdf11badefb": [
     "3aeb9791-0b02-47e1-8a0f-529c6d7f7896",
     "f9c95c2b-47bc-4b18-a2d0-8e2eeff1d047"
    ],
    "c3eb0d51-21bf-47da-b435-3fa208df96f6": [],
    "c539467c-4d06-44da-b127-fa22b49b3195": [],
    "f9c95c2b-47bc-4b18-a2d0-8e2eeff1d047": [],
    "fc4659fc-b3b4-414c-b10a-efc985c0149f": [
     "bb14fbff-7786-42cd-98b0-ae0139e5aead"
    ]
   },
   "cell_parents": {
    "0ab5c4e3-aea4-4840-8998-4a01040b5309": [],
    "11d68bd9-373b-4ebc-95f8-14dcaafc9e2a": [],
    "12405af4-5648-4dbd-b63f-81e8cc63cd73": [],
    "3aeb9791-0b02-47e1-8a0f-529c6d7f7896": [
     "bfad7872-9e75-40b6-8587-efdf11badefb"
    ],
    "4e7d2e87-76a5-4414-996b-400b0f860479": [],
    "5d43b4c9-c991-4608-9abf-93deae5898ee": [
     "f9c95c2b-47bc-4b18-a2d0-8e2eeff1d047",
     "3aeb9791-0b02-47e1-8a0f-529c6d7f7896",
     "bfad7872-9e75-40b6-8587-efdf11badefb"
    ],
    "78b30a3b-3342-4473-bd5c-7afc09f49b08": [
     "bfad7872-9e75-40b6-8587-efdf11badefb"
    ],
    "9d6e6a30-2daf-434c-b653-ba8ac8bbe1ef": [],
    "bb14fbff-7786-42cd-98b0-ae0139e5aead": [
     "fc4659fc-b3b4-414c-b10a-efc985c0149f"
    ],
    "bfad7872-9e75-40b6-8587-efdf11badefb": [],
    "c3eb0d51-21bf-47da-b435-3fa208df96f6": [],
    "c539467c-4d06-44da-b127-fa22b49b3195": [],
    "f9c95c2b-47bc-4b18-a2d0-8e2eeff1d047": [
     "bfad7872-9e75-40b6-8587-efdf11badefb"
    ],
    "fc4659fc-b3b4-414c-b10a-efc985c0149f": []
   }
  },
  "kernelspec": {
   "display_name": "Python 3 (ipyflow)",
   "language": "python",
   "name": "ipyflow"
  },
  "language_info": {
   "codemirror_mode": {
    "name": "ipython",
    "version": 3
   },
   "file_extension": ".py",
   "mimetype": "text/x-python",
   "name": "python",
   "nbconvert_exporter": "python",
   "pygments_lexer": "ipython3",
   "version": "3.13.5"
  }
 },
 "nbformat": 4,
 "nbformat_minor": 5
}
