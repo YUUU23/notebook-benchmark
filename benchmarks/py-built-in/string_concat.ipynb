{
 "cells": [
  {
   "cell_type": "code",
   "execution_count": null,
   "id": "5ac796e5-c274-484b-8109-d46e13cc18c2",
   "metadata": {},
   "outputs": [],
   "source": [
    "a = \"hi\" "
   ]
  },
  {
   "cell_type": "code",
   "execution_count": null,
   "id": "27b27d54-3aed-4d46-a5cb-afa4a3ae861a",
   "metadata": {},
   "outputs": [],
   "source": [
    "a += \"goodbye\" "
   ]
  },
  {
   "cell_type": "code",
   "execution_count": null,
   "id": "b866b48f-980c-4f42-99a3-3c9ac33a81f3",
   "metadata": {},
   "outputs": [],
   "source": [
    "print(len(a))"
   ]
  }
 ],
 "metadata": {
  "ipyflow": {
   "cell_children": {
    "27b27d54-3aed-4d46-a5cb-afa4a3ae861a": [],
    "5ac796e5-c274-484b-8109-d46e13cc18c2": [],
    "b866b48f-980c-4f42-99a3-3c9ac33a81f3": []
   },
   "cell_parents": {
    "27b27d54-3aed-4d46-a5cb-afa4a3ae861a": [],
    "5ac796e5-c274-484b-8109-d46e13cc18c2": [],
    "b866b48f-980c-4f42-99a3-3c9ac33a81f3": []
   }
  },
  "kernelspec": {
   "display_name": "Python 3 (ipyflow)",
   "language": "python",
   "name": "ipyflow"
  },
  "language_info": {
   "codemirror_mode": {
    "name": "ipython",
    "version": 3
   },
   "file_extension": ".py",
   "mimetype": "text/x-python",
   "name": "python",
   "nbconvert_exporter": "python",
   "pygments_lexer": "ipython3",
   "version": "3.13.2"
  }
 },
 "nbformat": 4,
 "nbformat_minor": 5
}
