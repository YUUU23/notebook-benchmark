{
 "cells": [
  {
   "cell_type": "code",
   "execution_count": 1,
   "id": "00e15fd7-c6ad-4461-b951-dffce9622a39",
   "metadata": {},
   "outputs": [],
   "source": [
    "a = [1,2,3]"
   ]
  },
  {
   "cell_type": "code",
   "execution_count": 2,
   "id": "8ec409fb-6884-49a6-819f-de83505d343c",
   "metadata": {},
   "outputs": [],
   "source": [
    "b = [2,5,8]"
   ]
  },
  {
   "cell_type": "code",
   "execution_count": 3,
   "id": "ab21ac6a-7be0-4b91-b20e-e22735a56650",
   "metadata": {},
   "outputs": [],
   "source": [
    "res = []"
   ]
  },
  {
   "cell_type": "code",
   "execution_count": 4,
   "id": "b23a356c-d09c-4343-bf95-aee7a4349bc7",
   "metadata": {},
   "outputs": [],
   "source": [
    "for i in range(len(a)):\n",
    "    for j in range(len(b)):\n",
    "        res.append(b[i])"
   ]
  },
  {
   "cell_type": "code",
   "execution_count": 5,
   "id": "74dca76f-3fe5-432f-8a9e-252ff69f483d",
   "metadata": {},
   "outputs": [
    {
     "name": "stdout",
     "output_type": "stream",
     "text": [
      "[2, 2, 2, 5, 5, 5, 8, 8, 8]\n"
     ]
    }
   ],
   "source": [
    "print(res)"
   ]
  }
 ],
 "metadata": {
  "ipyflow": {
   "cell_children": {
    "00e15fd7-c6ad-4461-b951-dffce9622a39": [
     "b23a356c-d09c-4343-bf95-aee7a4349bc7"
    ],
    "38433730-1c38-4eaa-9d10-8b37cdc54310": [
     "7fd43cc1-33f1-44bc-82c8-6dfb56b2479f"
    ],
    "74dca76f-3fe5-432f-8a9e-252ff69f483d": [],
    "7fd43cc1-33f1-44bc-82c8-6dfb56b2479f": [
     "74dca76f-3fe5-432f-8a9e-252ff69f483d"
    ],
    "8ec409fb-6884-49a6-819f-de83505d343c": [
     "b23a356c-d09c-4343-bf95-aee7a4349bc7"
    ],
    "ab21ac6a-7be0-4b91-b20e-e22735a56650": [
     "b23a356c-d09c-4343-bf95-aee7a4349bc7"
    ],
    "b23a356c-d09c-4343-bf95-aee7a4349bc7": [
     "74dca76f-3fe5-432f-8a9e-252ff69f483d"
    ]
   },
   "cell_parents": {
    "00e15fd7-c6ad-4461-b951-dffce9622a39": [],
    "38433730-1c38-4eaa-9d10-8b37cdc54310": [
     "b23a356c-d09c-4343-bf95-aee7a4349bc7"
    ],
    "74dca76f-3fe5-432f-8a9e-252ff69f483d": [
     "b23a356c-d09c-4343-bf95-aee7a4349bc7"
    ],
    "7fd43cc1-33f1-44bc-82c8-6dfb56b2479f": [],
    "8ec409fb-6884-49a6-819f-de83505d343c": [],
    "ab21ac6a-7be0-4b91-b20e-e22735a56650": [],
    "b23a356c-d09c-4343-bf95-aee7a4349bc7": [
     "ab21ac6a-7be0-4b91-b20e-e22735a56650",
     "8ec409fb-6884-49a6-819f-de83505d343c",
     "00e15fd7-c6ad-4461-b951-dffce9622a39"
    ]
   }
  },
  "kernelspec": {
   "display_name": "Python 3 (ipyflow)",
   "language": "python",
   "name": "python3"
  },
  "language_info": {
   "codemirror_mode": {
    "name": "ipython",
    "version": 3
   },
   "file_extension": ".py",
   "mimetype": "text/x-python",
   "name": "python",
   "nbconvert_exporter": "python",
   "pygments_lexer": "ipython3",
   "version": "3.13.2"
  }
 },
 "nbformat": 4,
 "nbformat_minor": 5
}
