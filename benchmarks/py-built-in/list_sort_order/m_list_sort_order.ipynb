{
 "cells": [
  {
   "cell_type": "code",
   "execution_count": 1,
   "id": "04eeb982-b34c-4afb-9efe-2dceb8038af7",
   "metadata": {},
   "outputs": [],
   "source": [
    "a = ['c', 'bbbb', 'ca'] "
   ]
  },
  {
   "cell_type": "code",
   "execution_count": 2,
   "id": "a13cbfcc-a1c9-4148-ac24-34311d9be626",
   "metadata": {},
   "outputs": [],
   "source": [
    "a.sort(key=len)"
   ]
  },
  {
   "cell_type": "code",
   "execution_count": 3,
   "id": "a1b5ef7c-2048-486a-a905-57c28dcda14e",
   "metadata": {},
   "outputs": [
    {
     "name": "stdout",
     "output_type": "stream",
     "text": [
      "bbbb\n"
     ]
    }
   ],
   "source": [
    "print(a[-1])"
   ]
  }
 ],
 "metadata": {
  "kernelspec": {
   "display_name": "Python 3 (ipyflow)",
   "language": "python",
   "name": "ipyflow"
  },
  "language_info": {
   "codemirror_mode": {
    "name": "ipython",
    "version": 3
   },
   "file_extension": ".py",
   "mimetype": "text/x-python",
   "name": "python",
   "nbconvert_exporter": "python",
   "pygments_lexer": "ipython3",
   "version": "3.13.2"
  }
 },
 "nbformat": 4,
 "nbformat_minor": 5
}
