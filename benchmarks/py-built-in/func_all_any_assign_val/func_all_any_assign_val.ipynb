{
 "cells": [
  {
   "cell_type": "code",
   "execution_count": 1,
   "id": "69311c0e-9f4f-4697-87c9-f4351832eb3d",
   "metadata": {},
   "outputs": [],
   "source": [
    "l = [False,True,False,False]"
   ]
  },
  {
   "cell_type": "code",
   "execution_count": 2,
   "id": "8b2c0ec9-a56a-4eb0-a31d-216634a01ce9",
   "metadata": {},
   "outputs": [],
   "source": [
    "def return_if_true(l): \n",
    "    if any(l):\n",
    "        return 500\n",
    "    else: \n",
    "        return None"
   ]
  },
  {
   "cell_type": "code",
   "execution_count": 3,
   "id": "a3ca193e-b71c-40e4-8018-3737c1d0f8cd",
   "metadata": {},
   "outputs": [],
   "source": [
    "a = return_if_true(l)"
   ]
  },
  {
   "cell_type": "code",
   "execution_count": 4,
   "id": "ba2e5eb1-ec1c-4942-be4e-6bb16fdbe882",
   "metadata": {},
   "outputs": [
    {
     "name": "stdout",
     "output_type": "stream",
     "text": [
      "500\n"
     ]
    }
   ],
   "source": [
    "print(a)"
   ]
  }
 ],
 "metadata": {
  "ipyflow": {
   "cell_children": {
    "085027de-ee94-4ff9-8957-4dc2fa97f548": [],
    "69311c0e-9f4f-4697-87c9-f4351832eb3d": [
     "a3ca193e-b71c-40e4-8018-3737c1d0f8cd"
    ],
    "6e73a75e-6521-4a6a-8040-9a7e4ac37edc": [],
    "8b2c0ec9-a56a-4eb0-a31d-216634a01ce9": [
     "a3ca193e-b71c-40e4-8018-3737c1d0f8cd"
    ],
    "a3ca193e-b71c-40e4-8018-3737c1d0f8cd": [
     "ba2e5eb1-ec1c-4942-be4e-6bb16fdbe882"
    ],
    "ba2e5eb1-ec1c-4942-be4e-6bb16fdbe882": [],
    "d9227ed6-882b-44f6-97df-59f45b75a9ec": [
     "a3ca193e-b71c-40e4-8018-3737c1d0f8cd"
    ],
    "f2fccb8b-7dd5-4598-8573-c0f5aa10a9ac": [
     "a3ca193e-b71c-40e4-8018-3737c1d0f8cd"
    ]
   },
   "cell_parents": {
    "085027de-ee94-4ff9-8957-4dc2fa97f548": [
     "69311c0e-9f4f-4697-87c9-f4351832eb3d"
    ],
    "69311c0e-9f4f-4697-87c9-f4351832eb3d": [],
    "6e73a75e-6521-4a6a-8040-9a7e4ac37edc": [],
    "8b2c0ec9-a56a-4eb0-a31d-216634a01ce9": [],
    "a3ca193e-b71c-40e4-8018-3737c1d0f8cd": [
     "8b2c0ec9-a56a-4eb0-a31d-216634a01ce9",
     "69311c0e-9f4f-4697-87c9-f4351832eb3d"
    ],
    "ba2e5eb1-ec1c-4942-be4e-6bb16fdbe882": [
     "a3ca193e-b71c-40e4-8018-3737c1d0f8cd"
    ],
    "d9227ed6-882b-44f6-97df-59f45b75a9ec": [
     "69311c0e-9f4f-4697-87c9-f4351832eb3d",
     "8b2c0ec9-a56a-4eb0-a31d-216634a01ce9"
    ],
    "f2fccb8b-7dd5-4598-8573-c0f5aa10a9ac": []
   }
  },
  "kernelspec": {
   "display_name": "Python 3 (ipykernel)",
   "language": "python",
   "name": "python3"
  },
  "language_info": {
   "codemirror_mode": {
    "name": "ipython",
    "version": 3
   },
   "file_extension": ".py",
   "mimetype": "text/x-python",
   "name": "python",
   "nbconvert_exporter": "python",
   "pygments_lexer": "ipython3",
   "version": "3.9.13"
  }
 },
 "nbformat": 4,
 "nbformat_minor": 5
}
