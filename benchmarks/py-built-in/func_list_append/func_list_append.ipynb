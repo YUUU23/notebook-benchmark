{
 "cells": [
  {
   "cell_type": "code",
   "execution_count": 1,
   "id": "8a155049-e9a8-4b23-8f39-03f15532ff78",
   "metadata": {},
   "outputs": [],
   "source": [
    "def f(l):\n",
    "    def g(l): \n",
    "        l.append(30)\n",
    "    g(l)"
   ]
  },
  {
   "cell_type": "code",
   "execution_count": 2,
   "id": "1fe73437-ab35-4bfb-9174-160dd344c929",
   "metadata": {},
   "outputs": [],
   "source": [
    "a = [1,2,3]"
   ]
  },
  {
   "cell_type": "code",
   "execution_count": 3,
   "id": "cdae791d-7958-4e7f-9f91-361d3cc63da2",
   "metadata": {},
   "outputs": [],
   "source": [
    "f(a)"
   ]
  },
  {
   "cell_type": "code",
   "execution_count": 4,
   "id": "c62315d2-b45b-4dd8-950e-ecc76e457ad3",
   "metadata": {},
   "outputs": [
    {
     "name": "stdout",
     "output_type": "stream",
     "text": [
      "[1, 2, 3, 30]\n"
     ]
    }
   ],
   "source": [
    "print(a)"
   ]
  }
 ],
 "metadata": {
  "ipyflow": {
   "cell_children": {
    "1fe73437-ab35-4bfb-9174-160dd344c929": [
     "cdae791d-7958-4e7f-9f91-361d3cc63da2",
     "c62315d2-b45b-4dd8-950e-ecc76e457ad3"
    ],
    "8a155049-e9a8-4b23-8f39-03f15532ff78": [
     "cdae791d-7958-4e7f-9f91-361d3cc63da2"
    ],
    "c62315d2-b45b-4dd8-950e-ecc76e457ad3": [],
    "cdae791d-7958-4e7f-9f91-361d3cc63da2": [
     "c62315d2-b45b-4dd8-950e-ecc76e457ad3"
    ]
   },
   "cell_parents": {
    "1fe73437-ab35-4bfb-9174-160dd344c929": [],
    "8a155049-e9a8-4b23-8f39-03f15532ff78": [],
    "c62315d2-b45b-4dd8-950e-ecc76e457ad3": [
     "cdae791d-7958-4e7f-9f91-361d3cc63da2",
     "1fe73437-ab35-4bfb-9174-160dd344c929"
    ],
    "cdae791d-7958-4e7f-9f91-361d3cc63da2": [
     "1fe73437-ab35-4bfb-9174-160dd344c929",
     "8a155049-e9a8-4b23-8f39-03f15532ff78"
    ]
   }
  },
  "kernelspec": {
   "display_name": "Python 3 (ipyflow)",
   "language": "python",
   "name": "ipyflow"
  },
  "language_info": {
   "codemirror_mode": {
    "name": "ipython",
    "version": 3
   },
   "file_extension": ".py",
   "mimetype": "text/x-python",
   "name": "python",
   "nbconvert_exporter": "python",
   "pygments_lexer": "ipython3",
   "version": "3.13.2"
  }
 },
 "nbformat": 4,
 "nbformat_minor": 5
}
