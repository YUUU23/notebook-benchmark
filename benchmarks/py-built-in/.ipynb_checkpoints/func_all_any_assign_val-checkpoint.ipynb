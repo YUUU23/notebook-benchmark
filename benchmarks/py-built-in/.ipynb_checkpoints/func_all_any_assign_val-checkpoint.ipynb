{
 "cells": [
  {
   "cell_type": "code",
   "execution_count": null,
   "id": "69311c0e-9f4f-4697-87c9-f4351832eb3d",
   "metadata": {},
   "outputs": [],
   "source": []
  }
 ],
 "metadata": {
  "ipyflow": {
   "cell_children": {
    "69311c0e-9f4f-4697-87c9-f4351832eb3d": []
   },
   "cell_parents": {
    "69311c0e-9f4f-4697-87c9-f4351832eb3d": []
   }
  },
  "kernelspec": {
   "display_name": "Python 3 (ipyflow)",
   "language": "python",
   "name": "ipyflow"
  },
  "language_info": {
   "codemirror_mode": {
    "name": "ipython",
    "version": 3
   },
   "file_extension": ".py",
   "mimetype": "text/x-python",
   "name": "python",
   "nbconvert_exporter": "python",
   "pygments_lexer": "ipython3",
   "version": "3.13.2"
  }
 },
 "nbformat": 4,
 "nbformat_minor": 5
}
