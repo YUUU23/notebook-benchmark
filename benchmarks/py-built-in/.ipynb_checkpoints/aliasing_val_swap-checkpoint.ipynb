{
 "cells": [
  {
   "cell_type": "code",
   "execution_count": null,
   "id": "d2189b33-fce6-4453-b1db-eaa4fd626570",
   "metadata": {},
   "outputs": [],
   "source": []
  }
 ],
 "metadata": {
  "ipyflow": {
   "cell_children": {
    "d2189b33-fce6-4453-b1db-eaa4fd626570": []
   },
   "cell_parents": {
    "d2189b33-fce6-4453-b1db-eaa4fd626570": []
   }
  },
  "kernelspec": {
   "display_name": "Python 3 (ipyflow)",
   "language": "python",
   "name": "ipyflow"
  },
  "language_info": {
   "codemirror_mode": {
    "name": "ipython",
    "version": 3
   },
   "file_extension": ".py",
   "mimetype": "text/x-python",
   "name": "python",
   "nbconvert_exporter": "python",
   "pygments_lexer": "ipython3",
   "version": "3.13.2"
  }
 },
 "nbformat": 4,
 "nbformat_minor": 5
}
