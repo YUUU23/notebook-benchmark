{
 "cells": [
  {
   "cell_type": "code",
   "execution_count": 13,
   "id": "69311c0e-9f4f-4697-87c9-f4351832eb3d",
   "metadata": {},
   "outputs": [],
   "source": [
    "l = [3,4,5,6]"
   ]
  },
  {
   "cell_type": "code",
   "execution_count": 14,
   "id": "8b2c0ec9-a56a-4eb0-a31d-216634a01ce9",
   "metadata": {},
   "outputs": [],
   "source": [
    "l.append(9)"
   ]
  },
  {
   "cell_type": "code",
   "execution_count": 15,
   "id": "d9227ed6-882b-44f6-97df-59f45b75a9ec",
   "metadata": {},
   "outputs": [],
   "source": [
    "l = list(filter(lambda x: x % 2 != 0, l))"
   ]
  },
  {
   "cell_type": "code",
   "execution_count": 16,
   "id": "a3ca193e-b71c-40e4-8018-3737c1d0f8cd",
   "metadata": {},
   "outputs": [
    {
     "name": "stdout",
     "output_type": "stream",
     "text": [
      "[3, 5, 9]\n"
     ]
    }
   ],
   "source": [
    "print(l)"
   ]
  }
 ],
 "metadata": {
  "ipyflow": {
   "cell_children": {
    "69311c0e-9f4f-4697-87c9-f4351832eb3d": [
     "d9227ed6-882b-44f6-97df-59f45b75a9ec",
     "8b2c0ec9-a56a-4eb0-a31d-216634a01ce9"
    ],
    "8b2c0ec9-a56a-4eb0-a31d-216634a01ce9": [
     "d9227ed6-882b-44f6-97df-59f45b75a9ec"
    ],
    "a3ca193e-b71c-40e4-8018-3737c1d0f8cd": [],
    "d9227ed6-882b-44f6-97df-59f45b75a9ec": [
     "a3ca193e-b71c-40e4-8018-3737c1d0f8cd"
    ]
   },
   "cell_parents": {
    "69311c0e-9f4f-4697-87c9-f4351832eb3d": [],
    "8b2c0ec9-a56a-4eb0-a31d-216634a01ce9": [
     "69311c0e-9f4f-4697-87c9-f4351832eb3d"
    ],
    "a3ca193e-b71c-40e4-8018-3737c1d0f8cd": [
     "d9227ed6-882b-44f6-97df-59f45b75a9ec"
    ],
    "d9227ed6-882b-44f6-97df-59f45b75a9ec": [
     "69311c0e-9f4f-4697-87c9-f4351832eb3d",
     "8b2c0ec9-a56a-4eb0-a31d-216634a01ce9"
    ]
   }
  },
  "kernelspec": {
   "display_name": "Python 3 (ipyflow)",
   "language": "python",
   "name": "ipyflow"
  },
  "language_info": {
   "codemirror_mode": {
    "name": "ipython",
    "version": 3
   },
   "file_extension": ".py",
   "mimetype": "text/x-python",
   "name": "python",
   "nbconvert_exporter": "python",
   "pygments_lexer": "ipython3",
   "version": "3.13.2"
  }
 },
 "nbformat": 4,
 "nbformat_minor": 5
}
