{
 "cells": [
  {
   "cell_type": "code",
   "execution_count": null,
   "id": "df6f6081-68cb-463f-b9cc-620204ba9626",
   "metadata": {},
   "outputs": [],
   "source": []
  }
 ],
 "metadata": {
  "ipyflow": {
   "cell_children": {
    "df6f6081-68cb-463f-b9cc-620204ba9626": []
   },
   "cell_parents": {
    "df6f6081-68cb-463f-b9cc-620204ba9626": []
   }
  },
  "kernelspec": {
   "display_name": "Python 3 (ipyflow)",
   "language": "python",
   "name": "ipyflow"
  },
  "language_info": {
   "codemirror_mode": {
    "name": "ipython",
    "version": 3
   },
   "file_extension": ".py",
   "mimetype": "text/x-python",
   "name": "python",
   "nbconvert_exporter": "python",
   "pygments_lexer": "ipython3",
   "version": "3.13.2"
  }
 },
 "nbformat": 4,
 "nbformat_minor": 5
}
