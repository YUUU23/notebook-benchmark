{
 "cells": [
  {
   "cell_type": "code",
   "execution_count": null,
   "id": "d9e8c423-6433-4991-95e5-1d7df9f73829",
   "metadata": {},
   "outputs": [],
   "source": [
    "m = {'a': 3, 'b': 2, 'c':1}"
   ]
  },
  {
   "cell_type": "code",
   "execution_count": null,
   "id": "e8a06764-1e26-4efb-9d14-b7d4c735cbd3",
   "metadata": {},
   "outputs": [],
   "source": [
    "m['c'] = 10"
   ]
  },
  {
   "cell_type": "code",
   "execution_count": null,
   "id": "a85b1c88-4409-4fba-9b76-d766598b02ae",
   "metadata": {},
   "outputs": [],
   "source": [
    "m['a'] = m['c']"
   ]
  },
  {
   "cell_type": "code",
   "execution_count": null,
   "id": "ae296764-b983-44e8-a9aa-79a57809c000",
   "metadata": {},
   "outputs": [],
   "source": [
    "print(m)"
   ]
  }
 ],
 "metadata": {
  "ipyflow": {
   "cell_children": {
    "a85b1c88-4409-4fba-9b76-d766598b02ae": [
     "ae296764-b983-44e8-a9aa-79a57809c000"
    ],
    "ae296764-b983-44e8-a9aa-79a57809c000": [],
    "be7a3dc1-a955-412d-b167-27e7a479172e": [],
    "d9e8c423-6433-4991-95e5-1d7df9f73829": [
     "a85b1c88-4409-4fba-9b76-d766598b02ae",
     "e8a06764-1e26-4efb-9d14-b7d4c735cbd3",
     "ae296764-b983-44e8-a9aa-79a57809c000"
    ],
    "e8a06764-1e26-4efb-9d14-b7d4c735cbd3": [
     "a85b1c88-4409-4fba-9b76-d766598b02ae",
     "ae296764-b983-44e8-a9aa-79a57809c000"
    ]
   },
   "cell_parents": {
    "a85b1c88-4409-4fba-9b76-d766598b02ae": [
     "d9e8c423-6433-4991-95e5-1d7df9f73829",
     "e8a06764-1e26-4efb-9d14-b7d4c735cbd3"
    ],
    "ae296764-b983-44e8-a9aa-79a57809c000": [
     "d9e8c423-6433-4991-95e5-1d7df9f73829",
     "e8a06764-1e26-4efb-9d14-b7d4c735cbd3",
     "a85b1c88-4409-4fba-9b76-d766598b02ae"
    ],
    "be7a3dc1-a955-412d-b167-27e7a479172e": [],
    "d9e8c423-6433-4991-95e5-1d7df9f73829": [],
    "e8a06764-1e26-4efb-9d14-b7d4c735cbd3": [
     "d9e8c423-6433-4991-95e5-1d7df9f73829"
    ]
   }
  },
  "kernelspec": {
   "display_name": "Python 3 (ipyflow)",
   "language": "python",
   "name": "ipyflow"
  },
  "language_info": {
   "codemirror_mode": {
    "name": "ipython",
    "version": 3
   },
   "file_extension": ".py",
   "mimetype": "text/x-python",
   "name": "python",
   "nbconvert_exporter": "python",
   "pygments_lexer": "ipython3",
   "version": "3.13.2"
  }
 },
 "nbformat": 4,
 "nbformat_minor": 5
}
