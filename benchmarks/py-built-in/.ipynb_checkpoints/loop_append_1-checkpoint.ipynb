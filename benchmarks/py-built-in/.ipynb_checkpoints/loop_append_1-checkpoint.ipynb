{
 "cells": [
  {
   "cell_type": "code",
   "execution_count": null,
   "id": "495291b9-a857-45f0-a8c0-7406de1768f1",
   "metadata": {},
   "outputs": [],
   "source": [
    "x = {'a': [], 'b': []}"
   ]
  },
  {
   "cell_type": "code",
   "execution_count": null,
   "id": "162dce08-831a-463b-8131-b5188b55fc73",
   "metadata": {},
   "outputs": [],
   "source": [
    "for (_, l) in x.items():\n",
    "    l.append(0)"
   ]
  },
  {
   "cell_type": "code",
   "execution_count": null,
   "id": "3d2271cd-2564-45df-ab55-7eff2c27d264",
   "metadata": {},
   "outputs": [],
   "source": [
    "z = x['b']"
   ]
  },
  {
   "cell_type": "code",
   "execution_count": null,
   "id": "24865864-956e-4a77-baa0-fcb84a9f2dca",
   "metadata": {},
   "outputs": [],
   "source": [
    "print(z)"
   ]
  }
 ],
 "metadata": {
  "kernelspec": {
   "display_name": "Python 3 (ipyflow)",
   "language": "python",
   "name": "ipyflow"
  },
  "language_info": {
   "codemirror_mode": {
    "name": "ipython",
    "version": 3
   },
   "file_extension": ".py",
   "mimetype": "text/x-python",
   "name": "python",
   "nbconvert_exporter": "python",
   "pygments_lexer": "ipython3",
   "version": "3.13.2"
  }
 },
 "nbformat": 4,
 "nbformat_minor": 5
}
