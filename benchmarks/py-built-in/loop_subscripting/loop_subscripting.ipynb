{
 "cells": [
  {
   "cell_type": "code",
   "execution_count": 1,
   "id": "1b50d2dc-1669-43fa-8d19-ffaf3b51c4ac",
   "metadata": {},
   "outputs": [],
   "source": [
    "a = [1,2,3,4]"
   ]
  },
  {
   "cell_type": "code",
   "execution_count": 2,
   "id": "75a5cfa1-15f9-410c-b6a3-f20a50316db9",
   "metadata": {},
   "outputs": [],
   "source": [
    "for i in range(len(a)):\n",
    "    a[i] = 2"
   ]
  },
  {
   "cell_type": "code",
   "execution_count": 3,
   "id": "0d4723cf-5d0a-4d27-abba-f05857229b9c",
   "metadata": {},
   "outputs": [
    {
     "name": "stdout",
     "output_type": "stream",
     "text": [
      "[2, 2, 2, 2]\n"
     ]
    }
   ],
   "source": [
    "print(a)"
   ]
  }
 ],
 "metadata": {
  "ipyflow": {
   "cell_children": {
    "0d4723cf-5d0a-4d27-abba-f05857229b9c": [],
    "1b50d2dc-1669-43fa-8d19-ffaf3b51c4ac": [
     "0d4723cf-5d0a-4d27-abba-f05857229b9c",
     "75a5cfa1-15f9-410c-b6a3-f20a50316db9"
    ],
    "75a5cfa1-15f9-410c-b6a3-f20a50316db9": [
     "0d4723cf-5d0a-4d27-abba-f05857229b9c"
    ]
   },
   "cell_parents": {
    "0d4723cf-5d0a-4d27-abba-f05857229b9c": [
     "75a5cfa1-15f9-410c-b6a3-f20a50316db9",
     "1b50d2dc-1669-43fa-8d19-ffaf3b51c4ac"
    ],
    "1b50d2dc-1669-43fa-8d19-ffaf3b51c4ac": [],
    "75a5cfa1-15f9-410c-b6a3-f20a50316db9": [
     "1b50d2dc-1669-43fa-8d19-ffaf3b51c4ac"
    ]
   }
  },
  "kernelspec": {
   "display_name": "Python 3 (ipyflow)",
   "language": "python",
   "name": "python3"
  },
  "language_info": {
   "codemirror_mode": {
    "name": "ipython",
    "version": 3
   },
   "file_extension": ".py",
   "mimetype": "text/x-python",
   "name": "python",
   "nbconvert_exporter": "python",
   "pygments_lexer": "ipython3",
   "version": "3.13.2"
  }
 },
 "nbformat": 4,
 "nbformat_minor": 5
}
