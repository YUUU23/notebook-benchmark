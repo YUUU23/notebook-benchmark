{
 "cells": [
  {
   "cell_type": "code",
   "execution_count": 1,
   "id": "d2189b33-fce6-4453-b1db-eaa4fd626570",
   "metadata": {},
   "outputs": [],
   "source": [
    "a = 9"
   ]
  },
  {
   "cell_type": "code",
   "execution_count": 2,
   "id": "e6938459-866d-4897-b218-94ee2b703f3c",
   "metadata": {},
   "outputs": [],
   "source": [
    "b = 5"
   ]
  },
  {
   "cell_type": "code",
   "execution_count": 3,
   "id": "6d19e947-fae7-4b9a-8464-e8170ffb3060",
   "metadata": {},
   "outputs": [],
   "source": [
    "a, b = b, a"
   ]
  },
  {
   "cell_type": "code",
   "execution_count": 4,
   "id": "a6d52afb-04d6-41b5-8c2d-bdf987873d84",
   "metadata": {},
   "outputs": [
    {
     "name": "stdout",
     "output_type": "stream",
     "text": [
      "a: 5 b: 9\n"
     ]
    }
   ],
   "source": [
    "print(\"a:\", a, \"b:\", b)"
   ]
  }
 ],
 "metadata": {
  "ipyflow": {
   "cell_children": {
    "6d19e947-fae7-4b9a-8464-e8170ffb3060": [
     "a6d52afb-04d6-41b5-8c2d-bdf987873d84"
    ],
    "a6d52afb-04d6-41b5-8c2d-bdf987873d84": [],
    "d2189b33-fce6-4453-b1db-eaa4fd626570": [],
    "e6938459-866d-4897-b218-94ee2b703f3c": [
     "6d19e947-fae7-4b9a-8464-e8170ffb3060"
    ]
   },
   "cell_parents": {
    "6d19e947-fae7-4b9a-8464-e8170ffb3060": [
     "e6938459-866d-4897-b218-94ee2b703f3c"
    ],
    "a6d52afb-04d6-41b5-8c2d-bdf987873d84": [
     "6d19e947-fae7-4b9a-8464-e8170ffb3060"
    ],
    "d2189b33-fce6-4453-b1db-eaa4fd626570": [],
    "e6938459-866d-4897-b218-94ee2b703f3c": []
   }
  },
  "kernelspec": {
   "display_name": "Python 3 (ipyflow)",
   "language": "python",
   "name": "ipyflow"
  },
  "language_info": {
   "codemirror_mode": {
    "name": "ipython",
    "version": 3
   },
   "file_extension": ".py",
   "mimetype": "text/x-python",
   "name": "python",
   "nbconvert_exporter": "python",
   "pygments_lexer": "ipython3",
   "version": "3.13.2"
  }
 },
 "nbformat": 4,
 "nbformat_minor": 5
}
