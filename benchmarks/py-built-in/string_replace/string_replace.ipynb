{
 "cells": [
  {
   "cell_type": "code",
   "execution_count": 19,
   "id": "648b10ff-02d7-408e-b043-dab88e39ee1a",
   "metadata": {},
   "outputs": [],
   "source": [
    "original = \"abbbbbc\""
   ]
  },
  {
   "cell_type": "code",
   "execution_count": 20,
   "id": "8bc2a400-f250-4812-b1d8-326dd15fc1f5",
   "metadata": {},
   "outputs": [],
   "source": [
    "new_string = original.replace('bbbb', 'cba')"
   ]
  },
  {
   "cell_type": "code",
   "execution_count": 21,
   "id": "8f887297-33f1-41f6-bd84-66eebbf43718",
   "metadata": {},
   "outputs": [
    {
     "name": "stdout",
     "output_type": "stream",
     "text": [
      "new: abc | original: abc\n"
     ]
    }
   ],
   "source": [
    "print(\"new:\", new_string, \"| original:\", original)"
   ]
  }
 ],
 "metadata": {
  "ipyflow": {
   "cell_children": {
    "648b10ff-02d7-408e-b043-dab88e39ee1a": [
     "8f887297-33f1-41f6-bd84-66eebbf43718",
     "8bc2a400-f250-4812-b1d8-326dd15fc1f5"
    ],
    "8bc2a400-f250-4812-b1d8-326dd15fc1f5": [
     "8f887297-33f1-41f6-bd84-66eebbf43718"
    ],
    "8f887297-33f1-41f6-bd84-66eebbf43718": []
   },
   "cell_parents": {
    "648b10ff-02d7-408e-b043-dab88e39ee1a": [],
    "8bc2a400-f250-4812-b1d8-326dd15fc1f5": [
     "648b10ff-02d7-408e-b043-dab88e39ee1a"
    ],
    "8f887297-33f1-41f6-bd84-66eebbf43718": [
     "648b10ff-02d7-408e-b043-dab88e39ee1a",
     "8bc2a400-f250-4812-b1d8-326dd15fc1f5"
    ]
   }
  },
  "kernelspec": {
   "display_name": "Python 3 (ipyflow)",
   "language": "python",
   "name": "ipyflow"
  },
  "language_info": {
   "codemirror_mode": {
    "name": "ipython",
    "version": 3
   },
   "file_extension": ".py",
   "mimetype": "text/x-python",
   "name": "python",
   "nbconvert_exporter": "python",
   "pygments_lexer": "ipython3",
   "version": "3.13.2"
  }
 },
 "nbformat": 4,
 "nbformat_minor": 5
}
