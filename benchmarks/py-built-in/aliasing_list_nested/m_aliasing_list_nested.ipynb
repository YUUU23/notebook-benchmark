{
 "cells": [
  {
   "cell_type": "code",
   "execution_count": 1,
   "id": "877f9d5b-ed22-4d6a-be7b-d3af4df42f29",
   "metadata": {},
   "outputs": [],
   "source": [
    "a = [23,19]"
   ]
  },
  {
   "cell_type": "code",
   "execution_count": 2,
   "id": "081922b2-b73a-472f-bd0d-cc501cf867d1",
   "metadata": {},
   "outputs": [],
   "source": [
    "b = [\"a\", \"b\"] "
   ]
  },
  {
   "cell_type": "code",
   "execution_count": 3,
   "id": "6b01ee4f-917c-4baa-a148-32e12dfe0a4b",
   "metadata": {},
   "outputs": [],
   "source": [
    "ll = [a, False, a, b] "
   ]
  },
  {
   "cell_type": "code",
   "execution_count": 4,
   "id": "7e16e1c1-1dc3-4496-9e7c-bf6fb80cad6b",
   "metadata": {},
   "outputs": [],
   "source": [
    "ll[0].append(2025) "
   ]
  },
  {
   "cell_type": "code",
   "execution_count": 5,
   "id": "adb4b2a4-a233-404e-abdf-a7ae94f881cc",
   "metadata": {},
   "outputs": [
    {
     "name": "stdout",
     "output_type": "stream",
     "text": [
      "[[23, 19, 2025], False, [23, 19, 2025], ['a', 'b']]\n"
     ]
    }
   ],
   "source": [
    "print(ll)"
   ]
  },
  {
   "cell_type": "code",
   "execution_count": 6,
   "id": "1df3de5c-bb03-4616-a0d6-9d7b1d4fe12f",
   "metadata": {},
   "outputs": [
    {
     "name": "stdout",
     "output_type": "stream",
     "text": [
      "['a', 'b']\n"
     ]
    }
   ],
   "source": [
    "print(b)"
   ]
  },
  {
   "cell_type": "code",
   "execution_count": 7,
   "id": "2571b6dd-9861-42b6-9901-2281e5d90cd3",
   "metadata": {},
   "outputs": [
    {
     "name": "stdout",
     "output_type": "stream",
     "text": [
      "[23, 19, 2025]\n"
     ]
    }
   ],
   "source": [
    "print(a)"
   ]
  }
 ],
 "metadata": {
  "ipyflow": {
   "cell_children": {
    "081922b2-b73a-472f-bd0d-cc501cf867d1": [
     "1df3de5c-bb03-4616-a0d6-9d7b1d4fe12f",
     "6b01ee4f-917c-4baa-a148-32e12dfe0a4b"
    ],
    "1df3de5c-bb03-4616-a0d6-9d7b1d4fe12f": [],
    "2571b6dd-9861-42b6-9901-2281e5d90cd3": [],
    "6b01ee4f-917c-4baa-a148-32e12dfe0a4b": [
     "1df3de5c-bb03-4616-a0d6-9d7b1d4fe12f",
     "2571b6dd-9861-42b6-9901-2281e5d90cd3",
     "adb4b2a4-a233-404e-abdf-a7ae94f881cc",
     "7e16e1c1-1dc3-4496-9e7c-bf6fb80cad6b"
    ],
    "7e16e1c1-1dc3-4496-9e7c-bf6fb80cad6b": [
     "2571b6dd-9861-42b6-9901-2281e5d90cd3",
     "adb4b2a4-a233-404e-abdf-a7ae94f881cc"
    ],
    "877f9d5b-ed22-4d6a-be7b-d3af4df42f29": [
     "2571b6dd-9861-42b6-9901-2281e5d90cd3",
     "6b01ee4f-917c-4baa-a148-32e12dfe0a4b",
     "7e16e1c1-1dc3-4496-9e7c-bf6fb80cad6b"
    ],
    "adb4b2a4-a233-404e-abdf-a7ae94f881cc": []
   },
   "cell_parents": {
    "081922b2-b73a-472f-bd0d-cc501cf867d1": [],
    "1df3de5c-bb03-4616-a0d6-9d7b1d4fe12f": [
     "6b01ee4f-917c-4baa-a148-32e12dfe0a4b",
     "081922b2-b73a-472f-bd0d-cc501cf867d1"
    ],
    "2571b6dd-9861-42b6-9901-2281e5d90cd3": [
     "6b01ee4f-917c-4baa-a148-32e12dfe0a4b",
     "877f9d5b-ed22-4d6a-be7b-d3af4df42f29",
     "7e16e1c1-1dc3-4496-9e7c-bf6fb80cad6b"
    ],
    "6b01ee4f-917c-4baa-a148-32e12dfe0a4b": [
     "877f9d5b-ed22-4d6a-be7b-d3af4df42f29",
     "081922b2-b73a-472f-bd0d-cc501cf867d1"
    ],
    "7e16e1c1-1dc3-4496-9e7c-bf6fb80cad6b": [
     "877f9d5b-ed22-4d6a-be7b-d3af4df42f29",
     "6b01ee4f-917c-4baa-a148-32e12dfe0a4b"
    ],
    "877f9d5b-ed22-4d6a-be7b-d3af4df42f29": [],
    "adb4b2a4-a233-404e-abdf-a7ae94f881cc": [
     "6b01ee4f-917c-4baa-a148-32e12dfe0a4b",
     "7e16e1c1-1dc3-4496-9e7c-bf6fb80cad6b"
    ]
   }
  },
  "kernelspec": {
   "display_name": "Python 3 (ipyflow)",
   "language": "python",
   "name": "python3"
  },
  "language_info": {
   "codemirror_mode": {
    "name": "ipython",
    "version": 3
   },
   "file_extension": ".py",
   "mimetype": "text/x-python",
   "name": "python",
   "nbconvert_exporter": "python",
   "pygments_lexer": "ipython3",
   "version": "3.13.2"
  }
 },
 "nbformat": 4,
 "nbformat_minor": 5
}
