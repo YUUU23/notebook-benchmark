{
 "cells": [
  {
   "cell_type": "code",
   "execution_count": 1,
   "id": "c5d54cec-5c3d-40d0-a857-41a3d066d91c",
   "metadata": {},
   "outputs": [],
   "source": [
    "class my_class:\n",
    "    a = 999\n",
    "    def change_a(self):\n",
    "        class class_b():\n",
    "            def change_val(self, l, v): \n",
    "                l.append(v + 10)\n",
    "                return l\n",
    "        return class_b()\n",
    "    def change_a_2(self, v):\n",
    "        self.a = v \n",
    "        return "
   ]
  },
  {
   "cell_type": "code",
   "execution_count": 2,
   "id": "5c9cf805-74dd-40b9-b231-1d56932aab5e",
   "metadata": {},
   "outputs": [],
   "source": [
    "l = [3,2,1]\n",
    "v = 10"
   ]
  },
  {
   "cell_type": "code",
   "execution_count": 3,
   "id": "5d9c1a9f-0253-4d55-8ef1-1946964cd9f7",
   "metadata": {},
   "outputs": [],
   "source": [
    "def new_change_a():\n",
    "    class class_b:\n",
    "            def change_val(self, l, v):\n",
    "                l.pop()\n",
    "                return l\n",
    "    return class_b\n",
    "my_class.change_a = new_change_a()"
   ]
  },
  {
   "cell_type": "code",
   "execution_count": 4,
   "id": "a4ce03b0-c855-4cce-8694-8b45a2952d8b",
   "metadata": {},
   "outputs": [
    {
     "name": "stdout",
     "output_type": "stream",
     "text": [
      "999\n"
     ]
    }
   ],
   "source": [
    "print(my_class.a)\n",
    "c_1 = my_class()\n",
    "c_1.change_a_2(my_class().change_a().change_val(l, v))"
   ]
  },
  {
   "cell_type": "code",
   "execution_count": 5,
   "id": "c4ead1f5-eb43-4818-823d-a13c53f1b41c",
   "metadata": {},
   "outputs": [
    {
     "name": "stdout",
     "output_type": "stream",
     "text": [
      "[3, 2]\n"
     ]
    }
   ],
   "source": [
    "print(c_1.a)"
   ]
  }
 ],
 "metadata": {
  "ipyflow": {
   "cell_children": {
    "3c964f8b-777f-4dc1-89a0-cbb0d9479611": [],
    "5c9cf805-74dd-40b9-b231-1d56932aab5e": [
     "a4ce03b0-c855-4cce-8694-8b45a2952d8b",
     "c4ead1f5-eb43-4818-823d-a13c53f1b41c"
    ],
    "5d9c1a9f-0253-4d55-8ef1-1946964cd9f7": [
     "a4ce03b0-c855-4cce-8694-8b45a2952d8b"
    ],
    "a4ce03b0-c855-4cce-8694-8b45a2952d8b": [
     "c4ead1f5-eb43-4818-823d-a13c53f1b41c"
    ],
    "c4ead1f5-eb43-4818-823d-a13c53f1b41c": [],
    "c5d54cec-5c3d-40d0-a857-41a3d066d91c": [
     "5d9c1a9f-0253-4d55-8ef1-1946964cd9f7",
     "a4ce03b0-c855-4cce-8694-8b45a2952d8b"
    ]
   },
   "cell_parents": {
    "3c964f8b-777f-4dc1-89a0-cbb0d9479611": [],
    "5c9cf805-74dd-40b9-b231-1d56932aab5e": [],
    "5d9c1a9f-0253-4d55-8ef1-1946964cd9f7": [
     "c5d54cec-5c3d-40d0-a857-41a3d066d91c"
    ],
    "a4ce03b0-c855-4cce-8694-8b45a2952d8b": [
     "5d9c1a9f-0253-4d55-8ef1-1946964cd9f7",
     "5c9cf805-74dd-40b9-b231-1d56932aab5e",
     "c5d54cec-5c3d-40d0-a857-41a3d066d91c"
    ],
    "c4ead1f5-eb43-4818-823d-a13c53f1b41c": [
     "5c9cf805-74dd-40b9-b231-1d56932aab5e",
     "a4ce03b0-c855-4cce-8694-8b45a2952d8b"
    ],
    "c5d54cec-5c3d-40d0-a857-41a3d066d91c": []
   }
  },
  "kernelspec": {
   "display_name": "Python 3 (ipyflow)",
   "language": "python",
   "name": "ipyflow"
  },
  "language_info": {
   "codemirror_mode": {
    "name": "ipython",
    "version": 3
   },
   "file_extension": ".py",
   "mimetype": "text/x-python",
   "name": "python",
   "nbconvert_exporter": "python",
   "pygments_lexer": "ipython3",
   "version": "3.13.2"
  }
 },
 "nbformat": 4,
 "nbformat_minor": 5
}
