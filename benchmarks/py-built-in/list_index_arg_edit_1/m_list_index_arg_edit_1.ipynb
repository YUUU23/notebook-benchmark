{
 "cells": [
  {
   "cell_type": "code",
   "execution_count": 1,
   "id": "627aaf91-2ffa-4a1a-af9d-7fd482315c9e",
   "metadata": {},
   "outputs": [],
   "source": [
    "x = [1,2,3]"
   ]
  },
  {
   "cell_type": "code",
   "execution_count": 2,
   "id": "b070cd7c-9129-4737-9c7a-bfec27c2056d",
   "metadata": {},
   "outputs": [],
   "source": [
    "a = 4"
   ]
  },
  {
   "cell_type": "code",
   "execution_count": 3,
   "id": "cd7b6f6b-8b75-4054-bdd8-9b7b7fb679de",
   "metadata": {},
   "outputs": [],
   "source": [
    "x.append(a + 2)"
   ]
  },
  {
   "cell_type": "code",
   "execution_count": 4,
   "id": "c40b517e-49df-4b7a-9a8d-9c0a067ea895",
   "metadata": {},
   "outputs": [
    {
     "name": "stdout",
     "output_type": "stream",
     "text": [
      "[1, 2, 3, 6]\n"
     ]
    }
   ],
   "source": [
    "print(x)"
   ]
  }
 ],
 "metadata": {
  "kernelspec": {
   "display_name": "Python 3 (ipykernel)",
   "language": "python",
   "name": "python3"
  },
  "language_info": {
   "codemirror_mode": {
    "name": "ipython",
    "version": 3
   },
   "file_extension": ".py",
   "mimetype": "text/x-python",
   "name": "python",
   "nbconvert_exporter": "python",
   "pygments_lexer": "ipython3",
   "version": "3.13.5"
  }
 },
 "nbformat": 4,
 "nbformat_minor": 5
}
