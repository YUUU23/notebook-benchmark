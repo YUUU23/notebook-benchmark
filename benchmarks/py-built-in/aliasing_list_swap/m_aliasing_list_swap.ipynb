{
 "cells": [
  {
   "cell_type": "code",
   "execution_count": 1,
   "id": "d2189b33-fce6-4453-b1db-eaa4fd626570",
   "metadata": {},
   "outputs": [],
   "source": [
    "a = [1,2,3]"
   ]
  },
  {
   "cell_type": "code",
   "execution_count": 2,
   "id": "e6938459-866d-4897-b218-94ee2b703f3c",
   "metadata": {},
   "outputs": [],
   "source": [
    "b = [4,5,6]"
   ]
  },
  {
   "cell_type": "code",
   "execution_count": 3,
   "id": "6d19e947-fae7-4b9a-8464-e8170ffb3060",
   "metadata": {},
   "outputs": [],
   "source": [
    "a, b = b, a"
   ]
  },
  {
   "cell_type": "code",
   "execution_count": 4,
   "id": "f41ad4cc-9595-410b-ae07-94808ca9fbe6",
   "metadata": {},
   "outputs": [],
   "source": [
    "b.append(6)"
   ]
  },
  {
   "cell_type": "code",
   "execution_count": 5,
   "id": "a6d52afb-04d6-41b5-8c2d-bdf987873d84",
   "metadata": {},
   "outputs": [
    {
     "name": "stdout",
     "output_type": "stream",
     "text": [
      "a: [4, 5, 6] b: [1, 2, 3, 6]\n"
     ]
    }
   ],
   "source": [
    "print(\"a:\", a, \"b:\", b)"
   ]
  }
 ],
 "metadata": {
  "ipyflow": {
   "cell_children": {
    "6d19e947-fae7-4b9a-8464-e8170ffb3060": [
     "f41ad4cc-9595-410b-ae07-94808ca9fbe6",
     "a6d52afb-04d6-41b5-8c2d-bdf987873d84"
    ],
    "91a74998-5eaa-4f61-87f2-d283c3bbdcf5": [],
    "a6d52afb-04d6-41b5-8c2d-bdf987873d84": [],
    "d2189b33-fce6-4453-b1db-eaa4fd626570": [],
    "e6938459-866d-4897-b218-94ee2b703f3c": [
     "6d19e947-fae7-4b9a-8464-e8170ffb3060"
    ],
    "f41ad4cc-9595-410b-ae07-94808ca9fbe6": [
     "a6d52afb-04d6-41b5-8c2d-bdf987873d84"
    ]
   },
   "cell_parents": {
    "6d19e947-fae7-4b9a-8464-e8170ffb3060": [
     "e6938459-866d-4897-b218-94ee2b703f3c"
    ],
    "91a74998-5eaa-4f61-87f2-d283c3bbdcf5": [],
    "a6d52afb-04d6-41b5-8c2d-bdf987873d84": [
     "f41ad4cc-9595-410b-ae07-94808ca9fbe6",
     "6d19e947-fae7-4b9a-8464-e8170ffb3060"
    ],
    "d2189b33-fce6-4453-b1db-eaa4fd626570": [],
    "e6938459-866d-4897-b218-94ee2b703f3c": [],
    "f41ad4cc-9595-410b-ae07-94808ca9fbe6": [
     "6d19e947-fae7-4b9a-8464-e8170ffb3060"
    ]
   }
  },
  "kernelspec": {
   "display_name": "Python 3 (ipyflow)",
   "language": "python",
   "name": "python3"
  },
  "language_info": {
   "codemirror_mode": {
    "name": "ipython",
    "version": 3
   },
   "file_extension": ".py",
   "mimetype": "text/x-python",
   "name": "python",
   "nbconvert_exporter": "python",
   "pygments_lexer": "ipython3",
   "version": "3.13.2"
  }
 },
 "nbformat": 4,
 "nbformat_minor": 5
}
