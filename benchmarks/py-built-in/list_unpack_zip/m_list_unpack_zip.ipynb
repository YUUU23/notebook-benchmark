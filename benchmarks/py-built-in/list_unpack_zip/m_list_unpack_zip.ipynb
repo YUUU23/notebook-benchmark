{
 "cells": [
  {
   "cell_type": "code",
   "execution_count": 1,
   "id": "eefa827d-a662-4a15-a42f-2fdb3637d61c",
   "metadata": {},
   "outputs": [],
   "source": [
    "zipped = [('a', 9), ('c', 92), ('c', 78)]"
   ]
  },
  {
   "cell_type": "code",
   "execution_count": 2,
   "id": "70497b21-155f-4c30-911b-430c629a7394",
   "metadata": {},
   "outputs": [],
   "source": [
    "l1, l2 = zip(*zipped)"
   ]
  },
  {
   "cell_type": "code",
   "execution_count": 3,
   "id": "68f09092-6663-447e-84c0-d342a60bb48a",
   "metadata": {},
   "outputs": [
    {
     "name": "stdout",
     "output_type": "stream",
     "text": [
      "('a', 'c', 'c')\n"
     ]
    }
   ],
   "source": [
    "print(l1)"
   ]
  },
  {
   "cell_type": "code",
   "execution_count": 4,
   "id": "20e152af-1e58-47fe-b2b5-0209bf3b1b67",
   "metadata": {},
   "outputs": [
    {
     "name": "stdout",
     "output_type": "stream",
     "text": [
      "(9, 92, 78)\n"
     ]
    }
   ],
   "source": [
    "print(l2)"
   ]
  },
  {
   "cell_type": "code",
   "execution_count": 5,
   "id": "3ad1759d-59dc-4609-a817-492790565f88",
   "metadata": {},
   "outputs": [],
   "source": [
    "zipped = zip(l1, l2)"
   ]
  },
  {
   "cell_type": "code",
   "execution_count": 6,
   "id": "26a793f4-5627-4b46-b004-17141706ad54",
   "metadata": {},
   "outputs": [
    {
     "name": "stdout",
     "output_type": "stream",
     "text": [
      "[('a', 9), ('c', 92), ('c', 78)]\n"
     ]
    }
   ],
   "source": [
    "print(list(zipped))"
   ]
  }
 ],
 "metadata": {
  "ipyflow": {
   "cell_children": {
    "20e152af-1e58-47fe-b2b5-0209bf3b1b67": [],
    "26a793f4-5627-4b46-b004-17141706ad54": [],
    "3ad1759d-59dc-4609-a817-492790565f88": [
     "26a793f4-5627-4b46-b004-17141706ad54"
    ],
    "68f09092-6663-447e-84c0-d342a60bb48a": [],
    "70497b21-155f-4c30-911b-430c629a7394": [
     "3ad1759d-59dc-4609-a817-492790565f88",
     "68f09092-6663-447e-84c0-d342a60bb48a",
     "20e152af-1e58-47fe-b2b5-0209bf3b1b67"
    ],
    "eefa827d-a662-4a15-a42f-2fdb3637d61c": [
     "70497b21-155f-4c30-911b-430c629a7394"
    ]
   },
   "cell_parents": {
    "20e152af-1e58-47fe-b2b5-0209bf3b1b67": [
     "70497b21-155f-4c30-911b-430c629a7394"
    ],
    "26a793f4-5627-4b46-b004-17141706ad54": [
     "3ad1759d-59dc-4609-a817-492790565f88"
    ],
    "3ad1759d-59dc-4609-a817-492790565f88": [
     "70497b21-155f-4c30-911b-430c629a7394"
    ],
    "68f09092-6663-447e-84c0-d342a60bb48a": [
     "70497b21-155f-4c30-911b-430c629a7394"
    ],
    "70497b21-155f-4c30-911b-430c629a7394": [
     "eefa827d-a662-4a15-a42f-2fdb3637d61c"
    ],
    "eefa827d-a662-4a15-a42f-2fdb3637d61c": []
   }
  },
  "kernelspec": {
   "display_name": "Python 3 (ipyflow)",
   "language": "python",
   "name": "python3"
  },
  "language_info": {
   "codemirror_mode": {
    "name": "ipython",
    "version": 3
   },
   "file_extension": ".py",
   "mimetype": "text/x-python",
   "name": "python",
   "nbconvert_exporter": "python",
   "pygments_lexer": "ipython3",
   "version": "3.13.2"
  }
 },
 "nbformat": 4,
 "nbformat_minor": 5
}
