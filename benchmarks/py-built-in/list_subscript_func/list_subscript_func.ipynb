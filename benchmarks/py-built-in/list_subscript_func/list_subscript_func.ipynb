{
 "cells": [
  {
   "cell_type": "code",
   "execution_count": 1,
   "id": "495291b9-a857-45f0-a8c0-7406de1768f1",
   "metadata": {},
   "outputs": [],
   "source": [
    "a = [1,2,3]"
   ]
  },
  {
   "cell_type": "code",
   "execution_count": 2,
   "id": "162dce08-831a-463b-8131-b5188b55fc73",
   "metadata": {},
   "outputs": [],
   "source": [
    "def f(): \n",
    "    return 0"
   ]
  },
  {
   "cell_type": "code",
   "execution_count": 3,
   "id": "3d2271cd-2564-45df-ab55-7eff2c27d264",
   "metadata": {},
   "outputs": [
    {
     "name": "stdout",
     "output_type": "stream",
     "text": [
      "2\n"
     ]
    }
   ],
   "source": [
    "print(a[f()] + 1)"
   ]
  }
 ],
 "metadata": {
  "ipyflow": {
   "cell_children": {
    "162dce08-831a-463b-8131-b5188b55fc73": [
     "3d2271cd-2564-45df-ab55-7eff2c27d264"
    ],
    "3d2271cd-2564-45df-ab55-7eff2c27d264": [],
    "495291b9-a857-45f0-a8c0-7406de1768f1": [
     "3d2271cd-2564-45df-ab55-7eff2c27d264"
    ]
   },
   "cell_parents": {
    "162dce08-831a-463b-8131-b5188b55fc73": [],
    "3d2271cd-2564-45df-ab55-7eff2c27d264": [
     "162dce08-831a-463b-8131-b5188b55fc73",
     "495291b9-a857-45f0-a8c0-7406de1768f1"
    ],
    "495291b9-a857-45f0-a8c0-7406de1768f1": []
   }
  },
  "kernelspec": {
   "display_name": "Python 3 (ipyflow)",
   "language": "python",
   "name": "ipyflow"
  },
  "language_info": {
   "codemirror_mode": {
    "name": "ipython",
    "version": 3
   },
   "file_extension": ".py",
   "mimetype": "text/x-python",
   "name": "python",
   "nbconvert_exporter": "python",
   "pygments_lexer": "ipython3",
   "version": "3.13.2"
  }
 },
 "nbformat": 4,
 "nbformat_minor": 5
}
