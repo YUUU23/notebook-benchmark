{
 "cells": [
  {
   "cell_type": "code",
   "execution_count": 1,
   "id": "d512e36d-78e6-4842-81bf-47eb5b1877d7",
   "metadata": {},
   "outputs": [],
   "source": [
    "a = [1,2,3]"
   ]
  },
  {
   "cell_type": "code",
   "execution_count": 2,
   "id": "1dbc23af-e3c1-422c-8e3b-534f8a725c2a",
   "metadata": {},
   "outputs": [],
   "source": [
    "b = a"
   ]
  },
  {
   "cell_type": "code",
   "execution_count": 3,
   "id": "5a9c620f-e0bb-4123-8f82-19313fab4874",
   "metadata": {},
   "outputs": [],
   "source": [
    "b = 5"
   ]
  },
  {
   "cell_type": "code",
   "execution_count": 4,
   "id": "3755c630-f1e5-4118-ab13-8b59a5ff866e",
   "metadata": {},
   "outputs": [
    {
     "name": "stdout",
     "output_type": "stream",
     "text": [
      "[1, 2, 3] 5\n"
     ]
    }
   ],
   "source": [
    "print(a,b)"
   ]
  }
 ],
 "metadata": {
  "ipyflow": {
   "cell_children": {
    "1dbc23af-e3c1-422c-8e3b-534f8a725c2a": [
     "3755c630-f1e5-4118-ab13-8b59a5ff866e"
    ],
    "3755c630-f1e5-4118-ab13-8b59a5ff866e": [],
    "5a9c620f-e0bb-4123-8f82-19313fab4874": [
     "3755c630-f1e5-4118-ab13-8b59a5ff866e"
    ],
    "d512e36d-78e6-4842-81bf-47eb5b1877d7": [
     "3755c630-f1e5-4118-ab13-8b59a5ff866e",
     "1dbc23af-e3c1-422c-8e3b-534f8a725c2a"
    ]
   },
   "cell_parents": {
    "1dbc23af-e3c1-422c-8e3b-534f8a725c2a": [
     "d512e36d-78e6-4842-81bf-47eb5b1877d7"
    ],
    "3755c630-f1e5-4118-ab13-8b59a5ff866e": [
     "1dbc23af-e3c1-422c-8e3b-534f8a725c2a",
     "5a9c620f-e0bb-4123-8f82-19313fab4874",
     "d512e36d-78e6-4842-81bf-47eb5b1877d7"
    ],
    "5a9c620f-e0bb-4123-8f82-19313fab4874": [],
    "d512e36d-78e6-4842-81bf-47eb5b1877d7": []
   }
  },
  "kernelspec": {
   "display_name": "Python 3 (ipyflow)",
   "language": "python",
   "name": "python3"
  },
  "language_info": {
   "codemirror_mode": {
    "name": "ipython",
    "version": 3
   },
   "file_extension": ".py",
   "mimetype": "text/x-python",
   "name": "python",
   "nbconvert_exporter": "python",
   "pygments_lexer": "ipython3",
   "version": "3.13.2"
  }
 },
 "nbformat": 4,
 "nbformat_minor": 5
}
