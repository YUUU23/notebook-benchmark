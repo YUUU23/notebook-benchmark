{
 "cells": [
  {
   "cell_type": "code",
   "execution_count": null,
   "id": "b23a356c-d09c-4343-bf95-aee7a4349bc7",
   "metadata": {},
   "outputs": [],
   "source": [
    "def append_to_list(l):\n",
    "    l.append(7)\n",
    "    # Add a second append, cell 2, 3, 4 should rerun\n",
    "    l.append(9)"
   ]
  },
  {
   "cell_type": "code",
   "execution_count": 7,
   "id": "38433730-1c38-4eaa-9d10-8b37cdc54310",
   "metadata": {},
   "outputs": [],
   "source": [
    "b = [3,2,4]"
   ]
  },
  {
   "cell_type": "code",
   "execution_count": 8,
   "id": "19ddc25f-cbeb-407b-b283-ce0fffc3e081",
   "metadata": {},
   "outputs": [],
   "source": [
    "append_to_list(b)"
   ]
  },
  {
   "cell_type": "code",
   "execution_count": 9,
   "id": "7fd43cc1-33f1-44bc-82c8-6dfb56b2479f",
   "metadata": {},
   "outputs": [
    {
     "name": "stdout",
     "output_type": "stream",
     "text": [
      "9 5\n"
     ]
    }
   ],
   "source": [
    "print(b[-1], len(b))"
   ]
  }
 ],
 "metadata": {
  "ipyflow": {
   "cell_children": {
    "19ddc25f-cbeb-407b-b283-ce0fffc3e081": [
     "7fd43cc1-33f1-44bc-82c8-6dfb56b2479f"
    ],
    "38433730-1c38-4eaa-9d10-8b37cdc54310": [
     "19ddc25f-cbeb-407b-b283-ce0fffc3e081",
     "7fd43cc1-33f1-44bc-82c8-6dfb56b2479f"
    ],
    "7fd43cc1-33f1-44bc-82c8-6dfb56b2479f": [],
    "b23a356c-d09c-4343-bf95-aee7a4349bc7": [
     "19ddc25f-cbeb-407b-b283-ce0fffc3e081"
    ]
   },
   "cell_parents": {
    "19ddc25f-cbeb-407b-b283-ce0fffc3e081": [
     "38433730-1c38-4eaa-9d10-8b37cdc54310",
     "b23a356c-d09c-4343-bf95-aee7a4349bc7"
    ],
    "38433730-1c38-4eaa-9d10-8b37cdc54310": [],
    "7fd43cc1-33f1-44bc-82c8-6dfb56b2479f": [
     "19ddc25f-cbeb-407b-b283-ce0fffc3e081",
     "38433730-1c38-4eaa-9d10-8b37cdc54310"
    ],
    "b23a356c-d09c-4343-bf95-aee7a4349bc7": []
   }
  },
  "kernelspec": {
   "display_name": "jupyterlab-ext",
   "language": "python",
   "name": "python3"
  },
  "language_info": {
   "codemirror_mode": {
    "name": "ipython",
    "version": 3
   },
   "file_extension": ".py",
   "mimetype": "text/x-python",
   "name": "python",
   "nbconvert_exporter": "python",
   "pygments_lexer": "ipython3",
   "version": "3.13.3"
  }
 },
 "nbformat": 4,
 "nbformat_minor": 5
}
