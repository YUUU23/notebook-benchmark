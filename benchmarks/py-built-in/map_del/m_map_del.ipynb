{
 "cells": [
  {
   "cell_type": "code",
   "execution_count": 1,
   "id": "d4d2061a-f1c4-42f5-ba42-df29471fca96",
   "metadata": {},
   "outputs": [],
   "source": [
    "m = {}"
   ]
  },
  {
   "cell_type": "code",
   "execution_count": 2,
   "id": "8325d7ac-13b1-459e-a758-02fe75632a08",
   "metadata": {},
   "outputs": [],
   "source": [
    "m['a'] = 30\n",
    "m['b'] = 20\n",
    "m['c'] = 2"
   ]
  },
  {
   "cell_type": "code",
   "execution_count": 3,
   "id": "3723408d-97ce-47db-9d8b-cf872f33bf75",
   "metadata": {},
   "outputs": [],
   "source": [
    "m_2 = m.copy()"
   ]
  },
  {
   "cell_type": "code",
   "execution_count": 4,
   "id": "c726551d-ac38-40e9-8747-94aba28bb907",
   "metadata": {},
   "outputs": [],
   "source": [
    "for k, v in m.items(): \n",
    "    if v > 10: \n",
    "        del m_2[k]"
   ]
  },
  {
   "cell_type": "code",
   "execution_count": 5,
   "id": "489b03e1-84ef-4009-a485-12c1af3e6b13",
   "metadata": {},
   "outputs": [
    {
     "name": "stdout",
     "output_type": "stream",
     "text": [
      "{'c': 2}\n",
      "{'a': 30, 'b': 20, 'c': 2}\n"
     ]
    }
   ],
   "source": [
    "print(m_2)\n",
    "print(m)"
   ]
  }
 ],
 "metadata": {
  "ipyflow": {
   "cell_children": {
    "3723408d-97ce-47db-9d8b-cf872f33bf75": [
     "489b03e1-84ef-4009-a485-12c1af3e6b13",
     "c726551d-ac38-40e9-8747-94aba28bb907"
    ],
    "489b03e1-84ef-4009-a485-12c1af3e6b13": [],
    "8325d7ac-13b1-459e-a758-02fe75632a08": [
     "489b03e1-84ef-4009-a485-12c1af3e6b13",
     "3723408d-97ce-47db-9d8b-cf872f33bf75",
     "c726551d-ac38-40e9-8747-94aba28bb907"
    ],
    "c726551d-ac38-40e9-8747-94aba28bb907": [],
    "d4d2061a-f1c4-42f5-ba42-df29471fca96": [
     "489b03e1-84ef-4009-a485-12c1af3e6b13",
     "8325d7ac-13b1-459e-a758-02fe75632a08",
     "3723408d-97ce-47db-9d8b-cf872f33bf75",
     "c726551d-ac38-40e9-8747-94aba28bb907"
    ]
   },
   "cell_parents": {
    "3723408d-97ce-47db-9d8b-cf872f33bf75": [
     "8325d7ac-13b1-459e-a758-02fe75632a08",
     "d4d2061a-f1c4-42f5-ba42-df29471fca96"
    ],
    "489b03e1-84ef-4009-a485-12c1af3e6b13": [
     "8325d7ac-13b1-459e-a758-02fe75632a08",
     "d4d2061a-f1c4-42f5-ba42-df29471fca96",
     "3723408d-97ce-47db-9d8b-cf872f33bf75"
    ],
    "8325d7ac-13b1-459e-a758-02fe75632a08": [
     "d4d2061a-f1c4-42f5-ba42-df29471fca96"
    ],
    "c726551d-ac38-40e9-8747-94aba28bb907": [
     "8325d7ac-13b1-459e-a758-02fe75632a08",
     "d4d2061a-f1c4-42f5-ba42-df29471fca96",
     "3723408d-97ce-47db-9d8b-cf872f33bf75"
    ],
    "d4d2061a-f1c4-42f5-ba42-df29471fca96": []
   }
  },
  "kernelspec": {
   "display_name": "Python 3 (ipyflow)",
   "language": "python",
   "name": "ipyflow"
  },
  "language_info": {
   "codemirror_mode": {
    "name": "ipython",
    "version": 3
   },
   "file_extension": ".py",
   "mimetype": "text/x-python",
   "name": "python",
   "nbconvert_exporter": "python",
   "pygments_lexer": "ipython3",
   "version": "3.13.2"
  }
 },
 "nbformat": 4,
 "nbformat_minor": 5
}
