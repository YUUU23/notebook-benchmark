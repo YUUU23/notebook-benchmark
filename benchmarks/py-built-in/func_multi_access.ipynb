{
 "cells": [
  {
   "cell_type": "code",
   "execution_count": 3,
   "id": "c5d54cec-5c3d-40d0-a857-41a3d066d91c",
   "metadata": {},
   "outputs": [],
   "source": [
    "class my_class:\n",
    "    a = 999 \n",
    "    class my_class_2:\n",
    "        def ret_my_class(self):\n",
    "            return my_class()\n",
    "        def ret_my_class_2(self):\n",
    "            return my_class"
   ]
  },
  {
   "cell_type": "code",
   "execution_count": 7,
   "id": "a4ce03b0-c855-4cce-8694-8b45a2952d8b",
   "metadata": {},
   "outputs": [
    {
     "data": {
      "text/plain": [
       "999"
      ]
     },
     "execution_count": 7,
     "metadata": {},
     "output_type": "execute_result"
    }
   ],
   "source": [
    "my_class().a"
   ]
  },
  {
   "cell_type": "code",
   "execution_count": 6,
   "id": "c4ead1f5-eb43-4818-823d-a13c53f1b41c",
   "metadata": {},
   "outputs": [
    {
     "ename": "NameError",
     "evalue": "name 'my_class_2' is not defined",
     "output_type": "error",
     "traceback": [
      "\u001b[31m---------------------------------------------------------------------------\u001b[39m",
      "\u001b[31mNameError\u001b[39m                                 Traceback (most recent call last)",
      "\u001b[36mCell\u001b[39m\u001b[36m \u001b[39m\u001b[32mIn[6]\u001b[39m\u001b[32m, line 1\u001b[39m\n\u001b[32m----> \u001b[39m\u001b[32m1\u001b[39m \u001b[43mmy_class_2\u001b[49m.my_class\n",
      "\u001b[31mNameError\u001b[39m: name 'my_class_2' is not defined"
     ]
    }
   ],
   "source": [
    "my_class_2.my_class()"
   ]
  }
 ],
 "metadata": {
  "ipyflow": {
   "cell_children": {
    "a4ce03b0-c855-4cce-8694-8b45a2952d8b": [],
    "c4ead1f5-eb43-4818-823d-a13c53f1b41c": [],
    "c5d54cec-5c3d-40d0-a857-41a3d066d91c": [
     "a4ce03b0-c855-4cce-8694-8b45a2952d8b"
    ]
   },
   "cell_parents": {
    "a4ce03b0-c855-4cce-8694-8b45a2952d8b": [
     "c5d54cec-5c3d-40d0-a857-41a3d066d91c"
    ],
    "c4ead1f5-eb43-4818-823d-a13c53f1b41c": [],
    "c5d54cec-5c3d-40d0-a857-41a3d066d91c": []
   }
  },
  "kernelspec": {
   "display_name": "Python 3 (ipyflow)",
   "language": "python",
   "name": "ipyflow"
  },
  "language_info": {
   "codemirror_mode": {
    "name": "ipython",
    "version": 3
   },
   "file_extension": ".py",
   "mimetype": "text/x-python",
   "name": "python",
   "nbconvert_exporter": "python",
   "pygments_lexer": "ipython3",
   "version": "3.13.2"
  }
 },
 "nbformat": 4,
 "nbformat_minor": 5
}
