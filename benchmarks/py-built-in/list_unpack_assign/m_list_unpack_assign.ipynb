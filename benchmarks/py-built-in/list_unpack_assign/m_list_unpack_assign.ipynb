{
 "cells": [
  {
   "cell_type": "code",
   "execution_count": 1,
   "id": "5f1bb5a6-0656-4205-a63b-aa25a80d21f9",
   "metadata": {},
   "outputs": [
    {
     "name": "stdout",
     "output_type": "stream",
     "text": [
      "0 1 [2, 3, 4, 5, 6]\n"
     ]
    }
   ],
   "source": [
    "a, b, *l, d, _ = range(9)\n",
    "print(a,b,l)"
   ]
  },
  {
   "cell_type": "code",
   "execution_count": 2,
   "id": "5835dfc6-a76d-4328-be26-f7fd5f79a4f7",
   "metadata": {},
   "outputs": [],
   "source": [
    "*c, = l "
   ]
  },
  {
   "cell_type": "code",
   "execution_count": 3,
   "id": "df0d85c7-db12-4863-aa2e-b965747d7535",
   "metadata": {},
   "outputs": [
    {
     "name": "stdout",
     "output_type": "stream",
     "text": [
      "[2, 3, 4, 5, 6]\n"
     ]
    }
   ],
   "source": [
    "print(c)"
   ]
  }
 ],
 "metadata": {
  "ipyflow": {
   "cell_children": {
    "0beccfc5-f37c-4884-9c93-9803ba5f7cc5": [],
    "2ee9084f-5bd3-4d0b-996d-45e11362c0ba": [
     "df0d85c7-db12-4863-aa2e-b965747d7535"
    ],
    "5835dfc6-a76d-4328-be26-f7fd5f79a4f7": [
     "df0d85c7-db12-4863-aa2e-b965747d7535"
    ],
    "5f1bb5a6-0656-4205-a63b-aa25a80d21f9": [
     "5835dfc6-a76d-4328-be26-f7fd5f79a4f7"
    ],
    "d43d55bf-f162-4df7-8d85-968d1412d5cd": [],
    "df0d85c7-db12-4863-aa2e-b965747d7535": []
   },
   "cell_parents": {
    "0beccfc5-f37c-4884-9c93-9803ba5f7cc5": [
     "5f1bb5a6-0656-4205-a63b-aa25a80d21f9"
    ],
    "2ee9084f-5bd3-4d0b-996d-45e11362c0ba": [
     "5835dfc6-a76d-4328-be26-f7fd5f79a4f7"
    ],
    "5835dfc6-a76d-4328-be26-f7fd5f79a4f7": [
     "5f1bb5a6-0656-4205-a63b-aa25a80d21f9"
    ],
    "5f1bb5a6-0656-4205-a63b-aa25a80d21f9": [],
    "d43d55bf-f162-4df7-8d85-968d1412d5cd": [],
    "df0d85c7-db12-4863-aa2e-b965747d7535": [
     "5835dfc6-a76d-4328-be26-f7fd5f79a4f7"
    ]
   }
  },
  "kernelspec": {
   "display_name": "Python 3 (ipyflow)",
   "language": "python",
   "name": "python3"
  },
  "language_info": {
   "codemirror_mode": {
    "name": "ipython",
    "version": 3
   },
   "file_extension": ".py",
   "mimetype": "text/x-python",
   "name": "python",
   "nbconvert_exporter": "python",
   "pygments_lexer": "ipython3",
   "version": "3.13.2"
  }
 },
 "nbformat": 4,
 "nbformat_minor": 5
}
