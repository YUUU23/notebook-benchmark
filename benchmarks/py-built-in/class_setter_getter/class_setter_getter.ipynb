{
 "cells": [
  {
   "cell_type": "code",
   "execution_count": 1,
   "id": "b56a9642-3771-4089-af7f-ac3ac2b71cb9",
   "metadata": {},
   "outputs": [],
   "source": [
    "class my_class:\n",
    "    a = None \n",
    "    def __init__(self, val):\n",
    "        self.a = val\n",
    "    def get_a(self): \n",
    "        return self.a \n",
    "    def set_a(self, val):\n",
    "        self.a = val    "
   ]
  },
  {
   "cell_type": "code",
   "execution_count": 2,
   "id": "0ecc7e18-8f4e-495e-a54b-307cd0d512d3",
   "metadata": {},
   "outputs": [
    {
     "name": "stdout",
     "output_type": "stream",
     "text": [
      "3\n"
     ]
    }
   ],
   "source": [
    "c_1 = my_class(3)\n",
    "print(c_1.get_a())"
   ]
  },
  {
   "cell_type": "code",
   "execution_count": 3,
   "id": "d8c469e4-b984-4ef2-a74b-b18cf110b70a",
   "metadata": {},
   "outputs": [],
   "source": [
    "c_1.set_a(10)"
   ]
  },
  {
   "cell_type": "code",
   "execution_count": 4,
   "id": "3799e0cd-96fe-4279-9ebc-6312f5a53c8a",
   "metadata": {},
   "outputs": [
    {
     "name": "stdout",
     "output_type": "stream",
     "text": [
      "10\n"
     ]
    }
   ],
   "source": [
    "print(c_1.get_a())"
   ]
  }
 ],
 "metadata": {
  "ipyflow": {
   "cell_children": {
    "0ecc7e18-8f4e-495e-a54b-307cd0d512d3": [
     "d8c469e4-b984-4ef2-a74b-b18cf110b70a",
     "3799e0cd-96fe-4279-9ebc-6312f5a53c8a"
    ],
    "3799e0cd-96fe-4279-9ebc-6312f5a53c8a": [],
    "b56a9642-3771-4089-af7f-ac3ac2b71cb9": [
     "d8c469e4-b984-4ef2-a74b-b18cf110b70a",
     "3799e0cd-96fe-4279-9ebc-6312f5a53c8a",
     "0ecc7e18-8f4e-495e-a54b-307cd0d512d3"
    ],
    "d8c469e4-b984-4ef2-a74b-b18cf110b70a": [
     "3799e0cd-96fe-4279-9ebc-6312f5a53c8a"
    ]
   },
   "cell_parents": {
    "0ecc7e18-8f4e-495e-a54b-307cd0d512d3": [
     "b56a9642-3771-4089-af7f-ac3ac2b71cb9"
    ],
    "3799e0cd-96fe-4279-9ebc-6312f5a53c8a": [
     "d8c469e4-b984-4ef2-a74b-b18cf110b70a",
     "0ecc7e18-8f4e-495e-a54b-307cd0d512d3",
     "b56a9642-3771-4089-af7f-ac3ac2b71cb9"
    ],
    "b56a9642-3771-4089-af7f-ac3ac2b71cb9": [],
    "d8c469e4-b984-4ef2-a74b-b18cf110b70a": [
     "0ecc7e18-8f4e-495e-a54b-307cd0d512d3",
     "b56a9642-3771-4089-af7f-ac3ac2b71cb9"
    ]
   }
  },
  "kernelspec": {
   "display_name": "Python 3 (ipyflow)",
   "language": "python",
   "name": "python3"
  },
  "language_info": {
   "codemirror_mode": {
    "name": "ipython",
    "version": 3
   },
   "file_extension": ".py",
   "mimetype": "text/x-python",
   "name": "python",
   "nbconvert_exporter": "python",
   "pygments_lexer": "ipython3",
   "version": "3.13.2"
  }
 },
 "nbformat": 4,
 "nbformat_minor": 5
}
