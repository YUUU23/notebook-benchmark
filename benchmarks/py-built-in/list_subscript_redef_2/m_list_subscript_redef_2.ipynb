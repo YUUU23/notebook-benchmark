{
 "cells": [
  {
   "cell_type": "code",
   "execution_count": 1,
   "id": "d6e5b154",
   "metadata": {},
   "outputs": [],
   "source": [
    "lst = [1,2,3]"
   ]
  },
  {
   "cell_type": "code",
   "execution_count": 2,
   "id": "aec6ee4b",
   "metadata": {},
   "outputs": [],
   "source": [
    "lst[0] = 20"
   ]
  },
  {
   "cell_type": "code",
   "execution_count": 3,
   "id": "372d2f4f",
   "metadata": {},
   "outputs": [
    {
     "name": "stdout",
     "output_type": "stream",
     "text": [
      "2\n"
     ]
    }
   ],
   "source": [
    "print(lst[1])"
   ]
  }
 ],
 "metadata": {
  "ipyflow": {
   "cell_children": {
    "372d2f4f": [],
    "aec6ee4b": [],
    "d6e5b154": [
     "372d2f4f",
     "aec6ee4b"
    ]
   },
   "cell_parents": {
    "372d2f4f": [
     "d6e5b154"
    ],
    "aec6ee4b": [
     "d6e5b154"
    ],
    "d6e5b154": []
   }
  },
  "kernelspec": {
   "display_name": "Python 3 (ipyflow)",
   "language": "python",
   "name": "ipyflow"
  },
  "language_info": {
   "codemirror_mode": {
    "name": "ipython",
    "version": 3
   },
   "file_extension": ".py",
   "mimetype": "text/x-python",
   "name": "python",
   "nbconvert_exporter": "python",
   "pygments_lexer": "ipython3",
   "version": "3.13.5"
  }
 },
 "nbformat": 4,
 "nbformat_minor": 5
}
