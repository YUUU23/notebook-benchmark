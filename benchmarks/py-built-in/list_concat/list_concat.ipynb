{
 "cells": [
  {
   "cell_type": "code",
   "execution_count": 1,
   "id": "1d82a4f9-9cd9-490f-915a-83b6d9d64ae9",
   "metadata": {},
   "outputs": [],
   "source": [
    "a = [1,2,3] "
   ]
  },
  {
   "cell_type": "code",
   "execution_count": 2,
   "id": "6cd2a8b2-f921-4949-a00c-a01959ea3511",
   "metadata": {},
   "outputs": [],
   "source": [
    "a += [3,2,1] "
   ]
  },
  {
   "cell_type": "code",
   "execution_count": 3,
   "id": "13814958-7b62-430c-96b0-a4c86f073186",
   "metadata": {},
   "outputs": [
    {
     "name": "stdout",
     "output_type": "stream",
     "text": [
      "6\n"
     ]
    }
   ],
   "source": [
    "print(len(a))"
   ]
  }
 ],
 "metadata": {
  "ipyflow": {
   "cell_children": {
    "13814958-7b62-430c-96b0-a4c86f073186": [],
    "1d82a4f9-9cd9-490f-915a-83b6d9d64ae9": [],
    "6cd2a8b2-f921-4949-a00c-a01959ea3511": []
   },
   "cell_parents": {
    "13814958-7b62-430c-96b0-a4c86f073186": [],
    "1d82a4f9-9cd9-490f-915a-83b6d9d64ae9": [],
    "6cd2a8b2-f921-4949-a00c-a01959ea3511": []
   }
  },
  "kernelspec": {
   "display_name": "Python 3 (ipyflow)",
   "language": "python",
   "name": "ipyflow"
  },
  "language_info": {
   "codemirror_mode": {
    "name": "ipython",
    "version": 3
   },
   "file_extension": ".py",
   "mimetype": "text/x-python",
   "name": "python",
   "nbconvert_exporter": "python",
   "pygments_lexer": "ipython3",
   "version": "3.13.2"
  }
 },
 "nbformat": 4,
 "nbformat_minor": 5
}
