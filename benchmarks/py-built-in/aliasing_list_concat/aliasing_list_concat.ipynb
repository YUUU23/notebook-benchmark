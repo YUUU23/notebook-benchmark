{
 "cells": [
  {
   "cell_type": "code",
   "execution_count": 1,
   "id": "b23a356c-d09c-4343-bf95-aee7a4349bc7",
   "metadata": {},
   "outputs": [],
   "source": [
    "a = [1,2,3]"
   ]
  },
  {
   "cell_type": "code",
   "execution_count": 2,
   "id": "38433730-1c38-4eaa-9d10-8b37cdc54310",
   "metadata": {},
   "outputs": [],
   "source": [
    "b = a"
   ]
  },
  {
   "cell_type": "code",
   "execution_count": 3,
   "id": "00e15fd7-c6ad-4461-b951-dffce9622a39",
   "metadata": {},
   "outputs": [],
   "source": [
    "a += [1]"
   ]
  },
  {
   "cell_type": "code",
   "execution_count": 4,
   "id": "7fd43cc1-33f1-44bc-82c8-6dfb56b2479f",
   "metadata": {},
   "outputs": [
    {
     "name": "stdout",
     "output_type": "stream",
     "text": [
      "[1, 2, 3, 1]\n"
     ]
    }
   ],
   "source": [
    "print(a)"
   ]
  },
  {
   "cell_type": "code",
   "execution_count": 5,
   "id": "74dca76f-3fe5-432f-8a9e-252ff69f483d",
   "metadata": {},
   "outputs": [
    {
     "name": "stdout",
     "output_type": "stream",
     "text": [
      "[1, 2, 3, 1]\n"
     ]
    }
   ],
   "source": [
    "print(b)"
   ]
  }
 ],
 "metadata": {
  "ipyflow": {
   "cell_children": {
    "00e15fd7-c6ad-4461-b951-dffce9622a39": [
     "7fd43cc1-33f1-44bc-82c8-6dfb56b2479f"
    ],
    "38433730-1c38-4eaa-9d10-8b37cdc54310": [
     "74dca76f-3fe5-432f-8a9e-252ff69f483d"
    ],
    "74dca76f-3fe5-432f-8a9e-252ff69f483d": [],
    "7fd43cc1-33f1-44bc-82c8-6dfb56b2479f": [],
    "b23a356c-d09c-4343-bf95-aee7a4349bc7": [
     "00e15fd7-c6ad-4461-b951-dffce9622a39",
     "7fd43cc1-33f1-44bc-82c8-6dfb56b2479f"
    ]
   },
   "cell_parents": {
    "00e15fd7-c6ad-4461-b951-dffce9622a39": [
     "b23a356c-d09c-4343-bf95-aee7a4349bc7"
    ],
    "38433730-1c38-4eaa-9d10-8b37cdc54310": [],
    "74dca76f-3fe5-432f-8a9e-252ff69f483d": [
     "38433730-1c38-4eaa-9d10-8b37cdc54310"
    ],
    "7fd43cc1-33f1-44bc-82c8-6dfb56b2479f": [
     "00e15fd7-c6ad-4461-b951-dffce9622a39",
     "b23a356c-d09c-4343-bf95-aee7a4349bc7"
    ],
    "b23a356c-d09c-4343-bf95-aee7a4349bc7": []
   }
  },
  "kernelspec": {
   "display_name": "jupyterlab-ext",
   "language": "python",
   "name": "python3"
  },
  "language_info": {
   "codemirror_mode": {
    "name": "ipython",
    "version": 3
   },
   "file_extension": ".py",
   "mimetype": "text/x-python",
   "name": "python",
   "nbconvert_exporter": "python",
   "pygments_lexer": "ipython3",
   "version": "3.13.3"
  }
 },
 "nbformat": 4,
 "nbformat_minor": 5
}
