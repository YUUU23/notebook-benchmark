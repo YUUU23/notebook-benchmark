{
 "cells": [
  {
   "cell_type": "code",
   "execution_count": 1,
   "id": "ab2bb644-93e0-4b79-90fd-1ce2826b37ae",
   "metadata": {
    "tags": []
   },
   "outputs": [],
   "source": [
    "import pandas as pd"
   ]
  },
  {
   "cell_type": "code",
   "execution_count": 2,
   "id": "5ff37b1a-07b1-440e-ae88-8cf6fa758430",
   "metadata": {
    "tags": []
   },
   "outputs": [],
   "source": [
    "df1 = pd.DataFrame({\n",
    "    'A': [1, 2, 3],\n",
    "    'B': [4, 5, 6]\n",
    "})"
   ]
  },
  {
   "cell_type": "code",
   "execution_count": 3,
   "id": "9b4b0380-5cca-4484-880e-eae8dd7bf297",
   "metadata": {
    "tags": []
   },
   "outputs": [],
   "source": [
    "df2 = pd.DataFrame({\n",
    "    'A': [200, 200, 200],\n",
    "    'B': [200, 200, 200]\n",
    "})"
   ]
  },
  {
   "cell_type": "code",
   "execution_count": 4,
   "id": "2301d9d3-076c-4981-9324-b57e85da3481",
   "metadata": {
    "tags": []
   },
   "outputs": [],
   "source": [
    "df2['A'] = [200,None,None]"
   ]
  },
  {
   "cell_type": "code",
   "execution_count": 5,
   "id": "d505fd29-a9a8-4dab-b115-08eb87164e6a",
   "metadata": {
    "tags": []
   },
   "outputs": [],
   "source": [
    "df1.update(df2)"
   ]
  },
  {
   "cell_type": "code",
   "execution_count": 6,
   "id": "a4fb40eb-3c31-47d8-ad48-cc0aa5d4596b",
   "metadata": {
    "tags": []
   },
   "outputs": [
    {
     "name": "stdout",
     "output_type": "stream",
     "text": [
      "     A    B\n",
      "0  200  200\n",
      "1    2  200\n",
      "2    3  200\n"
     ]
    }
   ],
   "source": [
    "print(df1)"
   ]
  }
 ],
 "metadata": {
  "kernelspec": {
   "display_name": "Python 3 (ipyflow)",
   "language": "python",
   "name": "python3"
  },
  "language_info": {
   "codemirror_mode": {
    "name": "ipython",
    "version": 3
   },
   "file_extension": ".py",
   "mimetype": "text/x-python",
   "name": "python",
   "nbconvert_exporter": "python",
   "pygments_lexer": "ipython3",
   "version": "3.13.2"
  }
 },
 "nbformat": 4,
 "nbformat_minor": 5
}
