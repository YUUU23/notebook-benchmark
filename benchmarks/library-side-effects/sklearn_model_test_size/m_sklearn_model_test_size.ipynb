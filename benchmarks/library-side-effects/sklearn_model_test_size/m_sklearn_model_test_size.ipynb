{
 "cells": [
  {
   "cell_type": "code",
   "execution_count": 16,
   "id": "132dd71a-3cce-48d3-aabf-e9c714b515da",
   "metadata": {
    "tags": []
   },
   "outputs": [],
   "source": [
    "import pandas as pd\n",
    "import numpy as np\n",
    "\n",
    "from sklearn.tree import DecisionTreeClassifier\n",
    "from sklearn.datasets import load_breast_cancer\n",
    "from sklearn.model_selection import train_test_split\n",
    "from sklearn.metrics import accuracy_score"
   ]
  },
  {
   "cell_type": "code",
   "execution_count": 5,
   "id": "149c1e08-49df-404f-9321-45f6891f2321",
   "metadata": {
    "tags": []
   },
   "outputs": [],
   "source": [
    "data = load_breast_cancer()\n",
    "X = data.data \n",
    "y = data.target "
   ]
  },
  {
   "cell_type": "code",
   "execution_count": null,
   "id": "d52e625c-811e-44a8-b860-e72dd14a483b",
   "metadata": {
    "tags": []
   },
   "outputs": [],
   "source": [
    "# Change test size of model \n",
    "X_train, X_test, y_train, y_test = train_test_split(X, y, test_size=0.6, random_state=42)"
   ]
  },
  {
   "cell_type": "code",
   "execution_count": 1,
   "id": "365b942d-f6a2-469a-a3db-f8238b89a61e",
   "metadata": {
    "tags": []
   },
   "outputs": [],
   "source": [
    "depths = [1,3,5,20]"
   ]
  },
  {
   "cell_type": "code",
   "execution_count": 32,
   "id": "1b4184d0-674a-40a9-975f-6e9b8ac38c67",
   "metadata": {
    "tags": []
   },
   "outputs": [],
   "source": [
    "def predict_and_get_accuracy(X_train, y_train, X_test, y_test, model, model_name):\n",
    "    y_pred = model.predict(X_test)\n",
    "    accuracy = accuracy_score(y_test, y_pred)\n",
    "    print(f\"Decision Tree Accuracy: {accuracy}\")"
   ]
  },
  {
   "cell_type": "code",
   "execution_count": 33,
   "id": "e27a3610-da1b-482e-a56e-45ceae35fd77",
   "metadata": {
    "tags": []
   },
   "outputs": [],
   "source": [
    "def train(classifier, X, Y): \n",
    "    classifier.fit(X, Y)"
   ]
  },
  {
   "cell_type": "code",
   "execution_count": 34,
   "id": "ea23dc08-fd82-4c95-b3f7-87cfaf9f9c1f",
   "metadata": {
    "tags": []
   },
   "outputs": [
    {
     "name": "stdout",
     "output_type": "stream",
     "text": [
      "DecisionTreeClassifier()\n",
      "Decision Tree Accuracy: 0.9239766081871345\n"
     ]
    }
   ],
   "source": [
    "no_pre_pruning_dtree = DecisionTreeClassifier()\n",
    "train(no_pre_pruning_dtree, X_train.copy(), y_train.copy())\n",
    "print(no_pre_pruning_dtree)\n",
    "predict_and_get_accuracy(X_train.copy(), y_train.copy(), X_test.copy(), y_test.copy(), no_pre_pruning_dtree, 'Decision Tree')"
   ]
  },
  {
   "cell_type": "code",
   "execution_count": 35,
   "id": "d378931e-a986-4e9f-950f-85ee6f141e7d",
   "metadata": {
    "tags": []
   },
   "outputs": [
    {
     "name": "stdout",
     "output_type": "stream",
     "text": [
      "limiting depth to:  1\n",
      "DecisionTreeClassifier(max_depth=1)\n",
      "Decision Tree Accuracy: 0.8947368421052632\n",
      "limiting depth to:  3\n",
      "DecisionTreeClassifier(max_depth=3)\n",
      "Decision Tree Accuracy: 0.9649122807017544\n",
      "limiting depth to:  5\n",
      "DecisionTreeClassifier(max_depth=5)\n",
      "Decision Tree Accuracy: 0.9590643274853801\n",
      "limiting depth to:  20\n",
      "DecisionTreeClassifier(max_depth=20)\n",
      "Decision Tree Accuracy: 0.935672514619883\n"
     ]
    }
   ],
   "source": [
    "for depth in depths:  \n",
    "    print(\"limiting depth to: \", depth)\n",
    "    prune_dtree = DecisionTreeClassifier(max_depth=depth)\n",
    "    print(prune_dtree)\n",
    "    train(prune_dtree, X_train.copy(), y_train.copy())\n",
    "    predict_and_get_accuracy(X_train.copy(), y_train.copy(), X_test.copy(), y_test.copy(), prune_dtree, 'Decision Tree')"
   ]
  }
 ],
 "metadata": {
  "kernelspec": {
   "display_name": "Python 3 (ipykernel)",
   "language": "python",
   "name": "python3"
  },
  "language_info": {
   "codemirror_mode": {
    "name": "ipython",
    "version": 3
   },
   "file_extension": ".py",
   "mimetype": "text/x-python",
   "name": "python",
   "nbconvert_exporter": "python",
   "pygments_lexer": "ipython3",
   "version": "3.9.13"
  }
 },
 "nbformat": 4,
 "nbformat_minor": 5
}
