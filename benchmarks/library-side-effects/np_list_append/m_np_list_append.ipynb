{
 "cells": [
  {
   "cell_type": "code",
   "execution_count": 1,
   "id": "ea15963e-33b9-4b15-8a89-f1b96d735f57",
   "metadata": {},
   "outputs": [],
   "source": [
    "import numpy as np"
   ]
  },
  {
   "cell_type": "code",
   "execution_count": 2,
   "id": "71ed7c04-db06-4e27-ae04-4e1516721db1",
   "metadata": {},
   "outputs": [],
   "source": [
    "a = np.array([2,1,2])"
   ]
  },
  {
   "cell_type": "code",
   "execution_count": 3,
   "id": "8b808c10-af2c-40e9-a1ac-a00141dbef50",
   "metadata": {},
   "outputs": [],
   "source": [
    "res = np.append(a, 10, axis = None)"
   ]
  },
  {
   "cell_type": "code",
   "execution_count": 4,
   "id": "e8446b28-71a4-4176-92fc-c4ad4fb07608",
   "metadata": {
    "tags": []
   },
   "outputs": [
    {
     "name": "stdout",
     "output_type": "stream",
     "text": [
      "length a:  3 length appended:  4\n"
     ]
    }
   ],
   "source": [
    "print(\"length a: \", len(a), \"length appended: \", len(res))"
   ]
  }
 ],
 "metadata": {
  "kernelspec": {
   "display_name": "Python 3 (ipykernel)",
   "language": "python",
   "name": "python3"
  },
  "language_info": {
   "codemirror_mode": {
    "name": "ipython",
    "version": 3
   },
   "file_extension": ".py",
   "mimetype": "text/x-python",
   "name": "python",
   "nbconvert_exporter": "python",
   "pygments_lexer": "ipython3",
   "version": "3.13.2"
  }
 },
 "nbformat": 4,
 "nbformat_minor": 5
}
