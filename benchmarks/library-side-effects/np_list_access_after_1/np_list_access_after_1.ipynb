{
 "cells": [
  {
   "cell_type": "code",
   "execution_count": 1,
   "id": "08c8271f",
   "metadata": {},
   "outputs": [],
   "source": [
    "import numpy as np"
   ]
  },
  {
   "cell_type": "code",
   "execution_count": 2,
   "id": "076705e7",
   "metadata": {},
   "outputs": [],
   "source": [
    "x = np.array([1,2,3])"
   ]
  },
  {
   "cell_type": "code",
   "execution_count": 3,
   "id": "fc33ff6a",
   "metadata": {},
   "outputs": [],
   "source": [
    "a = 1"
   ]
  },
  {
   "cell_type": "code",
   "execution_count": 4,
   "id": "cb19592d",
   "metadata": {},
   "outputs": [],
   "source": [
    "y = x[a]"
   ]
  },
  {
   "cell_type": "code",
   "execution_count": 5,
   "id": "017c8004",
   "metadata": {},
   "outputs": [],
   "source": [
    "x[0] = 10 "
   ]
  },
  {
   "cell_type": "code",
   "execution_count": 6,
   "id": "d086dfec",
   "metadata": {},
   "outputs": [
    {
     "name": "stdout",
     "output_type": "stream",
     "text": [
      "[10  2  3] 2\n"
     ]
    }
   ],
   "source": [
    "print(x,y)"
   ]
  }
 ],
 "metadata": {
  "ipyflow": {
   "cell_children": {
    "017c8004": [
     "d086dfec"
    ],
    "076705e7": [
     "cb19592d",
     "d086dfec",
     "017c8004"
    ],
    "08c8271f": [
     "076705e7"
    ],
    "cb19592d": [
     "d086dfec"
    ],
    "d086dfec": [],
    "fc33ff6a": [
     "cb19592d"
    ]
   },
   "cell_parents": {
    "017c8004": [
     "076705e7"
    ],
    "076705e7": [
     "08c8271f"
    ],
    "08c8271f": [],
    "cb19592d": [
     "fc33ff6a",
     "076705e7"
    ],
    "d086dfec": [
     "017c8004",
     "076705e7",
     "cb19592d"
    ],
    "fc33ff6a": []
   }
  },
  "kernelspec": {
   "display_name": "Python 3 (ipyflow)",
   "language": "python",
   "name": "ipyflow"
  },
  "language_info": {
   "codemirror_mode": {
    "name": "ipython",
    "version": 3
   },
   "file_extension": ".py",
   "mimetype": "text/x-python",
   "name": "python",
   "nbconvert_exporter": "python",
   "pygments_lexer": "ipython3",
   "version": "3.13.5"
  }
 },
 "nbformat": 4,
 "nbformat_minor": 5
}
