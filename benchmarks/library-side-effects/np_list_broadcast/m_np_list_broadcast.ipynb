{
 "cells": [
  {
   "cell_type": "code",
   "execution_count": 2,
   "id": "59fa59d9-5231-4510-80eb-6b4dbd970e07",
   "metadata": {
    "tags": []
   },
   "outputs": [],
   "source": [
    "import numpy as np "
   ]
  },
  {
   "cell_type": "code",
   "execution_count": 4,
   "id": "a421e0af-1dcc-49bd-bc64-f842258871ad",
   "metadata": {
    "tags": []
   },
   "outputs": [],
   "source": [
    "x = np.array([[4,5,6]])"
   ]
  },
  {
   "cell_type": "code",
   "execution_count": null,
   "id": "cd7f57c7-eefa-4f4a-b89f-ba24b684b63c",
   "metadata": {
    "tags": []
   },
   "outputs": [],
   "source": [
    "# Add subarray for the broadcast\n",
    "y = np.array([[8],[5],[9]])"
   ]
  },
  {
   "cell_type": "code",
   "execution_count": 15,
   "id": "ba5672ba-169a-467c-8be7-d5bbc05836c3",
   "metadata": {
    "tags": []
   },
   "outputs": [],
   "source": [
    "res = np.broadcast_arrays(x, y)"
   ]
  },
  {
   "cell_type": "code",
   "execution_count": 16,
   "id": "d6092fb1-527c-4594-8048-747326465cc2",
   "metadata": {
    "tags": []
   },
   "outputs": [
    {
     "name": "stdout",
     "output_type": "stream",
     "text": [
      "result: (array([[4, 5, 6],\n",
      "       [4, 5, 6]]), array([[8, 8, 8],\n",
      "       [5, 5, 5]])) x: [[4 5 6]] y: [[8]\n",
      " [5]]\n"
     ]
    }
   ],
   "source": [
    "print(\"result:\", res, \"x:\", x, \"y:\", y)"
   ]
  }
 ],
 "metadata": {
  "kernelspec": {
   "display_name": "Python 3 (ipykernel)",
   "language": "python",
   "name": "python3"
  },
  "language_info": {
   "codemirror_mode": {
    "name": "ipython",
    "version": 3
   },
   "file_extension": ".py",
   "mimetype": "text/x-python",
   "name": "python",
   "nbconvert_exporter": "python",
   "pygments_lexer": "ipython3",
   "version": "3.9.13"
  }
 },
 "nbformat": 4,
 "nbformat_minor": 5
}
