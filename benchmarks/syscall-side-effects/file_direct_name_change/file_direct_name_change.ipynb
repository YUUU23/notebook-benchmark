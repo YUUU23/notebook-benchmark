{
 "cells": [
  {
   "cell_type": "code",
   "execution_count": 4,
   "id": "1d4f7d91-ca93-4666-bd09-68d35b1976f3",
   "metadata": {
    "tags": []
   },
   "outputs": [],
   "source": [
    "path = \"my_fle.txt\""
   ]
  },
  {
   "cell_type": "code",
   "execution_count": 2,
   "id": "b0deb7fa-6eca-485a-b238-44a327cc1a82",
   "metadata": {
    "tags": []
   },
   "outputs": [],
   "source": [
    "data = [['3','b','e','d'],\n",
    "        ['d','e','f','g'], \n",
    "        ['i','e','j','h']]"
   ]
  },
  {
   "cell_type": "code",
   "execution_count": 5,
   "id": "e2238157-9ef4-4bc6-b3d1-5cca6ab1102d",
   "metadata": {
    "tags": []
   },
   "outputs": [],
   "source": [
    "with open(path, 'w') as file:\n",
    "    for r in data:\n",
    "        for c in r:\n",
    "            file.write(c) "
   ]
  }
 ],
 "metadata": {
  "kernelspec": {
   "display_name": "Python 3 (ipyflow)",
   "language": "python",
   "name": "ipyflow"
  },
  "language_info": {
   "codemirror_mode": {
    "name": "ipython",
    "version": 3
   },
   "file_extension": ".py",
   "mimetype": "text/x-python",
   "name": "python",
   "nbconvert_exporter": "python",
   "pygments_lexer": "ipython3",
   "version": "3.9.13"
  }
 },
 "nbformat": 4,
 "nbformat_minor": 5
}
