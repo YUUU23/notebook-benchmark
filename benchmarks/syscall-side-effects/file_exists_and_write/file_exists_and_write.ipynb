{
 "cells": [
  {
   "cell_type": "code",
   "execution_count": 1,
   "id": "8f7c936c-7e34-453f-b808-c74c46844869",
   "metadata": {
    "tags": []
   },
   "outputs": [],
   "source": [
    "import os"
   ]
  },
  {
   "cell_type": "code",
   "execution_count": 2,
   "id": "78cb1d62-918e-49d5-88b2-178bc33d432a",
   "metadata": {
    "tags": []
   },
   "outputs": [],
   "source": [
    "f_dir = \"tmp\""
   ]
  },
  {
   "cell_type": "code",
   "execution_count": 3,
   "id": "f09adfd7-0cab-424e-9f1c-520669bb467c",
   "metadata": {
    "tags": []
   },
   "outputs": [],
   "source": [
    "f_dir_2 = \"tmp2\""
   ]
  },
  {
   "cell_type": "code",
   "execution_count": 4,
   "id": "78ffa420-4394-47df-b17f-58ac5cf958be",
   "metadata": {
    "tags": []
   },
   "outputs": [],
   "source": [
    "f_path = f_dir + \"/new.txt\""
   ]
  },
  {
   "cell_type": "code",
   "execution_count": 5,
   "id": "edfab51d-bb48-4b72-ad63-cda15cabf3e7",
   "metadata": {
    "tags": []
   },
   "outputs": [
    {
     "name": "stdout",
     "output_type": "stream",
     "text": [
      "made dir: tmp\n"
     ]
    }
   ],
   "source": [
    "try:\n",
    "    os.mkdir(f_dir)\n",
    "    print(f'made dir: {f_dir}')\n",
    "except FileExistsError:\n",
    "    print(f'dir exists: {f_dir}')"
   ]
  },
  {
   "cell_type": "code",
   "execution_count": 8,
   "id": "51a4d5d7-d1f7-426e-9d80-4ccfddecdda2",
   "metadata": {
    "tags": []
   },
   "outputs": [],
   "source": [
    "if os.path.exists(f_dir):\n",
    "    with open(f_path, 'w') as file:\n",
    "        file.write(\"abc\")"
   ]
  }
 ],
 "metadata": {
  "kernelspec": {
   "display_name": "Python 3 (ipyflow)",
   "language": "python",
   "name": "ipyflow"
  },
  "language_info": {
   "codemirror_mode": {
    "name": "ipython",
    "version": 3
   },
   "file_extension": ".py",
   "mimetype": "text/x-python",
   "name": "python",
   "nbconvert_exporter": "python",
   "pygments_lexer": "ipython3",
   "version": "3.9.13"
  }
 },
 "nbformat": 4,
 "nbformat_minor": 5
}
