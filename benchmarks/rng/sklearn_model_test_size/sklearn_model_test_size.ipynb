{
 "cells": [
  {
   "cell_type": "code",
   "execution_count": 10,
   "id": "132dd71a-3cce-48d3-aabf-e9c714b515da",
   "metadata": {
    "tags": []
   },
   "outputs": [],
   "source": [
    "import pandas as pd\n",
    "import numpy as np\n",
    "\n",
    "from sklearn.tree import DecisionTreeClassifier\n",
    "from sklearn.datasets import load_breast_cancer\n",
    "from sklearn.model_selection import train_test_split\n",
    "from sklearn.metrics import accuracy_score\n",
    "import random"
   ]
  },
  {
   "cell_type": "code",
   "execution_count": 14,
   "id": "6d694097-cf56-4932-8e2d-1853db9517f2",
   "metadata": {},
   "outputs": [],
   "source": [
    "random.seed(42)\n",
    "np.random.seed(42)"
   ]
  },
  {
   "cell_type": "code",
   "execution_count": 15,
   "id": "149c1e08-49df-404f-9321-45f6891f2321",
   "metadata": {
    "tags": []
   },
   "outputs": [],
   "source": [
    "data = load_breast_cancer()\n",
    "X = data.data \n",
    "y = data.target "
   ]
  },
  {
   "cell_type": "code",
   "execution_count": 16,
   "id": "d52e625c-811e-44a8-b860-e72dd14a483b",
   "metadata": {
    "tags": []
   },
   "outputs": [],
   "source": [
    "X_train, X_test, y_train, y_test = train_test_split(X, y, test_size=0.6, random_state=42)"
   ]
  },
  {
   "cell_type": "code",
   "execution_count": 5,
   "id": "365b942d-f6a2-469a-a3db-f8238b89a61e",
   "metadata": {
    "tags": []
   },
   "outputs": [],
   "source": [
    "depths = [1,3,5,20]"
   ]
  },
  {
   "cell_type": "code",
   "execution_count": 6,
   "id": "1b4184d0-674a-40a9-975f-6e9b8ac38c67",
   "metadata": {
    "tags": []
   },
   "outputs": [],
   "source": [
    "def predict_and_get_accuracy(X_train, y_train, X_test, y_test, model, model_name):\n",
    "    y_pred = model.predict(X_test)\n",
    "    accuracy = accuracy_score(y_test, y_pred)\n",
    "    print(f\"Decision Tree Accuracy: {accuracy}\")"
   ]
  },
  {
   "cell_type": "code",
   "execution_count": 7,
   "id": "e27a3610-da1b-482e-a56e-45ceae35fd77",
   "metadata": {
    "tags": []
   },
   "outputs": [],
   "source": [
    "def train(classifier, X, Y): \n",
    "    classifier.fit(X, Y)"
   ]
  },
  {
   "cell_type": "code",
   "execution_count": 17,
   "id": "ea23dc08-fd82-4c95-b3f7-87cfaf9f9c1f",
   "metadata": {
    "tags": []
   },
   "outputs": [
    {
     "name": "stdout",
     "output_type": "stream",
     "text": [
      "DecisionTreeClassifier()\n",
      "Decision Tree Accuracy: 0.9269005847953217\n"
     ]
    }
   ],
   "source": [
    "no_pre_pruning_dtree = DecisionTreeClassifier()\n",
    "train(no_pre_pruning_dtree, X_train.copy(), y_train.copy())\n",
    "print(no_pre_pruning_dtree)\n",
    "predict_and_get_accuracy(X_train.copy(), y_train.copy(), X_test.copy(), y_test.copy(), no_pre_pruning_dtree, 'Decision Tree')"
   ]
  },
  {
   "cell_type": "code",
   "execution_count": 18,
   "id": "d378931e-a986-4e9f-950f-85ee6f141e7d",
   "metadata": {
    "tags": []
   },
   "outputs": [
    {
     "name": "stdout",
     "output_type": "stream",
     "text": [
      "limiting depth to:  1\n",
      "DecisionTreeClassifier(max_depth=1)\n",
      "Decision Tree Accuracy: 0.9005847953216374\n",
      "limiting depth to:  3\n",
      "DecisionTreeClassifier(max_depth=3)\n",
      "Decision Tree Accuracy: 0.9385964912280702\n",
      "limiting depth to:  5\n",
      "DecisionTreeClassifier(max_depth=5)\n",
      "Decision Tree Accuracy: 0.9385964912280702\n",
      "limiting depth to:  20\n",
      "DecisionTreeClassifier(max_depth=20)\n",
      "Decision Tree Accuracy: 0.9473684210526315\n"
     ]
    }
   ],
   "source": [
    "for depth in depths:  \n",
    "    print(\"limiting depth to: \", depth)\n",
    "    prune_dtree = DecisionTreeClassifier(max_depth=depth)\n",
    "    print(prune_dtree)\n",
    "    train(prune_dtree, X_train.copy(), y_train.copy())\n",
    "    predict_and_get_accuracy(X_train.copy(), y_train.copy(), X_test.copy(), y_test.copy(), prune_dtree, 'Decision Tree')"
   ]
  }
 ],
 "metadata": {
  "ipyflow": {
   "cell_children": {
    "132dd71a-3cce-48d3-aabf-e9c714b515da": [
     "d378931e-a986-4e9f-950f-85ee6f141e7d",
     "d52e625c-811e-44a8-b860-e72dd14a483b",
     "6d694097-cf56-4932-8e2d-1853db9517f2",
     "149c1e08-49df-404f-9321-45f6891f2321",
     "ea23dc08-fd82-4c95-b3f7-87cfaf9f9c1f"
    ],
    "149c1e08-49df-404f-9321-45f6891f2321": [
     "d52e625c-811e-44a8-b860-e72dd14a483b"
    ],
    "1b4184d0-674a-40a9-975f-6e9b8ac38c67": [
     "d378931e-a986-4e9f-950f-85ee6f141e7d",
     "ea23dc08-fd82-4c95-b3f7-87cfaf9f9c1f"
    ],
    "365b942d-f6a2-469a-a3db-f8238b89a61e": [
     "d378931e-a986-4e9f-950f-85ee6f141e7d"
    ],
    "6d694097-cf56-4932-8e2d-1853db9517f2": [
     "d378931e-a986-4e9f-950f-85ee6f141e7d",
     "ea23dc08-fd82-4c95-b3f7-87cfaf9f9c1f"
    ],
    "d378931e-a986-4e9f-950f-85ee6f141e7d": [],
    "d52e625c-811e-44a8-b860-e72dd14a483b": [
     "d378931e-a986-4e9f-950f-85ee6f141e7d",
     "ea23dc08-fd82-4c95-b3f7-87cfaf9f9c1f"
    ],
    "e27a3610-da1b-482e-a56e-45ceae35fd77": [
     "d378931e-a986-4e9f-950f-85ee6f141e7d",
     "ea23dc08-fd82-4c95-b3f7-87cfaf9f9c1f"
    ],
    "ea23dc08-fd82-4c95-b3f7-87cfaf9f9c1f": []
   },
   "cell_parents": {
    "132dd71a-3cce-48d3-aabf-e9c714b515da": [],
    "149c1e08-49df-404f-9321-45f6891f2321": [
     "132dd71a-3cce-48d3-aabf-e9c714b515da"
    ],
    "1b4184d0-674a-40a9-975f-6e9b8ac38c67": [],
    "365b942d-f6a2-469a-a3db-f8238b89a61e": [],
    "6d694097-cf56-4932-8e2d-1853db9517f2": [
     "132dd71a-3cce-48d3-aabf-e9c714b515da"
    ],
    "d378931e-a986-4e9f-950f-85ee6f141e7d": [
     "e27a3610-da1b-482e-a56e-45ceae35fd77",
     "d52e625c-811e-44a8-b860-e72dd14a483b",
     "132dd71a-3cce-48d3-aabf-e9c714b515da",
     "6d694097-cf56-4932-8e2d-1853db9517f2",
     "1b4184d0-674a-40a9-975f-6e9b8ac38c67",
     "365b942d-f6a2-469a-a3db-f8238b89a61e"
    ],
    "d52e625c-811e-44a8-b860-e72dd14a483b": [
     "149c1e08-49df-404f-9321-45f6891f2321",
     "132dd71a-3cce-48d3-aabf-e9c714b515da"
    ],
    "e27a3610-da1b-482e-a56e-45ceae35fd77": [],
    "ea23dc08-fd82-4c95-b3f7-87cfaf9f9c1f": [
     "e27a3610-da1b-482e-a56e-45ceae35fd77",
     "d52e625c-811e-44a8-b860-e72dd14a483b",
     "6d694097-cf56-4932-8e2d-1853db9517f2",
     "132dd71a-3cce-48d3-aabf-e9c714b515da",
     "1b4184d0-674a-40a9-975f-6e9b8ac38c67"
    ]
   }
  },
  "kernelspec": {
   "display_name": "Python 3 (ipyflow)",
   "language": "python",
   "name": "ipyflow"
  },
  "language_info": {
   "codemirror_mode": {
    "name": "ipython",
    "version": 3
   },
   "file_extension": ".py",
   "mimetype": "text/x-python",
   "name": "python",
   "nbconvert_exporter": "python",
   "pygments_lexer": "ipython3",
   "version": "3.13.5"
  }
 },
 "nbformat": 4,
 "nbformat_minor": 5
}
