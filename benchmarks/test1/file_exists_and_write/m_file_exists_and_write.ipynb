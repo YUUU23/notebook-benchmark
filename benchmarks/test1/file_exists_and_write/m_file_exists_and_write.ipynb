{
 "cells": [
  {
   "cell_type": "code",
   "execution_count": 1,
   "id": "8f7c936c-7e34-453f-b808-c74c46844869",
   "metadata": {
    "tags": []
   },
   "outputs": [],
   "source": [
    "import os"
   ]
  },
  {
   "cell_type": "code",
   "execution_count": 2,
   "id": "78cb1d62-918e-49d5-88b2-178bc33d432a",
   "metadata": {
    "tags": []
   },
   "outputs": [],
   "source": [
    "f_dir = \"tmp\""
   ]
  },
  {
   "cell_type": "code",
   "execution_count": 3,
   "id": "f09adfd7-0cab-424e-9f1c-520669bb467c",
   "metadata": {
    "tags": []
   },
   "outputs": [],
   "source": [
    "f_dir_2 = \"tmp2\""
   ]
  },
  {
   "cell_type": "code",
   "execution_count": 4,
   "id": "eab9ebd6-82ec-403b-abcf-582114d0ab2c",
   "metadata": {},
   "outputs": [],
   "source": [
    "d = f_dir"
   ]
  },
  {
   "cell_type": "code",
   "execution_count": 5,
   "id": "78ffa420-4394-47df-b17f-58ac5cf958be",
   "metadata": {
    "tags": []
   },
   "outputs": [],
   "source": [
    "f_path = d + \"/new.txt\""
   ]
  },
  {
   "cell_type": "code",
   "execution_count": 6,
   "id": "edfab51d-bb48-4b72-ad63-cda15cabf3e7",
   "metadata": {
    "tags": []
   },
   "outputs": [
    {
     "name": "stdout",
     "output_type": "stream",
     "text": [
      "made dir: tmp\n"
     ]
    }
   ],
   "source": [
    "try:\n",
    "    os.mkdir(d)\n",
    "    print(f'made dir: {f_dir}')\n",
    "except FileExistsError:\n",
    "    print(f'dir exists: {f_dir}')"
   ]
  },
  {
   "cell_type": "code",
   "execution_count": 7,
   "id": "51a4d5d7-d1f7-426e-9d80-4ccfddecdda2",
   "metadata": {
    "tags": []
   },
   "outputs": [
    {
     "name": "stdout",
     "output_type": "stream",
     "text": [
      "abc\n",
      "tmp exists\n",
      "tmp2 does not exist\n"
     ]
    }
   ],
   "source": [
    "if os.path.exists(d):\n",
    "    with open(f_path, 'w') as file:\n",
    "        file.write(\"abc\")\n",
    "\n",
    "    with open(f_path, 'r') as file:\n",
    "        print(file.read())\n",
    "\n",
    "if os.path.isdir(\"tmp\"):\n",
    "    print(\"tmp exists\")\n",
    "else:\n",
    "    print(\"tmp does not exist\")\n",
    "\n",
    "if os.path.isdir(\"tmp2\"):\n",
    "    print(\"tmp2 exists\")\n",
    "else:\n",
    "    print(\"tmp2 does not exist\")"
   ]
  }
 ],
 "metadata": {
  "ipyflow": {
   "cell_children": {
    "51a4d5d7-d1f7-426e-9d80-4ccfddecdda2": [],
    "78cb1d62-918e-49d5-88b2-178bc33d432a": [
     "78ffa420-4394-47df-b17f-58ac5cf958be",
     "51a4d5d7-d1f7-426e-9d80-4ccfddecdda2",
     "edfab51d-bb48-4b72-ad63-cda15cabf3e7"
    ],
    "78ffa420-4394-47df-b17f-58ac5cf958be": [
     "51a4d5d7-d1f7-426e-9d80-4ccfddecdda2"
    ],
    "8f7c936c-7e34-453f-b808-c74c46844869": [
     "51a4d5d7-d1f7-426e-9d80-4ccfddecdda2",
     "edfab51d-bb48-4b72-ad63-cda15cabf3e7"
    ],
    "edfab51d-bb48-4b72-ad63-cda15cabf3e7": [],
    "f09adfd7-0cab-424e-9f1c-520669bb467c": []
   },
   "cell_parents": {
    "51a4d5d7-d1f7-426e-9d80-4ccfddecdda2": [
     "78ffa420-4394-47df-b17f-58ac5cf958be",
     "78cb1d62-918e-49d5-88b2-178bc33d432a",
     "8f7c936c-7e34-453f-b808-c74c46844869"
    ],
    "78cb1d62-918e-49d5-88b2-178bc33d432a": [],
    "78ffa420-4394-47df-b17f-58ac5cf958be": [
     "78cb1d62-918e-49d5-88b2-178bc33d432a"
    ],
    "8f7c936c-7e34-453f-b808-c74c46844869": [],
    "edfab51d-bb48-4b72-ad63-cda15cabf3e7": [
     "78cb1d62-918e-49d5-88b2-178bc33d432a",
     "8f7c936c-7e34-453f-b808-c74c46844869"
    ],
    "f09adfd7-0cab-424e-9f1c-520669bb467c": []
   }
  },
  "kernelspec": {
   "display_name": "Python 3 (ipyflow)",
   "language": "python",
   "name": "ipyflow"
  },
  "language_info": {
   "codemirror_mode": {
    "name": "ipython",
    "version": 3
   },
   "file_extension": ".py",
   "mimetype": "text/x-python",
   "name": "python",
   "nbconvert_exporter": "python",
   "pygments_lexer": "ipython3",
   "version": "3.13.2"
  }
 },
 "nbformat": 4,
 "nbformat_minor": 5
}
