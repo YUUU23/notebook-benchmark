{
 "cells": [
  {
   "cell_type": "code",
   "execution_count": 1,
   "id": "f8632a4f-09a2-4465-b93f-0510a583c2eb",
   "metadata": {
    "tags": []
   },
   "outputs": [],
   "source": [
    "import os "
   ]
  },
  {
   "cell_type": "code",
   "execution_count": 2,
   "id": "c2c9aa3b-4bde-442c-acb1-a231d31018b7",
   "metadata": {
    "tags": []
   },
   "outputs": [],
   "source": [
    "top_dir = \"tmp\" "
   ]
  },
  {
   "cell_type": "code",
   "execution_count": 8,
   "id": "869e6564-329a-4e07-a652-7a8816fbe274",
   "metadata": {
    "tags": []
   },
   "outputs": [],
   "source": [
    "dir_1 = \"388/488/588/688\""
   ]
  },
  {
   "cell_type": "code",
   "execution_count": 9,
   "id": "2f27f93d-7adb-43e6-86c3-71cfe3dfba82",
   "metadata": {
    "tags": []
   },
   "outputs": [],
   "source": [
    "dir_path = f'{top_dir}/{dir_1}'"
   ]
  },
  {
   "cell_type": "code",
   "execution_count": 10,
   "id": "7e90df31-9a90-42dd-bc52-b44e51db8dda",
   "metadata": {
    "tags": []
   },
   "outputs": [
    {
     "name": "stdout",
     "output_type": "stream",
     "text": [
      "made dir:  388/488/588/688\n"
     ]
    }
   ],
   "source": [
    "try: \n",
    "    os.makedirs(dir_path)\n",
    "    print(\"made dir: \", dir_1) \n",
    "except FileExistsError: \n",
    "    print(\"already exists: \", dir_1)"
   ]
  },
  {
   "cell_type": "code",
   "execution_count": 11,
   "id": "d3f22c05-0ebe-4601-9662-62162d2b237d",
   "metadata": {
    "tags": []
   },
   "outputs": [],
   "source": [
    "def list_dirs(root):\n",
    "    subdirs = []\n",
    "    for _, dirnames, _ in os.walk(top_dir): \n",
    "        for d in dirnames:\n",
    "            subdirs.append(d)\n",
    "    return subdirs"
   ]
  },
  {
   "cell_type": "code",
   "execution_count": 12,
   "id": "7b676aa7-fb54-479a-aa61-df858e71f01a",
   "metadata": {
    "tags": []
   },
   "outputs": [
    {
     "name": "stdout",
     "output_type": "stream",
     "text": [
      "all subdirs in tmp: ['388', '488', '588', '688']\n"
     ]
    }
   ],
   "source": [
    "print(f'all subdirs in {top_dir}: {list_dirs(top_dir)}')"
   ]
  }
 ],
 "metadata": {
  "kernelspec": {
   "display_name": "Python 3 (ipykernel)",
   "language": "python",
   "name": "python3"
  },
  "language_info": {
   "codemirror_mode": {
    "name": "ipython",
    "version": 3
   },
   "file_extension": ".py",
   "mimetype": "text/x-python",
   "name": "python",
   "nbconvert_exporter": "python",
   "pygments_lexer": "ipython3",
   "version": "3.13.5"
  }
 },
 "nbformat": 4,
 "nbformat_minor": 5
}
