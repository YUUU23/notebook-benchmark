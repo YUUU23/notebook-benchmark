{
 "cells": [
  {
   "cell_type": "code",
   "execution_count": 1,
   "id": "1d4f7d91-ca93-4666-bd09-68d35b1976f3",
   "metadata": {
    "tags": []
   },
   "outputs": [],
   "source": [
    "path = \"my_file.txt\""
   ]
  },
  {
   "cell_type": "code",
   "execution_count": 2,
   "id": "b0deb7fa-6eca-485a-b238-44a327cc1a82",
   "metadata": {
    "tags": []
   },
   "outputs": [],
   "source": [
    "data = [['3','b','e','d'],\n",
    "        ['d','e','f','g'], \n",
    "        ['i','e','j','h']]"
   ]
  },
  {
   "cell_type": "code",
   "execution_count": 3,
   "id": "e2238157-9ef4-4bc6-b3d1-5cca6ab1102d",
   "metadata": {
    "tags": []
   },
   "outputs": [],
   "source": [
    "with open(path, 'w') as file:\n",
    "    for r in data:\n",
    "        for c in r:\n",
    "            file.write(c) "
   ]
  },
  {
   "cell_type": "code",
   "execution_count": 4,
   "id": "fe8ff77b-a7e4-4bd0-9211-5ab5e262e4d1",
   "metadata": {},
   "outputs": [
    {
     "name": "stdout",
     "output_type": "stream",
     "text": [
      "my_file_1 does not exist\n",
      "3beddefgiejh\n",
      "my_file exists\n"
     ]
    }
   ],
   "source": [
    "import os\n",
    "if os.path.isfile(\"my_file_1.txt\"):\n",
    "    with open(\"my_file_1.txt\", 'r') as file:\n",
    "        print(file.read())\n",
    "    print(\"my_file_1 exists\")\n",
    "else:\n",
    "    print(\"my_file_1 does not exist\")\n",
    "\n",
    "if os.path.isfile(\"my_file.txt\"):\n",
    "    with open(path, 'r') as file:\n",
    "        print(file.read())\n",
    "    print(\"my_file exists\")\n",
    "else:\n",
    "    print(\"my_file does not exist\")"
   ]
  }
 ],
 "metadata": {
  "ipyflow": {
   "cell_children": {
    "1d4f7d91-ca93-4666-bd09-68d35b1976f3": [
     "e2238157-9ef4-4bc6-b3d1-5cca6ab1102d"
    ],
    "b0deb7fa-6eca-485a-b238-44a327cc1a82": [
     "e2238157-9ef4-4bc6-b3d1-5cca6ab1102d"
    ],
    "e2238157-9ef4-4bc6-b3d1-5cca6ab1102d": []
   },
   "cell_parents": {
    "1d4f7d91-ca93-4666-bd09-68d35b1976f3": [],
    "b0deb7fa-6eca-485a-b238-44a327cc1a82": [],
    "e2238157-9ef4-4bc6-b3d1-5cca6ab1102d": [
     "1d4f7d91-ca93-4666-bd09-68d35b1976f3",
     "b0deb7fa-6eca-485a-b238-44a327cc1a82"
    ]
   }
  },
  "kernelspec": {
   "display_name": "Python 3 (ipykernel)",
   "language": "python",
   "name": "python3"
  },
  "language_info": {
   "codemirror_mode": {
    "name": "ipython",
    "version": 3
   },
   "file_extension": ".py",
   "mimetype": "text/x-python",
   "name": "python",
   "nbconvert_exporter": "python",
   "pygments_lexer": "ipython3",
   "version": "3.13.5"
  }
 },
 "nbformat": 4,
 "nbformat_minor": 5
}
