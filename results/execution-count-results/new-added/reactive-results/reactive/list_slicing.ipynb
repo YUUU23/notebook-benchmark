{
 "cells": [
  {
   "cell_type": "code",
   "execution_count": 1,
   "id": "cea98d22-4c89-4aca-a8f8-3b8eec1d9135",
   "metadata": {},
   "outputs": [],
   "source": [
    "x = [1,2,3]"
   ]
  },
  {
   "cell_type": "code",
   "execution_count": 2,
   "id": "029fc521-b709-46d1-88e9-a9f8ddebc6c1",
   "metadata": {},
   "outputs": [],
   "source": [
    "z = x[:]"
   ]
  },
  {
   "cell_type": "code",
   "execution_count": 6,
   "id": "ddf1300b-d9aa-49ce-98a1-14c6f0ee7bc8",
   "metadata": {},
   "outputs": [],
   "source": [
    "z[0] = 12"
   ]
  },
  {
   "cell_type": "code",
   "execution_count": 7,
   "id": "8edbfd02-87db-4936-8ad6-53540e8af718",
   "metadata": {},
   "outputs": [],
   "source": [
    "y = x[0]"
   ]
  },
  {
   "cell_type": "code",
   "execution_count": 8,
   "id": "7f458ce0-b3f0-4795-9bba-ca4cd932d3be",
   "metadata": {},
   "outputs": [
    {
     "name": "stdout",
     "output_type": "stream",
     "text": [
      "[12, 2, 3] 1\n"
     ]
    }
   ],
   "source": [
    "print(z, y)"
   ]
  }
 ],
 "metadata": {
  "ipyflow": {
   "cell_children": {
    "029fc521-b709-46d1-88e9-a9f8ddebc6c1": [
     "7f458ce0-b3f0-4795-9bba-ca4cd932d3be",
     "ddf1300b-d9aa-49ce-98a1-14c6f0ee7bc8"
    ],
    "0c834c82-535a-4f90-8994-74ba647afbd9": [],
    "7f458ce0-b3f0-4795-9bba-ca4cd932d3be": [],
    "84522bd7-c940-449d-ac34-16a0401c5351": [],
    "8edbfd02-87db-4936-8ad6-53540e8af718": [
     "7f458ce0-b3f0-4795-9bba-ca4cd932d3be"
    ],
    "cea98d22-4c89-4aca-a8f8-3b8eec1d9135": [
     "8edbfd02-87db-4936-8ad6-53540e8af718",
     "029fc521-b709-46d1-88e9-a9f8ddebc6c1"
    ],
    "ddf1300b-d9aa-49ce-98a1-14c6f0ee7bc8": [
     "7f458ce0-b3f0-4795-9bba-ca4cd932d3be"
    ]
   },
   "cell_parents": {
    "029fc521-b709-46d1-88e9-a9f8ddebc6c1": [
     "cea98d22-4c89-4aca-a8f8-3b8eec1d9135"
    ],
    "0c834c82-535a-4f90-8994-74ba647afbd9": [],
    "7f458ce0-b3f0-4795-9bba-ca4cd932d3be": [
     "8edbfd02-87db-4936-8ad6-53540e8af718",
     "ddf1300b-d9aa-49ce-98a1-14c6f0ee7bc8",
     "029fc521-b709-46d1-88e9-a9f8ddebc6c1"
    ],
    "84522bd7-c940-449d-ac34-16a0401c5351": [],
    "8edbfd02-87db-4936-8ad6-53540e8af718": [
     "cea98d22-4c89-4aca-a8f8-3b8eec1d9135"
    ],
    "cea98d22-4c89-4aca-a8f8-3b8eec1d9135": [],
    "ddf1300b-d9aa-49ce-98a1-14c6f0ee7bc8": [
     "029fc521-b709-46d1-88e9-a9f8ddebc6c1"
    ]
   }
  },
  "kernelspec": {
   "display_name": "Python 3 (ipykernel)",
   "language": "python",
   "name": "python3"
  },
  "language_info": {
   "codemirror_mode": {
    "name": "ipython",
    "version": 3
   },
   "file_extension": ".py",
   "mimetype": "text/x-python",
   "name": "python",
   "nbconvert_exporter": "python",
   "pygments_lexer": "ipython3",
   "version": "3.13.5"
  }
 },
 "nbformat": 4,
 "nbformat_minor": 5
}
