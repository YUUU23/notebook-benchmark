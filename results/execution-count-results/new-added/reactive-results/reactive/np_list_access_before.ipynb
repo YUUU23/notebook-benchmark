{
 "cells": [
  {
   "cell_type": "code",
   "execution_count": 1,
   "id": "c7a6be59-2673-46cb-8be8-3b052df301bb",
   "metadata": {},
   "outputs": [],
   "source": [
    "import numpy as np"
   ]
  },
  {
   "cell_type": "code",
   "execution_count": 2,
   "id": "51b312f7-2a8b-4d4e-a3ff-8816c4579649",
   "metadata": {},
   "outputs": [],
   "source": [
    "x = np.array([1,2,3])"
   ]
  },
  {
   "cell_type": "code",
   "execution_count": 3,
   "id": "f3501b99-e26a-42d8-917c-246aaf38a05e",
   "metadata": {},
   "outputs": [],
   "source": [
    "x[0] = 10 "
   ]
  },
  {
   "cell_type": "code",
   "execution_count": 6,
   "id": "82d89a49-467e-43ab-9013-bbd293e32ac8",
   "metadata": {},
   "outputs": [],
   "source": [
    "y = x[2]"
   ]
  },
  {
   "cell_type": "code",
   "execution_count": 7,
   "id": "d09c9e14-63bc-4274-8652-fa9d9e585c74",
   "metadata": {},
   "outputs": [
    {
     "name": "stdout",
     "output_type": "stream",
     "text": [
      "[10  2  3] 3\n"
     ]
    }
   ],
   "source": [
    "print(x,y)"
   ]
  }
 ],
 "metadata": {
  "ipyflow": {
   "cell_children": {
    "51b312f7-2a8b-4d4e-a3ff-8816c4579649": [
     "82d89a49-467e-43ab-9013-bbd293e32ac8",
     "d09c9e14-63bc-4274-8652-fa9d9e585c74",
     "f3501b99-e26a-42d8-917c-246aaf38a05e"
    ],
    "61f8bd25-6e4a-425b-a173-80ecbe5d2f5d": [],
    "82d89a49-467e-43ab-9013-bbd293e32ac8": [
     "d09c9e14-63bc-4274-8652-fa9d9e585c74"
    ],
    "c7a6be59-2673-46cb-8be8-3b052df301bb": [
     "51b312f7-2a8b-4d4e-a3ff-8816c4579649"
    ],
    "d09c9e14-63bc-4274-8652-fa9d9e585c74": [],
    "f3501b99-e26a-42d8-917c-246aaf38a05e": [
     "82d89a49-467e-43ab-9013-bbd293e32ac8",
     "d09c9e14-63bc-4274-8652-fa9d9e585c74"
    ]
   },
   "cell_parents": {
    "51b312f7-2a8b-4d4e-a3ff-8816c4579649": [
     "c7a6be59-2673-46cb-8be8-3b052df301bb"
    ],
    "61f8bd25-6e4a-425b-a173-80ecbe5d2f5d": [],
    "82d89a49-467e-43ab-9013-bbd293e32ac8": [
     "51b312f7-2a8b-4d4e-a3ff-8816c4579649",
     "f3501b99-e26a-42d8-917c-246aaf38a05e"
    ],
    "c7a6be59-2673-46cb-8be8-3b052df301bb": [],
    "d09c9e14-63bc-4274-8652-fa9d9e585c74": [
     "82d89a49-467e-43ab-9013-bbd293e32ac8",
     "51b312f7-2a8b-4d4e-a3ff-8816c4579649",
     "f3501b99-e26a-42d8-917c-246aaf38a05e"
    ],
    "f3501b99-e26a-42d8-917c-246aaf38a05e": [
     "51b312f7-2a8b-4d4e-a3ff-8816c4579649"
    ]
   }
  },
  "kernelspec": {
   "display_name": "Python 3 (ipykernel)",
   "language": "python",
   "name": "python3"
  },
  "language_info": {
   "codemirror_mode": {
    "name": "ipython",
    "version": 3
   },
   "file_extension": ".py",
   "mimetype": "text/x-python",
   "name": "python",
   "nbconvert_exporter": "python",
   "pygments_lexer": "ipython3",
   "version": "3.13.5"
  }
 },
 "nbformat": 4,
 "nbformat_minor": 5
}
