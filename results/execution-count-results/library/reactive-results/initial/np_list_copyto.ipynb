{
 "cells": [
  {
   "cell_type": "code",
   "execution_count": 1,
   "id": "9b24278a-b2ea-44d6-a051-926d4bb663ab",
   "metadata": {
    "tags": []
   },
   "outputs": [],
   "source": [
    "import numpy as np"
   ]
  },
  {
   "cell_type": "code",
   "execution_count": 2,
   "id": "656fbbea-efe0-417a-a567-ac7ea62ab60c",
   "metadata": {},
   "outputs": [],
   "source": [
    "src = np.zeros(80)"
   ]
  },
  {
   "cell_type": "code",
   "execution_count": 3,
   "id": "f25346a4-7409-40f1-938e-4ea0c64e8db0",
   "metadata": {},
   "outputs": [
    {
     "name": "stdout",
     "output_type": "stream",
     "text": [
      "[1. 1. 1. 1. 1. 1. 1. 1. 1. 1. 1. 1. 1. 1. 1. 1. 1. 1. 1. 1. 1. 1. 1. 1.\n",
      " 1. 1. 1. 1. 1. 1. 1. 1. 1. 1. 1. 1. 1. 1. 1. 1. 1. 1. 1. 1. 1. 1. 1. 1.\n",
      " 1. 1. 1. 1. 1. 1. 1. 1. 1. 1. 1. 1. 1. 1. 1. 1. 1. 1. 1. 1. 1. 1. 1. 1.\n",
      " 1. 1. 1. 1. 1. 1. 1. 1.]\n"
     ]
    }
   ],
   "source": [
    "dst = np.ones(80)\n",
    "print(dst)"
   ]
  },
  {
   "cell_type": "code",
   "execution_count": 4,
   "id": "75785fc2-6423-4484-900c-6fbec851cf32",
   "metadata": {
    "tags": []
   },
   "outputs": [],
   "source": [
    "np.copyto(dst, src)"
   ]
  },
  {
   "cell_type": "code",
   "execution_count": 5,
   "id": "3db37d6b-ce94-4265-911b-07d215857fe7",
   "metadata": {
    "tags": []
   },
   "outputs": [
    {
     "name": "stdout",
     "output_type": "stream",
     "text": [
      "[0. 0. 0. 0. 0. 0. 0. 0. 0. 0. 0. 0. 0. 0. 0. 0. 0. 0. 0. 0. 0. 0. 0. 0.\n",
      " 0. 0. 0. 0. 0. 0. 0. 0. 0. 0. 0. 0. 0. 0. 0. 0. 0. 0. 0. 0. 0. 0. 0. 0.\n",
      " 0. 0. 0. 0. 0. 0. 0. 0. 0. 0. 0. 0. 0. 0. 0. 0. 0. 0. 0. 0. 0. 0. 0. 0.\n",
      " 0. 0. 0. 0. 0. 0. 0. 0.]\n"
     ]
    }
   ],
   "source": [
    "print(dst)"
   ]
  }
 ],
 "metadata": {
  "ipyflow": {
   "cell_children": {
    "3db37d6b-ce94-4265-911b-07d215857fe7": [],
    "656fbbea-efe0-417a-a567-ac7ea62ab60c": [
     "75785fc2-6423-4484-900c-6fbec851cf32"
    ],
    "75785fc2-6423-4484-900c-6fbec851cf32": [
     "3db37d6b-ce94-4265-911b-07d215857fe7"
    ],
    "9b24278a-b2ea-44d6-a051-926d4bb663ab": [
     "f25346a4-7409-40f1-938e-4ea0c64e8db0",
     "656fbbea-efe0-417a-a567-ac7ea62ab60c"
    ],
    "f25346a4-7409-40f1-938e-4ea0c64e8db0": [
     "75785fc2-6423-4484-900c-6fbec851cf32"
    ]
   },
   "cell_parents": {
    "3db37d6b-ce94-4265-911b-07d215857fe7": [
     "75785fc2-6423-4484-900c-6fbec851cf32"
    ],
    "656fbbea-efe0-417a-a567-ac7ea62ab60c": [
     "9b24278a-b2ea-44d6-a051-926d4bb663ab"
    ],
    "75785fc2-6423-4484-900c-6fbec851cf32": [
     "f25346a4-7409-40f1-938e-4ea0c64e8db0",
     "656fbbea-efe0-417a-a567-ac7ea62ab60c"
    ],
    "9b24278a-b2ea-44d6-a051-926d4bb663ab": [],
    "f25346a4-7409-40f1-938e-4ea0c64e8db0": [
     "9b24278a-b2ea-44d6-a051-926d4bb663ab"
    ]
   }
  },
  "kernelspec": {
   "display_name": "Python 3 (ipykernel)",
   "language": "python",
   "name": "python3"
  },
  "language_info": {
   "codemirror_mode": {
    "name": "ipython",
    "version": 3
   },
   "file_extension": ".py",
   "mimetype": "text/x-python",
   "name": "python",
   "nbconvert_exporter": "python",
   "pygments_lexer": "ipython3",
   "version": "3.13.5"
  }
 },
 "nbformat": 4,
 "nbformat_minor": 5
}
