{
 "cells": [
  {
   "cell_type": "code",
   "execution_count": 1,
   "id": "1fe73437-ab35-4bfb-9174-160dd344c929",
   "metadata": {},
   "outputs": [],
   "source": [
    "ll = [[1],[2],[3]]"
   ]
  },
  {
   "cell_type": "code",
   "execution_count": 4,
   "id": "cdae791d-7958-4e7f-9f91-361d3cc63da2",
   "metadata": {},
   "outputs": [
    {
     "ename": "IndexError",
     "evalue": "pop index out of range",
     "output_type": "error",
     "traceback": [
      "\u001b[31m---------------------------------------------------------------------------\u001b[39m",
      "\u001b[31mIndexError\u001b[39m                                Traceback (most recent call last)",
      "\u001b[36mCell\u001b[39m\u001b[36m \u001b[39m\u001b[32mIn[4]\u001b[39m\u001b[32m, line 1\u001b[39m\n\u001b[32m----> \u001b[39m\u001b[32m1\u001b[39m \u001b[43mll\u001b[49m\u001b[43m.\u001b[49m\u001b[43mpop\u001b[49m\u001b[43m(\u001b[49m\u001b[32;43m2\u001b[39;49m\u001b[43m)\u001b[49m\n",
      "\u001b[31mIndexError\u001b[39m: pop index out of range"
     ]
    }
   ],
   "source": [
    "ll.pop(2)"
   ]
  },
  {
   "cell_type": "code",
   "execution_count": 5,
   "id": "e095a41d-ff5d-44b7-9801-2ca06f086f66",
   "metadata": {},
   "outputs": [
    {
     "data": {
      "text/plain": [
       "2"
      ]
     },
     "execution_count": 5,
     "metadata": {},
     "output_type": "execute_result"
    }
   ],
   "source": [
    "len(ll)"
   ]
  }
 ],
 "metadata": {
  "ipyflow": {
   "cell_children": {
    "1fe73437-ab35-4bfb-9174-160dd344c929": [
     "cdae791d-7958-4e7f-9f91-361d3cc63da2",
     "e095a41d-ff5d-44b7-9801-2ca06f086f66"
    ],
    "2e479cbf-5a97-40c6-8def-f7844993c770": [],
    "3b247b36-582a-4e30-bb17-470c6b84f0c0": [],
    "8a155049-e9a8-4b23-8f39-03f15532ff78": [
     "cdae791d-7958-4e7f-9f91-361d3cc63da2"
    ],
    "c62315d2-b45b-4dd8-950e-ecc76e457ad3": [
     "e095a41d-ff5d-44b7-9801-2ca06f086f66"
    ],
    "cdae791d-7958-4e7f-9f91-361d3cc63da2": [
     "e095a41d-ff5d-44b7-9801-2ca06f086f66"
    ],
    "e095a41d-ff5d-44b7-9801-2ca06f086f66": []
   },
   "cell_parents": {
    "1fe73437-ab35-4bfb-9174-160dd344c929": [],
    "2e479cbf-5a97-40c6-8def-f7844993c770": [],
    "3b247b36-582a-4e30-bb17-470c6b84f0c0": [
     "1fe73437-ab35-4bfb-9174-160dd344c929"
    ],
    "8a155049-e9a8-4b23-8f39-03f15532ff78": [],
    "c62315d2-b45b-4dd8-950e-ecc76e457ad3": [
     "cdae791d-7958-4e7f-9f91-361d3cc63da2"
    ],
    "cdae791d-7958-4e7f-9f91-361d3cc63da2": [
     "1fe73437-ab35-4bfb-9174-160dd344c929"
    ],
    "e095a41d-ff5d-44b7-9801-2ca06f086f66": [
     "cdae791d-7958-4e7f-9f91-361d3cc63da2",
     "1fe73437-ab35-4bfb-9174-160dd344c929"
    ]
   }
  },
  "kernelspec": {
   "display_name": "Python 3 (ipykernel)",
   "language": "python",
   "name": "python3"
  },
  "language_info": {
   "codemirror_mode": {
    "name": "ipython",
    "version": 3
   },
   "file_extension": ".py",
   "mimetype": "text/x-python",
   "name": "python",
   "nbconvert_exporter": "python",
   "pygments_lexer": "ipython3",
   "version": "3.13.5"
  }
 },
 "nbformat": 4,
 "nbformat_minor": 5
}
