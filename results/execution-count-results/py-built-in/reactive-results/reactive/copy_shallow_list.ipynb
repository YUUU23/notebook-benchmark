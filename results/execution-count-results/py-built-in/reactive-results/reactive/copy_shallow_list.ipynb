{
 "cells": [
  {
   "cell_type": "code",
   "execution_count": 1,
   "id": "c974e476-249e-45ae-bb57-32ff6833df21",
   "metadata": {},
   "outputs": [],
   "source": [
    "import copy"
   ]
  },
  {
   "cell_type": "code",
   "execution_count": 2,
   "id": "1fe73437-ab35-4bfb-9174-160dd344c929",
   "metadata": {},
   "outputs": [],
   "source": [
    "ll = [[1],[2],[3]]"
   ]
  },
  {
   "cell_type": "code",
   "execution_count": 3,
   "id": "cdae791d-7958-4e7f-9f91-361d3cc63da2",
   "metadata": {},
   "outputs": [],
   "source": [
    "c_l = copy.copy(ll)"
   ]
  },
  {
   "cell_type": "code",
   "execution_count": 7,
   "id": "c62315d2-b45b-4dd8-950e-ecc76e457ad3",
   "metadata": {},
   "outputs": [],
   "source": [
    "c_l[0].append(10)"
   ]
  },
  {
   "cell_type": "code",
   "execution_count": 8,
   "id": "e095a41d-ff5d-44b7-9801-2ca06f086f66",
   "metadata": {},
   "outputs": [
    {
     "name": "stdout",
     "output_type": "stream",
     "text": [
      "[[1, 5, 10], [2], [3]]\n"
     ]
    }
   ],
   "source": [
    "print(c_l)"
   ]
  },
  {
   "cell_type": "code",
   "execution_count": 9,
   "id": "3b247b36-582a-4e30-bb17-470c6b84f0c0",
   "metadata": {},
   "outputs": [
    {
     "name": "stdout",
     "output_type": "stream",
     "text": [
      "[[1, 5, 10], [2], [3]]\n"
     ]
    }
   ],
   "source": [
    "print(ll)"
   ]
  }
 ],
 "metadata": {
  "ipyflow": {
   "cell_children": {
    "1fe73437-ab35-4bfb-9174-160dd344c929": [
     "c62315d2-b45b-4dd8-950e-ecc76e457ad3",
     "cdae791d-7958-4e7f-9f91-361d3cc63da2",
     "e095a41d-ff5d-44b7-9801-2ca06f086f66",
     "3b247b36-582a-4e30-bb17-470c6b84f0c0"
    ],
    "2e479cbf-5a97-40c6-8def-f7844993c770": [],
    "3b247b36-582a-4e30-bb17-470c6b84f0c0": [],
    "8a155049-e9a8-4b23-8f39-03f15532ff78": [
     "cdae791d-7958-4e7f-9f91-361d3cc63da2"
    ],
    "c62315d2-b45b-4dd8-950e-ecc76e457ad3": [
     "3b247b36-582a-4e30-bb17-470c6b84f0c0",
     "e095a41d-ff5d-44b7-9801-2ca06f086f66"
    ],
    "c974e476-249e-45ae-bb57-32ff6833df21": [
     "cdae791d-7958-4e7f-9f91-361d3cc63da2"
    ],
    "cdae791d-7958-4e7f-9f91-361d3cc63da2": [
     "c62315d2-b45b-4dd8-950e-ecc76e457ad3",
     "e095a41d-ff5d-44b7-9801-2ca06f086f66"
    ],
    "e095a41d-ff5d-44b7-9801-2ca06f086f66": []
   },
   "cell_parents": {
    "1fe73437-ab35-4bfb-9174-160dd344c929": [],
    "2e479cbf-5a97-40c6-8def-f7844993c770": [],
    "3b247b36-582a-4e30-bb17-470c6b84f0c0": [
     "c62315d2-b45b-4dd8-950e-ecc76e457ad3",
     "1fe73437-ab35-4bfb-9174-160dd344c929"
    ],
    "8a155049-e9a8-4b23-8f39-03f15532ff78": [],
    "c62315d2-b45b-4dd8-950e-ecc76e457ad3": [
     "cdae791d-7958-4e7f-9f91-361d3cc63da2",
     "1fe73437-ab35-4bfb-9174-160dd344c929"
    ],
    "c974e476-249e-45ae-bb57-32ff6833df21": [],
    "cdae791d-7958-4e7f-9f91-361d3cc63da2": [
     "c974e476-249e-45ae-bb57-32ff6833df21",
     "1fe73437-ab35-4bfb-9174-160dd344c929"
    ],
    "e095a41d-ff5d-44b7-9801-2ca06f086f66": [
     "c62315d2-b45b-4dd8-950e-ecc76e457ad3",
     "cdae791d-7958-4e7f-9f91-361d3cc63da2",
     "1fe73437-ab35-4bfb-9174-160dd344c929"
    ]
   }
  },
  "kernelspec": {
   "display_name": "Python 3 (ipykernel)",
   "language": "python",
   "name": "python3"
  },
  "language_info": {
   "codemirror_mode": {
    "name": "ipython",
    "version": 3
   },
   "file_extension": ".py",
   "mimetype": "text/x-python",
   "name": "python",
   "nbconvert_exporter": "python",
   "pygments_lexer": "ipython3",
   "version": "3.13.5"
  }
 },
 "nbformat": 4,
 "nbformat_minor": 5
}
