{
 "cells": [
  {
   "cell_type": "code",
   "execution_count": 1,
   "id": "5ac796e5-c274-484b-8109-d46e13cc18c2",
   "metadata": {},
   "outputs": [],
   "source": [
    "a = \"h\"  "
   ]
  },
  {
   "cell_type": "code",
   "execution_count": 4,
   "id": "bea408bf",
   "metadata": {},
   "outputs": [],
   "source": [
    "a += \"goodby\" "
   ]
  },
  {
   "cell_type": "code",
   "execution_count": 5,
   "id": "b866b48f-980c-4f42-99a3-3c9ac33a81f3",
   "metadata": {},
   "outputs": [
    {
     "name": "stdout",
     "output_type": "stream",
     "text": [
      "14\n"
     ]
    }
   ],
   "source": [
    "print(len(a))"
   ]
  }
 ],
 "metadata": {
  "ipyflow": {
   "cell_children": {
    "27b27d54-3aed-4d46-a5cb-afa4a3ae861a": [
     "b866b48f-980c-4f42-99a3-3c9ac33a81f3"
    ],
    "5ac796e5-c274-484b-8109-d46e13cc18c2": [
     "bea408bf"
    ],
    "b866b48f-980c-4f42-99a3-3c9ac33a81f3": [],
    "bea408bf": [
     "b866b48f-980c-4f42-99a3-3c9ac33a81f3"
    ]
   },
   "cell_parents": {
    "27b27d54-3aed-4d46-a5cb-afa4a3ae861a": [
     "5ac796e5-c274-484b-8109-d46e13cc18c2"
    ],
    "5ac796e5-c274-484b-8109-d46e13cc18c2": [],
    "b866b48f-980c-4f42-99a3-3c9ac33a81f3": [
     "bea408bf"
    ],
    "bea408bf": [
     "5ac796e5-c274-484b-8109-d46e13cc18c2"
    ]
   }
  },
  "kernelspec": {
   "display_name": "Python 3 (ipykernel)",
   "language": "python",
   "name": "python3"
  },
  "language_info": {
   "codemirror_mode": {
    "name": "ipython",
    "version": 3
   },
   "file_extension": ".py",
   "mimetype": "text/x-python",
   "name": "python",
   "nbconvert_exporter": "python",
   "pygments_lexer": "ipython3",
   "version": "3.13.5"
  }
 },
 "nbformat": 4,
 "nbformat_minor": 5
}
