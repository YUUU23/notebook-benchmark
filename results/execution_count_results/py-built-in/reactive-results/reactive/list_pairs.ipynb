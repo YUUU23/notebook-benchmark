{
 "cells": [
  {
   "cell_type": "code",
   "execution_count": 1,
   "id": "8f44a1d3-6c2c-4805-8635-8cac589b4a18",
   "metadata": {},
   "outputs": [],
   "source": [
    "l1 = [1,2,3]"
   ]
  },
  {
   "cell_type": "code",
   "execution_count": 5,
   "id": "c84f2692-678d-4a2a-8d59-f0b17ea93b67",
   "metadata": {},
   "outputs": [],
   "source": [
    "l2 = [4,5,9]"
   ]
  },
  {
   "cell_type": "code",
   "execution_count": 6,
   "id": "99dbf9ad-1721-47c5-8be3-2f3d523a47ef",
   "metadata": {},
   "outputs": [],
   "source": [
    "pairs = [(x, y) for x in l1 for y in l2]"
   ]
  },
  {
   "cell_type": "code",
   "execution_count": 7,
   "id": "6f6d5dc6-0c6c-4335-8f0c-fc20a22e4345",
   "metadata": {},
   "outputs": [
    {
     "name": "stdout",
     "output_type": "stream",
     "text": [
      "[(1, 4), (1, 5), (1, 9), (2, 4), (2, 5), (2, 9), (3, 4), (3, 5), (3, 9)]\n"
     ]
    }
   ],
   "source": [
    "print(pairs)"
   ]
  }
 ],
 "metadata": {
  "ipyflow": {
   "cell_children": {
    "6f6d5dc6-0c6c-4335-8f0c-fc20a22e4345": [],
    "8f44a1d3-6c2c-4805-8635-8cac589b4a18": [
     "99dbf9ad-1721-47c5-8be3-2f3d523a47ef"
    ],
    "99dbf9ad-1721-47c5-8be3-2f3d523a47ef": [
     "6f6d5dc6-0c6c-4335-8f0c-fc20a22e4345"
    ],
    "c84f2692-678d-4a2a-8d59-f0b17ea93b67": [
     "99dbf9ad-1721-47c5-8be3-2f3d523a47ef"
    ]
   },
   "cell_parents": {
    "6f6d5dc6-0c6c-4335-8f0c-fc20a22e4345": [
     "99dbf9ad-1721-47c5-8be3-2f3d523a47ef"
    ],
    "8f44a1d3-6c2c-4805-8635-8cac589b4a18": [],
    "99dbf9ad-1721-47c5-8be3-2f3d523a47ef": [
     "c84f2692-678d-4a2a-8d59-f0b17ea93b67",
     "8f44a1d3-6c2c-4805-8635-8cac589b4a18"
    ],
    "c84f2692-678d-4a2a-8d59-f0b17ea93b67": []
   }
  },
  "kernelspec": {
   "display_name": "Python 3 (ipykernel)",
   "language": "python",
   "name": "python3"
  },
  "language_info": {
   "codemirror_mode": {
    "name": "ipython",
    "version": 3
   },
   "file_extension": ".py",
   "mimetype": "text/x-python",
   "name": "python",
   "nbconvert_exporter": "python",
   "pygments_lexer": "ipython3",
   "version": "3.13.5"
  }
 },
 "nbformat": 4,
 "nbformat_minor": 5
}
