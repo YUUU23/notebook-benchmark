{
 "cells": [
  {
   "cell_type": "code",
   "execution_count": 4,
   "id": "04eeb982-b34c-4afb-9efe-2dceb8038af7",
   "metadata": {},
   "outputs": [],
   "source": [
    "a = ['c', 'bbbb', 'da'] "
   ]
  },
  {
   "cell_type": "code",
   "execution_count": 5,
   "id": "a13cbfcc-a1c9-4148-ac24-34311d9be626",
   "metadata": {},
   "outputs": [],
   "source": [
    "a.sort()"
   ]
  },
  {
   "cell_type": "code",
   "execution_count": 6,
   "id": "a1b5ef7c-2048-486a-a905-57c28dcda14e",
   "metadata": {},
   "outputs": [
    {
     "name": "stdout",
     "output_type": "stream",
     "text": [
      "da\n"
     ]
    }
   ],
   "source": [
    "print(a[-1])"
   ]
  }
 ],
 "metadata": {
  "kernelspec": {
   "display_name": "Python 3 (ipykernel)",
   "language": "python",
   "name": "python3"
  },
  "language_info": {
   "codemirror_mode": {
    "name": "ipython",
    "version": 3
   },
   "file_extension": ".py",
   "mimetype": "text/x-python",
   "name": "python",
   "nbconvert_exporter": "python",
   "pygments_lexer": "ipython3",
   "version": "3.13.5"
  }
 },
 "nbformat": 4,
 "nbformat_minor": 5
}
