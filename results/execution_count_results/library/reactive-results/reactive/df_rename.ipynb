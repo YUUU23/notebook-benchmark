{
 "cells": [
  {
   "cell_type": "code",
   "execution_count": 1,
   "id": "a1ca0177-dc38-4b3c-93f4-e86357c27f94",
   "metadata": {
    "tags": []
   },
   "outputs": [],
   "source": [
    "import pandas as pd"
   ]
  },
  {
   "cell_type": "code",
   "execution_count": 2,
   "id": "6cc92b41-31ad-4933-8146-c9f97d1a8f14",
   "metadata": {
    "tags": []
   },
   "outputs": [],
   "source": [
    "path = \"../data/nyc-taxi.csv\" "
   ]
  },
  {
   "cell_type": "code",
   "execution_count": 3,
   "id": "cf1fed6f-5c51-4e78-a0fb-72d5506b0f26",
   "metadata": {
    "tags": []
   },
   "outputs": [
    {
     "name": "stdout",
     "output_type": "stream",
     "text": [
      "Index(['Unnamed: 0', 'vendor_id', 'pickup_datetime', 'dropoff_datetime',\n",
      "       'passenger_count', 'trip_distance', 'pickup_longitude',\n",
      "       'pickup_latitude', 'rate_code', 'store_and_fwd_flag',\n",
      "       'dropoff_longitude', 'dropoff_latitude', 'payment_type', 'fare_amount',\n",
      "       'extra', 'mta_tax', 'tip_amount', 'tolls_amount', 'imp_surcharge',\n",
      "       'total_amount'],\n",
      "      dtype='object')\n"
     ]
    }
   ],
   "source": [
    "try:\n",
    "    df = pd.read_csv(path)\n",
    "    print(df.columns)\n",
    "except e:\n",
    "    print(f'failed to read in data: {path}, {e}')"
   ]
  },
  {
   "cell_type": "code",
   "execution_count": 6,
   "id": "e086eace-433e-4e41-ab2e-0ff4014b5ff4",
   "metadata": {
    "tags": []
   },
   "outputs": [],
   "source": [
    "df.rename(columns={'tolls_amount': 'tolls_charge',\"rate_code\": \"rate_code_in_area\"}, inplace=True)"
   ]
  },
  {
   "cell_type": "code",
   "execution_count": 7,
   "id": "be214678-89b5-4e09-9969-b6b4534b5d29",
   "metadata": {
    "tags": []
   },
   "outputs": [
    {
     "name": "stdout",
     "output_type": "stream",
     "text": [
      "number of columns Index(['Unnamed: 0', 'vendor_id', 'pickup_datetime', 'dropoff_datetime',\n",
      "       'passenger_count', 'trip_distance', 'pickup_longitude',\n",
      "       'pickup_latitude', 'rate_code_in_area', 'store_and_fwd_flag',\n",
      "       'dropoff_longitude', 'dropoff_latitude', 'payment_type', 'fare_amount',\n",
      "       'extra', 'mta_tax', 'tip_amount', 'tolls_charge', 'imp_surcharge',\n",
      "       'total_amount'],\n",
      "      dtype='object')\n"
     ]
    }
   ],
   "source": [
    "print(f'number of columns {df.columns}')"
   ]
  }
 ],
 "metadata": {
  "kernelspec": {
   "display_name": "Python 3 (ipykernel)",
   "language": "python",
   "name": "python3"
  },
  "language_info": {
   "codemirror_mode": {
    "name": "ipython",
    "version": 3
   },
   "file_extension": ".py",
   "mimetype": "text/x-python",
   "name": "python",
   "nbconvert_exporter": "python",
   "pygments_lexer": "ipython3",
   "version": "3.13.5"
  }
 },
 "nbformat": 4,
 "nbformat_minor": 5
}
