{
 "cells": [
  {
   "cell_type": "code",
   "execution_count": 1,
   "id": "ad1f7764-e7b0-4e44-88b1-f994b91ce5b0",
   "metadata": {},
   "outputs": [],
   "source": [
    "path = \"new.txt\""
   ]
  },
  {
   "cell_type": "code",
   "execution_count": 2,
   "id": "1f3c30c9-2e68-4710-b4f9-5848b0491fda",
   "metadata": {},
   "outputs": [],
   "source": [
    "text = \"abcdef\""
   ]
  },
  {
   "cell_type": "code",
   "execution_count": 3,
   "id": "582e71a2-faab-4905-a05f-da0296fe43ec",
   "metadata": {
    "tags": []
   },
   "outputs": [],
   "source": [
    "with open(path, 'w') as file:\n",
    "    file.write(text)"
   ]
  },
  {
   "cell_type": "code",
   "execution_count": 4,
   "id": "ea550d60-7a61-44c4-8554-d138253d449b",
   "metadata": {
    "tags": []
   },
   "outputs": [
    {
     "name": "stdout",
     "output_type": "stream",
     "text": [
      "abcdef\n"
     ]
    }
   ],
   "source": [
    "with open(path) as file:\n",
    "    print(file.read())"
   ]
  }
 ],
 "metadata": {
  "kernelspec": {
   "display_name": "Python 3 (ipykernel)",
   "language": "python",
   "name": "python3"
  },
  "language_info": {
   "codemirror_mode": {
    "name": "ipython",
    "version": 3
   },
   "file_extension": ".py",
   "mimetype": "text/x-python",
   "name": "python",
   "nbconvert_exporter": "python",
   "pygments_lexer": "ipython3",
   "version": "3.13.5"
  }
 },
 "nbformat": 4,
 "nbformat_minor": 5
}
