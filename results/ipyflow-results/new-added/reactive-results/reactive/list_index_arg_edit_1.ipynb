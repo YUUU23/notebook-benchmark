{
 "cells": [
  {
   "cell_type": "code",
   "execution_count": 5,
   "id": "627aaf91-2ffa-4a1a-af9d-7fd482315c9e",
   "metadata": {},
   "outputs": [],
   "source": [
    "x = [1,2,3]"
   ]
  },
  {
   "cell_type": "code",
   "execution_count": 2,
   "id": "b070cd7c-9129-4737-9c7a-bfec27c2056d",
   "metadata": {},
   "outputs": [],
   "source": [
    "a = 4"
   ]
  },
  {
   "cell_type": "code",
   "execution_count": 6,
   "id": "cd7b6f6b-8b75-4054-bdd8-9b7b7fb679de",
   "metadata": {},
   "outputs": [],
   "source": [
    "x.append(a + 2)"
   ]
  },
  {
   "cell_type": "code",
   "execution_count": 7,
   "id": "ed53eb69-ecda-4baf-8d81-497b5befab00",
   "metadata": {},
   "outputs": [
    {
     "name": "stdout",
     "output_type": "stream",
     "text": [
      "[1, 2, 3, 6]\n"
     ]
    }
   ],
   "source": [
    "print(x)"
   ]
  }
 ],
 "metadata": {
  "ipyflow": {
   "cell_children": {
    "627aaf91-2ffa-4a1a-af9d-7fd482315c9e": [
     "cd7b6f6b-8b75-4054-bdd8-9b7b7fb679de",
     "ed53eb69-ecda-4baf-8d81-497b5befab00"
    ],
    "b070cd7c-9129-4737-9c7a-bfec27c2056d": [
     "cd7b6f6b-8b75-4054-bdd8-9b7b7fb679de"
    ],
    "cd7b6f6b-8b75-4054-bdd8-9b7b7fb679de": [
     "ed53eb69-ecda-4baf-8d81-497b5befab00"
    ],
    "ed53eb69-ecda-4baf-8d81-497b5befab00": []
   },
   "cell_parents": {
    "627aaf91-2ffa-4a1a-af9d-7fd482315c9e": [],
    "b070cd7c-9129-4737-9c7a-bfec27c2056d": [],
    "cd7b6f6b-8b75-4054-bdd8-9b7b7fb679de": [
     "b070cd7c-9129-4737-9c7a-bfec27c2056d",
     "627aaf91-2ffa-4a1a-af9d-7fd482315c9e"
    ],
    "ed53eb69-ecda-4baf-8d81-497b5befab00": [
     "cd7b6f6b-8b75-4054-bdd8-9b7b7fb679de",
     "627aaf91-2ffa-4a1a-af9d-7fd482315c9e"
    ]
   }
  },
  "kernelspec": {
   "display_name": "Python 3 (ipyflow)",
   "language": "python",
   "name": "ipyflow"
  },
  "language_info": {
   "codemirror_mode": {
    "name": "ipython",
    "version": 3
   },
   "file_extension": ".py",
   "mimetype": "text/x-python",
   "name": "python",
   "nbconvert_exporter": "python",
   "pygments_lexer": "ipython3",
   "version": "3.13.5"
  }
 },
 "nbformat": 4,
 "nbformat_minor": 5
}
