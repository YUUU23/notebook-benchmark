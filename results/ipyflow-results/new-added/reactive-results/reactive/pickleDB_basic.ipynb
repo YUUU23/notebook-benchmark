{
 "cells": [
  {
   "cell_type": "code",
   "execution_count": 1,
   "id": "2cfde71b-69f9-4298-9afd-2583dc73e00d",
   "metadata": {},
   "outputs": [],
   "source": [
    "from pickledb import PickleDB"
   ]
  },
  {
   "cell_type": "code",
   "execution_count": 7,
   "id": "72051d7f-042d-4916-ac14-2c416392c168",
   "metadata": {},
   "outputs": [],
   "source": [
    "db = PickleDB('test.db')"
   ]
  },
  {
   "cell_type": "code",
   "execution_count": 8,
   "id": "69e629a6-80f5-437f-95bc-eecd9ee223c8",
   "metadata": {},
   "outputs": [],
   "source": [
    "k = 'k1'"
   ]
  },
  {
   "cell_type": "code",
   "execution_count": 9,
   "id": "a7206c11-ca59-4c7d-8d4d-63c1a08358c8",
   "metadata": {},
   "outputs": [
    {
     "data": {
      "text/plain": [
       "True"
      ]
     },
     "execution_count": 9,
     "metadata": {},
     "output_type": "execute_result"
    }
   ],
   "source": [
    "db.set(k, 'v2')"
   ]
  },
  {
   "cell_type": "code",
   "execution_count": 5,
   "id": "2aad7820-db2d-4e4c-8e80-930f000b6287",
   "metadata": {},
   "outputs": [],
   "source": [
    "db.get('k1')"
   ]
  },
  {
   "cell_type": "code",
   "execution_count": 6,
   "id": "2334d628-36f5-4f94-9186-646a9cb71091",
   "metadata": {},
   "outputs": [
    {
     "data": {
      "text/plain": [
       "'v2'"
      ]
     },
     "execution_count": 6,
     "metadata": {},
     "output_type": "execute_result"
    }
   ],
   "source": [
    "db.get('k2')"
   ]
  }
 ],
 "metadata": {
  "ipyflow": {
   "cell_children": {
    "2334d628-36f5-4f94-9186-646a9cb71091": [],
    "2aad7820-db2d-4e4c-8e80-930f000b6287": [
     "2334d628-36f5-4f94-9186-646a9cb71091"
    ],
    "2cfde71b-69f9-4298-9afd-2583dc73e00d": [
     "2aad7820-db2d-4e4c-8e80-930f000b6287",
     "a7206c11-ca59-4c7d-8d4d-63c1a08358c8",
     "2334d628-36f5-4f94-9186-646a9cb71091",
     "72051d7f-042d-4916-ac14-2c416392c168"
    ],
    "69e629a6-80f5-437f-95bc-eecd9ee223c8": [
     "a7206c11-ca59-4c7d-8d4d-63c1a08358c8"
    ],
    "6b24c525-92c7-4bb0-bc8a-ab43e3957b90": [],
    "72051d7f-042d-4916-ac14-2c416392c168": [
     "2aad7820-db2d-4e4c-8e80-930f000b6287",
     "a7206c11-ca59-4c7d-8d4d-63c1a08358c8"
    ],
    "764650c0-be79-4981-8fb6-df23cb93edd9": [],
    "7e12b3aa-5710-4eb2-b4d3-e9424b0d5dc3": [],
    "a454af57-7c4c-4e3d-9bd0-661b1d2d51c9": [],
    "a7206c11-ca59-4c7d-8d4d-63c1a08358c8": [],
    "aff1661f-1dd5-405b-be0d-e32835abf38d": []
   },
   "cell_parents": {
    "2334d628-36f5-4f94-9186-646a9cb71091": [
     "2aad7820-db2d-4e4c-8e80-930f000b6287",
     "2cfde71b-69f9-4298-9afd-2583dc73e00d"
    ],
    "2aad7820-db2d-4e4c-8e80-930f000b6287": [
     "2cfde71b-69f9-4298-9afd-2583dc73e00d",
     "72051d7f-042d-4916-ac14-2c416392c168"
    ],
    "2cfde71b-69f9-4298-9afd-2583dc73e00d": [],
    "69e629a6-80f5-437f-95bc-eecd9ee223c8": [],
    "6b24c525-92c7-4bb0-bc8a-ab43e3957b90": [],
    "72051d7f-042d-4916-ac14-2c416392c168": [
     "2cfde71b-69f9-4298-9afd-2583dc73e00d"
    ],
    "764650c0-be79-4981-8fb6-df23cb93edd9": [],
    "7e12b3aa-5710-4eb2-b4d3-e9424b0d5dc3": [],
    "a454af57-7c4c-4e3d-9bd0-661b1d2d51c9": [],
    "a7206c11-ca59-4c7d-8d4d-63c1a08358c8": [
     "2cfde71b-69f9-4298-9afd-2583dc73e00d",
     "72051d7f-042d-4916-ac14-2c416392c168",
     "69e629a6-80f5-437f-95bc-eecd9ee223c8"
    ],
    "aff1661f-1dd5-405b-be0d-e32835abf38d": []
   }
  },
  "kernelspec": {
   "display_name": "Python 3 (ipyflow)",
   "language": "python",
   "name": "ipyflow"
  },
  "language_info": {
   "codemirror_mode": {
    "name": "ipython",
    "version": 3
   },
   "file_extension": ".py",
   "mimetype": "text/x-python",
   "name": "python",
   "nbconvert_exporter": "python",
   "pygments_lexer": "ipython3",
   "version": "3.13.5"
  }
 },
 "nbformat": 4,
 "nbformat_minor": 5
}
