{
 "cells": [
  {
   "cell_type": "code",
   "execution_count": 1,
   "id": "782a4667-cfb8-42fc-8c80-aab8b6cf7bb5",
   "metadata": {},
   "outputs": [],
   "source": [
    "import numpy as np"
   ]
  },
  {
   "cell_type": "code",
   "execution_count": 2,
   "id": "68ecc081-94a8-4c15-83d6-e4323eadcbac",
   "metadata": {},
   "outputs": [],
   "source": [
    "x = np.array([1,2,3])"
   ]
  },
  {
   "cell_type": "code",
   "execution_count": 3,
   "id": "de783627-c3bb-468d-9785-26484a002a0c",
   "metadata": {},
   "outputs": [],
   "source": [
    "z = x[:] "
   ]
  },
  {
   "cell_type": "code",
   "execution_count": 7,
   "id": "81dd29a7-7aeb-4b2f-a720-2e6129055279",
   "metadata": {},
   "outputs": [],
   "source": [
    "z[0] = 10"
   ]
  },
  {
   "cell_type": "code",
   "execution_count": 5,
   "id": "62469872-7ce0-43f5-90c4-bc300c9761ed",
   "metadata": {},
   "outputs": [],
   "source": [
    "y = x[0]"
   ]
  },
  {
   "cell_type": "code",
   "execution_count": 6,
   "id": "eb1a194c-1099-469c-b316-88edcdacc862",
   "metadata": {},
   "outputs": [
    {
     "name": "stdout",
     "output_type": "stream",
     "text": [
      "20\n"
     ]
    }
   ],
   "source": [
    "print(y)"
   ]
  }
 ],
 "metadata": {
  "ipyflow": {
   "cell_children": {
    "62469872-7ce0-43f5-90c4-bc300c9761ed": [
     "eb1a194c-1099-469c-b316-88edcdacc862"
    ],
    "68ecc081-94a8-4c15-83d6-e4323eadcbac": [
     "62469872-7ce0-43f5-90c4-bc300c9761ed",
     "de783627-c3bb-468d-9785-26484a002a0c"
    ],
    "782a4667-cfb8-42fc-8c80-aab8b6cf7bb5": [
     "68ecc081-94a8-4c15-83d6-e4323eadcbac"
    ],
    "7fdd42de-b7c2-4db9-967c-4d7db54bdbd1": [],
    "81dd29a7-7aeb-4b2f-a720-2e6129055279": [],
    "de783627-c3bb-468d-9785-26484a002a0c": [
     "81dd29a7-7aeb-4b2f-a720-2e6129055279"
    ],
    "e42d3613-1f73-4b2b-affa-ac419c88fdb8": [],
    "eb1a194c-1099-469c-b316-88edcdacc862": []
   },
   "cell_parents": {
    "62469872-7ce0-43f5-90c4-bc300c9761ed": [
     "68ecc081-94a8-4c15-83d6-e4323eadcbac"
    ],
    "68ecc081-94a8-4c15-83d6-e4323eadcbac": [
     "782a4667-cfb8-42fc-8c80-aab8b6cf7bb5"
    ],
    "782a4667-cfb8-42fc-8c80-aab8b6cf7bb5": [],
    "7fdd42de-b7c2-4db9-967c-4d7db54bdbd1": [],
    "81dd29a7-7aeb-4b2f-a720-2e6129055279": [
     "de783627-c3bb-468d-9785-26484a002a0c"
    ],
    "de783627-c3bb-468d-9785-26484a002a0c": [
     "68ecc081-94a8-4c15-83d6-e4323eadcbac"
    ],
    "e42d3613-1f73-4b2b-affa-ac419c88fdb8": [],
    "eb1a194c-1099-469c-b316-88edcdacc862": [
     "62469872-7ce0-43f5-90c4-bc300c9761ed"
    ]
   }
  },
  "kernelspec": {
   "display_name": "Python 3 (ipyflow)",
   "language": "python",
   "name": "ipyflow"
  },
  "language_info": {
   "codemirror_mode": {
    "name": "ipython",
    "version": 3
   },
   "file_extension": ".py",
   "mimetype": "text/x-python",
   "name": "python",
   "nbconvert_exporter": "python",
   "pygments_lexer": "ipython3",
   "version": "3.13.5"
  }
 },
 "nbformat": 4,
 "nbformat_minor": 5
}
