{
 "cells": [
  {
   "cell_type": "code",
   "execution_count": 1,
   "id": "c3bfb4d1-3dd9-4c41-94ce-c6f6d6bd8775",
   "metadata": {},
   "outputs": [],
   "source": [
    "import numpy as np"
   ]
  },
  {
   "cell_type": "code",
   "execution_count": 2,
   "id": "4bf15b2f-60cf-43bf-9de5-0bc4b8179d34",
   "metadata": {},
   "outputs": [],
   "source": [
    "x = np.array([1,2,3])"
   ]
  },
  {
   "cell_type": "code",
   "execution_count": 6,
   "id": "7005c6e8-f245-4710-9d65-0a0accdab522",
   "metadata": {},
   "outputs": [],
   "source": [
    "x[0] = 10 "
   ]
  },
  {
   "cell_type": "code",
   "execution_count": 7,
   "id": "e45f0f93-bc77-465c-a599-e3c2722cc04d",
   "metadata": {},
   "outputs": [],
   "source": [
    "y = x[0]"
   ]
  },
  {
   "cell_type": "code",
   "execution_count": 8,
   "id": "f717be9c-2554-411b-bd76-6871fda1e568",
   "metadata": {},
   "outputs": [
    {
     "name": "stdout",
     "output_type": "stream",
     "text": [
      "10\n"
     ]
    }
   ],
   "source": [
    "print(y)"
   ]
  }
 ],
 "metadata": {
  "ipyflow": {
   "cell_children": {
    "4bf15b2f-60cf-43bf-9de5-0bc4b8179d34": [
     "7005c6e8-f245-4710-9d65-0a0accdab522"
    ],
    "7005c6e8-f245-4710-9d65-0a0accdab522": [
     "e45f0f93-bc77-465c-a599-e3c2722cc04d"
    ],
    "c3bfb4d1-3dd9-4c41-94ce-c6f6d6bd8775": [
     "4bf15b2f-60cf-43bf-9de5-0bc4b8179d34"
    ],
    "d3c90b3f-d6d3-430d-95fb-23e3039bd565": [],
    "e45f0f93-bc77-465c-a599-e3c2722cc04d": [
     "f717be9c-2554-411b-bd76-6871fda1e568"
    ],
    "f717be9c-2554-411b-bd76-6871fda1e568": []
   },
   "cell_parents": {
    "4bf15b2f-60cf-43bf-9de5-0bc4b8179d34": [
     "c3bfb4d1-3dd9-4c41-94ce-c6f6d6bd8775"
    ],
    "7005c6e8-f245-4710-9d65-0a0accdab522": [
     "4bf15b2f-60cf-43bf-9de5-0bc4b8179d34"
    ],
    "c3bfb4d1-3dd9-4c41-94ce-c6f6d6bd8775": [],
    "d3c90b3f-d6d3-430d-95fb-23e3039bd565": [],
    "e45f0f93-bc77-465c-a599-e3c2722cc04d": [
     "7005c6e8-f245-4710-9d65-0a0accdab522"
    ],
    "f717be9c-2554-411b-bd76-6871fda1e568": [
     "e45f0f93-bc77-465c-a599-e3c2722cc04d"
    ]
   }
  },
  "kernelspec": {
   "display_name": "Python 3 (ipyflow)",
   "language": "python",
   "name": "ipyflow"
  },
  "language_info": {
   "codemirror_mode": {
    "name": "ipython",
    "version": 3
   },
   "file_extension": ".py",
   "mimetype": "text/x-python",
   "name": "python",
   "nbconvert_exporter": "python",
   "pygments_lexer": "ipython3",
   "version": "3.13.5"
  }
 },
 "nbformat": 4,
 "nbformat_minor": 5
}
