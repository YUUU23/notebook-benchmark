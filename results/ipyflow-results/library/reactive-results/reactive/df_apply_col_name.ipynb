{
 "cells": [
  {
   "cell_type": "code",
   "execution_count": 6,
   "id": "4eb3b7a2-03c6-43d8-b040-729421feb6a2",
   "metadata": {
    "tags": []
   },
   "outputs": [],
   "source": [
    "import pandas as pd"
   ]
  },
  {
   "cell_type": "code",
   "execution_count": 2,
   "id": "1cc3b429-f4bb-4507-a78c-f9b2f2520449",
   "metadata": {
    "tags": []
   },
   "outputs": [],
   "source": [
    "path = \"../data/nyc-taxi.csv\" "
   ]
  },
  {
   "cell_type": "code",
   "execution_count": 7,
   "id": "7d4ea7b3-e6d6-4265-a332-99fd000cf986",
   "metadata": {
    "scrolled": true,
    "tags": []
   },
   "outputs": [
    {
     "name": "stdout",
     "output_type": "stream",
     "text": [
      "   Unnamed: 0  vendor_id      pickup_datetime     dropoff_datetime  \\\n",
      "0           0          2  2015-07-18 11:25:58  2015-07-18 11:43:47   \n",
      "1           1          1  2015-03-15 12:50:01  2015-03-15 13:23:35   \n",
      "2           2          2  2015-04-30 12:25:44  2015-04-30 13:03:51   \n",
      "3           3          2  2015-05-28 08:47:56  2015-05-28 09:26:08   \n",
      "4           4          1  2015-06-20 19:36:17  2015-06-20 20:10:49   \n",
      "\n",
      "   passenger_count  trip_distance  pickup_longitude  pickup_latitude  \\\n",
      "0                1           7.21        -73.862762        40.769028   \n",
      "1                1          10.80        -73.870926        40.773727   \n",
      "2                1           4.28        -73.978180        40.762341   \n",
      "3                1          18.47        -73.776711        40.645302   \n",
      "4                1          15.50        -73.777054        40.644947   \n",
      "\n",
      "   rate_code store_and_fwd_flag  dropoff_longitude  dropoff_latitude  \\\n",
      "0        1.0                  N         -73.949203         40.722584   \n",
      "1        NaN                  N         -73.988228         40.765694   \n",
      "2        NaN                  N         -74.008911         40.710789   \n",
      "3        NaN                  N         -73.843422         40.852852   \n",
      "4        NaN                  Y         -73.946800         40.725021   \n",
      "\n",
      "   payment_type  fare_amount  extra  mta_tax  tip_amount  tolls_amount  \\\n",
      "0             1         22.5    0.0      0.5        4.66          0.00   \n",
      "1             1         34.5    0.0      0.5        8.10          5.33   \n",
      "2             1         24.5    0.0      0.5        2.50          0.00   \n",
      "3             1         51.0    0.0      0.5        7.00          5.54   \n",
      "4             1         44.5    0.0      0.5        9.06          0.00   \n",
      "\n",
      "   imp_surcharge  total_amount  \n",
      "0            0.3         27.96  \n",
      "1            0.3         48.73  \n",
      "2            0.3         27.80  \n",
      "3            0.3         64.34  \n",
      "4            0.3         54.36  \n"
     ]
    }
   ],
   "source": [
    "try:\n",
    "    df = pd.read_csv(path)\n",
    "    print(df.head())\n",
    "except:\n",
    "    print(f'failed to read in data: {path}')"
   ]
  },
  {
   "cell_type": "code",
   "execution_count": 8,
   "id": "3d2bcb09-99aa-442e-80a3-d57198f1f2a2",
   "metadata": {
    "tags": []
   },
   "outputs": [],
   "source": [
    "df['bad_tip'] = df['total_amount'].apply(lambda x: 'Yes' if x >= 3.0 else 'No')"
   ]
  },
  {
   "cell_type": "code",
   "execution_count": 9,
   "id": "f7a00eb2-e82d-4547-aae3-3beeb5a1ef0e",
   "metadata": {
    "scrolled": true,
    "tags": []
   },
   "outputs": [
    {
     "name": "stdout",
     "output_type": "stream",
     "text": [
      "   Unnamed: 0  vendor_id      pickup_datetime     dropoff_datetime  \\\n",
      "0           0          2  2015-07-18 11:25:58  2015-07-18 11:43:47   \n",
      "1           1          1  2015-03-15 12:50:01  2015-03-15 13:23:35   \n",
      "2           2          2  2015-04-30 12:25:44  2015-04-30 13:03:51   \n",
      "3           3          2  2015-05-28 08:47:56  2015-05-28 09:26:08   \n",
      "4           4          1  2015-06-20 19:36:17  2015-06-20 20:10:49   \n",
      "\n",
      "   passenger_count  trip_distance  pickup_longitude  pickup_latitude  \\\n",
      "0                1           7.21        -73.862762        40.769028   \n",
      "1                1          10.80        -73.870926        40.773727   \n",
      "2                1           4.28        -73.978180        40.762341   \n",
      "3                1          18.47        -73.776711        40.645302   \n",
      "4                1          15.50        -73.777054        40.644947   \n",
      "\n",
      "   rate_code store_and_fwd_flag  ...  dropoff_latitude  payment_type  \\\n",
      "0        1.0                  N  ...         40.722584             1   \n",
      "1        NaN                  N  ...         40.765694             1   \n",
      "2        NaN                  N  ...         40.710789             1   \n",
      "3        NaN                  N  ...         40.852852             1   \n",
      "4        NaN                  Y  ...         40.725021             1   \n",
      "\n",
      "   fare_amount  extra  mta_tax  tip_amount  tolls_amount  imp_surcharge  \\\n",
      "0         22.5    0.0      0.5        4.66          0.00            0.3   \n",
      "1         34.5    0.0      0.5        8.10          5.33            0.3   \n",
      "2         24.5    0.0      0.5        2.50          0.00            0.3   \n",
      "3         51.0    0.0      0.5        7.00          5.54            0.3   \n",
      "4         44.5    0.0      0.5        9.06          0.00            0.3   \n",
      "\n",
      "   total_amount  bad_tip  \n",
      "0         27.96      Yes  \n",
      "1         48.73      Yes  \n",
      "2         27.80      Yes  \n",
      "3         64.34      Yes  \n",
      "4         54.36      Yes  \n",
      "\n",
      "[5 rows x 21 columns]\n"
     ]
    }
   ],
   "source": [
    "print(df.head())"
   ]
  }
 ],
 "metadata": {
  "ipyflow": {
   "cell_children": {
    "1cc3b429-f4bb-4507-a78c-f9b2f2520449": [
     "7d4ea7b3-e6d6-4265-a332-99fd000cf986"
    ],
    "3d2bcb09-99aa-442e-80a3-d57198f1f2a2": [
     "f7a00eb2-e82d-4547-aae3-3beeb5a1ef0e"
    ],
    "4eb3b7a2-03c6-43d8-b040-729421feb6a2": [
     "7d4ea7b3-e6d6-4265-a332-99fd000cf986"
    ],
    "7d4ea7b3-e6d6-4265-a332-99fd000cf986": [
     "f7a00eb2-e82d-4547-aae3-3beeb5a1ef0e",
     "3d2bcb09-99aa-442e-80a3-d57198f1f2a2"
    ],
    "f7a00eb2-e82d-4547-aae3-3beeb5a1ef0e": []
   },
   "cell_parents": {
    "1cc3b429-f4bb-4507-a78c-f9b2f2520449": [],
    "3d2bcb09-99aa-442e-80a3-d57198f1f2a2": [
     "7d4ea7b3-e6d6-4265-a332-99fd000cf986"
    ],
    "4eb3b7a2-03c6-43d8-b040-729421feb6a2": [],
    "7d4ea7b3-e6d6-4265-a332-99fd000cf986": [
     "1cc3b429-f4bb-4507-a78c-f9b2f2520449",
     "4eb3b7a2-03c6-43d8-b040-729421feb6a2"
    ],
    "f7a00eb2-e82d-4547-aae3-3beeb5a1ef0e": [
     "7d4ea7b3-e6d6-4265-a332-99fd000cf986",
     "3d2bcb09-99aa-442e-80a3-d57198f1f2a2"
    ]
   }
  },
  "kernelspec": {
   "display_name": "Python 3 (ipyflow)",
   "language": "python",
   "name": "ipyflow"
  },
  "language_info": {
   "codemirror_mode": {
    "name": "ipython",
    "version": 3
   },
   "file_extension": ".py",
   "mimetype": "text/x-python",
   "name": "python",
   "nbconvert_exporter": "python",
   "pygments_lexer": "ipython3",
   "version": "3.13.2"
  }
 },
 "nbformat": 4,
 "nbformat_minor": 5
}
