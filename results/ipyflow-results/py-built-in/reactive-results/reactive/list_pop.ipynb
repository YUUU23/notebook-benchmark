{
 "cells": [
  {
   "cell_type": "code",
   "execution_count": 4,
   "id": "1fe73437-ab35-4bfb-9174-160dd344c929",
   "metadata": {},
   "outputs": [],
   "source": [
    "ll = [[1],[2],[3]]"
   ]
  },
  {
   "cell_type": "code",
   "execution_count": 5,
   "id": "cdae791d-7958-4e7f-9f91-361d3cc63da2",
   "metadata": {},
   "outputs": [
    {
     "data": {
      "text/plain": [
       "[3]"
      ]
     },
     "execution_count": 5,
     "metadata": {},
     "output_type": "execute_result"
    }
   ],
   "source": [
    "ll.pop(2)"
   ]
  },
  {
   "cell_type": "code",
   "execution_count": 6,
   "id": "e095a41d-ff5d-44b7-9801-2ca06f086f66",
   "metadata": {},
   "outputs": [
    {
     "data": {
      "text/plain": [
       "2"
      ]
     },
     "execution_count": 6,
     "metadata": {},
     "output_type": "execute_result"
    }
   ],
   "source": [
    "len(ll)"
   ]
  }
 ],
 "metadata": {
  "ipyflow": {
   "cell_children": {
    "1fe73437-ab35-4bfb-9174-160dd344c929": [
     "cdae791d-7958-4e7f-9f91-361d3cc63da2",
     "e095a41d-ff5d-44b7-9801-2ca06f086f66"
    ],
    "2e479cbf-5a97-40c6-8def-f7844993c770": [],
    "3b247b36-582a-4e30-bb17-470c6b84f0c0": [],
    "8a155049-e9a8-4b23-8f39-03f15532ff78": [
     "cdae791d-7958-4e7f-9f91-361d3cc63da2"
    ],
    "c62315d2-b45b-4dd8-950e-ecc76e457ad3": [
     "e095a41d-ff5d-44b7-9801-2ca06f086f66"
    ],
    "cdae791d-7958-4e7f-9f91-361d3cc63da2": [
     "e095a41d-ff5d-44b7-9801-2ca06f086f66"
    ],
    "e095a41d-ff5d-44b7-9801-2ca06f086f66": []
   },
   "cell_parents": {
    "1fe73437-ab35-4bfb-9174-160dd344c929": [],
    "2e479cbf-5a97-40c6-8def-f7844993c770": [],
    "3b247b36-582a-4e30-bb17-470c6b84f0c0": [
     "1fe73437-ab35-4bfb-9174-160dd344c929"
    ],
    "8a155049-e9a8-4b23-8f39-03f15532ff78": [],
    "c62315d2-b45b-4dd8-950e-ecc76e457ad3": [
     "cdae791d-7958-4e7f-9f91-361d3cc63da2"
    ],
    "cdae791d-7958-4e7f-9f91-361d3cc63da2": [
     "1fe73437-ab35-4bfb-9174-160dd344c929"
    ],
    "e095a41d-ff5d-44b7-9801-2ca06f086f66": [
     "cdae791d-7958-4e7f-9f91-361d3cc63da2",
     "1fe73437-ab35-4bfb-9174-160dd344c929"
    ]
   }
  },
  "kernelspec": {
   "display_name": "Python 3 (ipyflow)",
   "language": "python",
   "name": "ipyflow"
  },
  "language_info": {
   "codemirror_mode": {
    "name": "ipython",
    "version": 3
   },
   "file_extension": ".py",
   "mimetype": "text/x-python",
   "name": "python",
   "nbconvert_exporter": "python",
   "pygments_lexer": "ipython3",
   "version": "3.13.5"
  }
 },
 "nbformat": 4,
 "nbformat_minor": 5
}
