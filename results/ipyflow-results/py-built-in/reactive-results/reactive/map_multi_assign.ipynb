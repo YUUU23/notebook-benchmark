{
 "cells": [
  {
   "cell_type": "code",
   "execution_count": 8,
   "id": "d9e8c423-6433-4991-95e5-1d7df9f73829",
   "metadata": {},
   "outputs": [],
   "source": [
    "m = {'a': 3, 'b': 2}"
   ]
  },
  {
   "cell_type": "code",
   "execution_count": 9,
   "id": "4180a55a-6afb-4fc3-8942-465e0d1a29c6",
   "metadata": {},
   "outputs": [],
   "source": [
    "m['c'] = m"
   ]
  },
  {
   "cell_type": "code",
   "execution_count": 10,
   "id": "4725394c-5cf1-48ca-bcd9-121c609d7ec2",
   "metadata": {},
   "outputs": [],
   "source": [
    "m['a'] = 11"
   ]
  },
  {
   "cell_type": "code",
   "execution_count": 11,
   "id": "572afa8e-fb31-43b5-937a-3560bf04fc0a",
   "metadata": {},
   "outputs": [
    {
     "name": "stdout",
     "output_type": "stream",
     "text": [
      "{'a': 11, 'b': 2, 'c': {...}}\n"
     ]
    }
   ],
   "source": [
    "print(m)"
   ]
  },
  {
   "cell_type": "code",
   "execution_count": 12,
   "id": "e8a06764-1e26-4efb-9d14-b7d4c735cbd3",
   "metadata": {},
   "outputs": [],
   "source": [
    "m['c'] = m['c']['a']"
   ]
  },
  {
   "cell_type": "code",
   "execution_count": 13,
   "id": "a85b1c88-4409-4fba-9b76-d766598b02ae",
   "metadata": {},
   "outputs": [],
   "source": [
    "m['a'] = m['c']"
   ]
  },
  {
   "cell_type": "code",
   "execution_count": 14,
   "id": "ae296764-b983-44e8-a9aa-79a57809c000",
   "metadata": {},
   "outputs": [
    {
     "name": "stdout",
     "output_type": "stream",
     "text": [
      "{'a': 11, 'b': 2, 'c': 11}\n"
     ]
    }
   ],
   "source": [
    "print(m)"
   ]
  }
 ],
 "metadata": {
  "ipyflow": {
   "cell_children": {
    "4180a55a-6afb-4fc3-8942-465e0d1a29c6": [
     "572afa8e-fb31-43b5-937a-3560bf04fc0a",
     "e8a06764-1e26-4efb-9d14-b7d4c735cbd3",
     "ae296764-b983-44e8-a9aa-79a57809c000"
    ],
    "4725394c-5cf1-48ca-bcd9-121c609d7ec2": [
     "572afa8e-fb31-43b5-937a-3560bf04fc0a",
     "e8a06764-1e26-4efb-9d14-b7d4c735cbd3"
    ],
    "572afa8e-fb31-43b5-937a-3560bf04fc0a": [],
    "a85b1c88-4409-4fba-9b76-d766598b02ae": [
     "ae296764-b983-44e8-a9aa-79a57809c000"
    ],
    "ae296764-b983-44e8-a9aa-79a57809c000": [],
    "be7a3dc1-a955-412d-b167-27e7a479172e": [],
    "d9e8c423-6433-4991-95e5-1d7df9f73829": [
     "e8a06764-1e26-4efb-9d14-b7d4c735cbd3",
     "4180a55a-6afb-4fc3-8942-465e0d1a29c6",
     "4725394c-5cf1-48ca-bcd9-121c609d7ec2",
     "572afa8e-fb31-43b5-937a-3560bf04fc0a",
     "a85b1c88-4409-4fba-9b76-d766598b02ae",
     "ae296764-b983-44e8-a9aa-79a57809c000"
    ],
    "e8a06764-1e26-4efb-9d14-b7d4c735cbd3": [
     "a85b1c88-4409-4fba-9b76-d766598b02ae",
     "ae296764-b983-44e8-a9aa-79a57809c000"
    ]
   },
   "cell_parents": {
    "4180a55a-6afb-4fc3-8942-465e0d1a29c6": [
     "d9e8c423-6433-4991-95e5-1d7df9f73829"
    ],
    "4725394c-5cf1-48ca-bcd9-121c609d7ec2": [
     "d9e8c423-6433-4991-95e5-1d7df9f73829"
    ],
    "572afa8e-fb31-43b5-937a-3560bf04fc0a": [
     "d9e8c423-6433-4991-95e5-1d7df9f73829",
     "4180a55a-6afb-4fc3-8942-465e0d1a29c6",
     "4725394c-5cf1-48ca-bcd9-121c609d7ec2"
    ],
    "a85b1c88-4409-4fba-9b76-d766598b02ae": [
     "d9e8c423-6433-4991-95e5-1d7df9f73829",
     "e8a06764-1e26-4efb-9d14-b7d4c735cbd3"
    ],
    "ae296764-b983-44e8-a9aa-79a57809c000": [
     "d9e8c423-6433-4991-95e5-1d7df9f73829",
     "e8a06764-1e26-4efb-9d14-b7d4c735cbd3",
     "a85b1c88-4409-4fba-9b76-d766598b02ae",
     "4180a55a-6afb-4fc3-8942-465e0d1a29c6"
    ],
    "be7a3dc1-a955-412d-b167-27e7a479172e": [],
    "d9e8c423-6433-4991-95e5-1d7df9f73829": [],
    "e8a06764-1e26-4efb-9d14-b7d4c735cbd3": [
     "d9e8c423-6433-4991-95e5-1d7df9f73829",
     "4180a55a-6afb-4fc3-8942-465e0d1a29c6",
     "4725394c-5cf1-48ca-bcd9-121c609d7ec2"
    ]
   }
  },
  "kernelspec": {
   "display_name": "Python 3 (ipyflow)",
   "language": "python",
   "name": "ipyflow"
  },
  "language_info": {
   "codemirror_mode": {
    "name": "ipython",
    "version": 3
   },
   "file_extension": ".py",
   "mimetype": "text/x-python",
   "name": "python",
   "nbconvert_exporter": "python",
   "pygments_lexer": "ipython3",
   "version": "3.13.5"
  }
 },
 "nbformat": 4,
 "nbformat_minor": 5
}
