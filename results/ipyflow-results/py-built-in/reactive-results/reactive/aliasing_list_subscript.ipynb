{
 "cells": [
  {
   "cell_type": "code",
   "execution_count": 1,
   "id": "b23a356c-d09c-4343-bf95-aee7a4349bc7",
   "metadata": {},
   "outputs": [],
   "source": [
    "a = [1,2,3]"
   ]
  },
  {
   "cell_type": "code",
   "execution_count": 2,
   "id": "38433730-1c38-4eaa-9d10-8b37cdc54310",
   "metadata": {},
   "outputs": [],
   "source": [
    "b = a"
   ]
  },
  {
   "cell_type": "code",
   "execution_count": 6,
   "id": "00e15fd7-c6ad-4461-b951-dffce9622a39",
   "metadata": {},
   "outputs": [],
   "source": [
    "b[2] = 9"
   ]
  },
  {
   "cell_type": "code",
   "execution_count": 7,
   "id": "7fd43cc1-33f1-44bc-82c8-6dfb56b2479f",
   "metadata": {},
   "outputs": [
    {
     "name": "stdout",
     "output_type": "stream",
     "text": [
      "9\n"
     ]
    }
   ],
   "source": [
    "print(a[2])"
   ]
  },
  {
   "cell_type": "code",
   "execution_count": 8,
   "id": "e0b96972-f7a7-499e-9888-fb79023baa58",
   "metadata": {},
   "outputs": [
    {
     "name": "stdout",
     "output_type": "stream",
     "text": [
      "[1, 2, 9]\n"
     ]
    }
   ],
   "source": [
    "print(b)"
   ]
  }
 ],
 "metadata": {
  "ipyflow": {
   "cell_children": {
    "00e15fd7-c6ad-4461-b951-dffce9622a39": [
     "7fd43cc1-33f1-44bc-82c8-6dfb56b2479f",
     "e0b96972-f7a7-499e-9888-fb79023baa58"
    ],
    "38433730-1c38-4eaa-9d10-8b37cdc54310": [
     "00e15fd7-c6ad-4461-b951-dffce9622a39",
     "e0b96972-f7a7-499e-9888-fb79023baa58"
    ],
    "7fd43cc1-33f1-44bc-82c8-6dfb56b2479f": [],
    "b23a356c-d09c-4343-bf95-aee7a4349bc7": [
     "38433730-1c38-4eaa-9d10-8b37cdc54310",
     "e0b96972-f7a7-499e-9888-fb79023baa58"
    ],
    "e0b96972-f7a7-499e-9888-fb79023baa58": []
   },
   "cell_parents": {
    "00e15fd7-c6ad-4461-b951-dffce9622a39": [
     "38433730-1c38-4eaa-9d10-8b37cdc54310"
    ],
    "38433730-1c38-4eaa-9d10-8b37cdc54310": [
     "b23a356c-d09c-4343-bf95-aee7a4349bc7"
    ],
    "7fd43cc1-33f1-44bc-82c8-6dfb56b2479f": [
     "00e15fd7-c6ad-4461-b951-dffce9622a39"
    ],
    "b23a356c-d09c-4343-bf95-aee7a4349bc7": [],
    "e0b96972-f7a7-499e-9888-fb79023baa58": [
     "38433730-1c38-4eaa-9d10-8b37cdc54310",
     "00e15fd7-c6ad-4461-b951-dffce9622a39",
     "b23a356c-d09c-4343-bf95-aee7a4349bc7"
    ]
   }
  },
  "kernelspec": {
   "display_name": "Python 3 (ipyflow)",
   "language": "python",
   "name": "ipyflow"
  },
  "language_info": {
   "codemirror_mode": {
    "name": "ipython",
    "version": 3
   },
   "file_extension": ".py",
   "mimetype": "text/x-python",
   "name": "python",
   "nbconvert_exporter": "python",
   "pygments_lexer": "ipython3",
   "version": "3.13.5"
  }
 },
 "nbformat": 4,
 "nbformat_minor": 5
}
