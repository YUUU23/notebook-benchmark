{
 "cells": [
  {
   "cell_type": "code",
   "execution_count": 4,
   "id": "34288651-2bd0-4c20-b8a6-172d85f54710",
   "metadata": {},
   "outputs": [],
   "source": [
    "a = ['a', 'b', 'c', 'd']"
   ]
  },
  {
   "cell_type": "code",
   "execution_count": 5,
   "id": "1f0e5570-9a47-413c-89a1-573c9d4f2990",
   "metadata": {},
   "outputs": [],
   "source": [
    "for i, c in enumerate(a):\n",
    "    if c == 'c':\n",
    "        a[i] = 3"
   ]
  },
  {
   "cell_type": "code",
   "execution_count": 6,
   "id": "d8fcab6e-50bb-4618-a6d7-d0b5faf3a75b",
   "metadata": {},
   "outputs": [
    {
     "name": "stdout",
     "output_type": "stream",
     "text": [
      "['a', 'b', 3, 'd']\n"
     ]
    }
   ],
   "source": [
    "print(a)"
   ]
  }
 ],
 "metadata": {
  "ipyflow": {
   "cell_children": {
    "1f0e5570-9a47-413c-89a1-573c9d4f2990": [],
    "34288651-2bd0-4c20-b8a6-172d85f54710": [
     "1f0e5570-9a47-413c-89a1-573c9d4f2990",
     "d8fcab6e-50bb-4618-a6d7-d0b5faf3a75b"
    ],
    "d8fcab6e-50bb-4618-a6d7-d0b5faf3a75b": []
   },
   "cell_parents": {
    "1f0e5570-9a47-413c-89a1-573c9d4f2990": [
     "34288651-2bd0-4c20-b8a6-172d85f54710"
    ],
    "34288651-2bd0-4c20-b8a6-172d85f54710": [],
    "d8fcab6e-50bb-4618-a6d7-d0b5faf3a75b": [
     "34288651-2bd0-4c20-b8a6-172d85f54710"
    ]
   }
  },
  "kernelspec": {
   "display_name": "Python 3 (ipyflow)",
   "language": "python",
   "name": "ipyflow"
  },
  "language_info": {
   "codemirror_mode": {
    "name": "ipython",
    "version": 3
   },
   "file_extension": ".py",
   "mimetype": "text/x-python",
   "name": "python",
   "nbconvert_exporter": "python",
   "pygments_lexer": "ipython3",
   "version": "3.13.5"
  }
 },
 "nbformat": 4,
 "nbformat_minor": 5
}
