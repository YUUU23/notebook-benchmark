{
 "cells": [
  {
   "cell_type": "code",
   "execution_count": 6,
   "id": "46544faa-5caa-4261-b79f-033233e0e91b",
   "metadata": {},
   "outputs": [],
   "source": [
    "a = [1,2,5]"
   ]
  },
  {
   "cell_type": "code",
   "execution_count": 7,
   "id": "1fe73437-ab35-4bfb-9174-160dd344c929",
   "metadata": {},
   "outputs": [],
   "source": [
    "ll = [[1],[2],a]"
   ]
  },
  {
   "cell_type": "code",
   "execution_count": 8,
   "id": "cdae791d-7958-4e7f-9f91-361d3cc63da2",
   "metadata": {},
   "outputs": [],
   "source": [
    "ll.remove(a)"
   ]
  },
  {
   "cell_type": "code",
   "execution_count": 9,
   "id": "e095a41d-ff5d-44b7-9801-2ca06f086f66",
   "metadata": {},
   "outputs": [
    {
     "name": "stdout",
     "output_type": "stream",
     "text": [
      "[[1], [2]]\n"
     ]
    }
   ],
   "source": [
    "print(ll)"
   ]
  },
  {
   "cell_type": "code",
   "execution_count": 10,
   "id": "cc6d6781-f671-4f16-bd34-95379c30c412",
   "metadata": {},
   "outputs": [
    {
     "name": "stdout",
     "output_type": "stream",
     "text": [
      "[1, 2, 5]\n"
     ]
    }
   ],
   "source": [
    "print(a)"
   ]
  }
 ],
 "metadata": {
  "ipyflow": {
   "cell_children": {
    "1fe73437-ab35-4bfb-9174-160dd344c929": [
     "e095a41d-ff5d-44b7-9801-2ca06f086f66",
     "cdae791d-7958-4e7f-9f91-361d3cc63da2"
    ],
    "2e479cbf-5a97-40c6-8def-f7844993c770": [],
    "3b247b36-582a-4e30-bb17-470c6b84f0c0": [],
    "46544faa-5caa-4261-b79f-033233e0e91b": [
     "cc6d6781-f671-4f16-bd34-95379c30c412",
     "cdae791d-7958-4e7f-9f91-361d3cc63da2",
     "1fe73437-ab35-4bfb-9174-160dd344c929"
    ],
    "8a155049-e9a8-4b23-8f39-03f15532ff78": [
     "cdae791d-7958-4e7f-9f91-361d3cc63da2"
    ],
    "c62315d2-b45b-4dd8-950e-ecc76e457ad3": [
     "e095a41d-ff5d-44b7-9801-2ca06f086f66"
    ],
    "cc6d6781-f671-4f16-bd34-95379c30c412": [],
    "cdae791d-7958-4e7f-9f91-361d3cc63da2": [
     "e095a41d-ff5d-44b7-9801-2ca06f086f66",
     "cc6d6781-f671-4f16-bd34-95379c30c412"
    ],
    "e095a41d-ff5d-44b7-9801-2ca06f086f66": []
   },
   "cell_parents": {
    "1fe73437-ab35-4bfb-9174-160dd344c929": [
     "46544faa-5caa-4261-b79f-033233e0e91b"
    ],
    "2e479cbf-5a97-40c6-8def-f7844993c770": [],
    "3b247b36-582a-4e30-bb17-470c6b84f0c0": [
     "1fe73437-ab35-4bfb-9174-160dd344c929"
    ],
    "46544faa-5caa-4261-b79f-033233e0e91b": [],
    "8a155049-e9a8-4b23-8f39-03f15532ff78": [],
    "c62315d2-b45b-4dd8-950e-ecc76e457ad3": [
     "cdae791d-7958-4e7f-9f91-361d3cc63da2"
    ],
    "cc6d6781-f671-4f16-bd34-95379c30c412": [
     "46544faa-5caa-4261-b79f-033233e0e91b",
     "cdae791d-7958-4e7f-9f91-361d3cc63da2"
    ],
    "cdae791d-7958-4e7f-9f91-361d3cc63da2": [
     "46544faa-5caa-4261-b79f-033233e0e91b",
     "1fe73437-ab35-4bfb-9174-160dd344c929"
    ],
    "e095a41d-ff5d-44b7-9801-2ca06f086f66": [
     "cdae791d-7958-4e7f-9f91-361d3cc63da2",
     "1fe73437-ab35-4bfb-9174-160dd344c929"
    ]
   }
  },
  "kernelspec": {
   "display_name": "Python 3 (ipyflow)",
   "language": "python",
   "name": "ipyflow"
  },
  "language_info": {
   "codemirror_mode": {
    "name": "ipython",
    "version": 3
   },
   "file_extension": ".py",
   "mimetype": "text/x-python",
   "name": "python",
   "nbconvert_exporter": "python",
   "pygments_lexer": "ipython3",
   "version": "3.13.5"
  }
 },
 "nbformat": 4,
 "nbformat_minor": 5
}
