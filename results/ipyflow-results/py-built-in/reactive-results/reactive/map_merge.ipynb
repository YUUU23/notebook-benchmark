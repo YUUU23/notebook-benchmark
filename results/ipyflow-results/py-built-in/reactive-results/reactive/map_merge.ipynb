{
 "cells": [
  {
   "cell_type": "code",
   "execution_count": 1,
   "id": "df6f6081-68cb-463f-b9cc-620204ba9626",
   "metadata": {},
   "outputs": [],
   "source": [
    "m = {'a': 8, 'b': 9, 'c': 10}"
   ]
  },
  {
   "cell_type": "code",
   "execution_count": 6,
   "id": "d979f785-ecaf-4a30-801f-aca2dfaa5263",
   "metadata": {},
   "outputs": [],
   "source": [
    "m_2 = {'d': 3, 'e': 4, 'f': 5} "
   ]
  },
  {
   "cell_type": "code",
   "execution_count": 3,
   "id": "d1f7c93d-2ef4-4e19-a0d1-5a567e54ec10",
   "metadata": {},
   "outputs": [],
   "source": [
    "m_3 = {'d': 1, 'e': 10, 'f': 9} "
   ]
  },
  {
   "cell_type": "code",
   "execution_count": 7,
   "id": "97bfd507-651c-466a-8e84-46f41c9c4e8e",
   "metadata": {},
   "outputs": [],
   "source": [
    "merged = m | m_2"
   ]
  },
  {
   "cell_type": "code",
   "execution_count": 8,
   "id": "f18d0b3c-ae3a-42ad-b187-1b556db0d53e",
   "metadata": {},
   "outputs": [
    {
     "name": "stdout",
     "output_type": "stream",
     "text": [
      "{'a': 8, 'b': 9, 'c': 10, 'd': 3, 'e': 4, 'f': 5}\n"
     ]
    }
   ],
   "source": [
    "print(merged)"
   ]
  }
 ],
 "metadata": {
  "ipyflow": {
   "cell_children": {
    "97bfd507-651c-466a-8e84-46f41c9c4e8e": [
     "f18d0b3c-ae3a-42ad-b187-1b556db0d53e"
    ],
    "d1f7c93d-2ef4-4e19-a0d1-5a567e54ec10": [],
    "d979f785-ecaf-4a30-801f-aca2dfaa5263": [
     "97bfd507-651c-466a-8e84-46f41c9c4e8e"
    ],
    "df6f6081-68cb-463f-b9cc-620204ba9626": [
     "97bfd507-651c-466a-8e84-46f41c9c4e8e"
    ],
    "f18d0b3c-ae3a-42ad-b187-1b556db0d53e": []
   },
   "cell_parents": {
    "97bfd507-651c-466a-8e84-46f41c9c4e8e": [
     "df6f6081-68cb-463f-b9cc-620204ba9626",
     "d979f785-ecaf-4a30-801f-aca2dfaa5263"
    ],
    "d1f7c93d-2ef4-4e19-a0d1-5a567e54ec10": [],
    "d979f785-ecaf-4a30-801f-aca2dfaa5263": [],
    "df6f6081-68cb-463f-b9cc-620204ba9626": [],
    "f18d0b3c-ae3a-42ad-b187-1b556db0d53e": [
     "97bfd507-651c-466a-8e84-46f41c9c4e8e"
    ]
   }
  },
  "kernelspec": {
   "display_name": "Python 3 (ipyflow)",
   "language": "python",
   "name": "ipyflow"
  },
  "language_info": {
   "codemirror_mode": {
    "name": "ipython",
    "version": 3
   },
   "file_extension": ".py",
   "mimetype": "text/x-python",
   "name": "python",
   "nbconvert_exporter": "python",
   "pygments_lexer": "ipython3",
   "version": "3.13.5"
  }
 },
 "nbformat": 4,
 "nbformat_minor": 5
}
