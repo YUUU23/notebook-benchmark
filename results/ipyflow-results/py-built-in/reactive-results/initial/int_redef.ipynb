{
 "cells": [
  {
   "cell_type": "code",
   "execution_count": 1,
   "id": "df4761e8-dd1e-4f9d-94e0-e4cdb8a403de",
   "metadata": {},
   "outputs": [],
   "source": [
    "x = 4 "
   ]
  },
  {
   "cell_type": "code",
   "execution_count": 2,
   "id": "fa21dbab-a54b-4426-bef2-1067a4e7e5fe",
   "metadata": {},
   "outputs": [
    {
     "name": "stdout",
     "output_type": "stream",
     "text": [
      "5\n"
     ]
    }
   ],
   "source": [
    "print(x + 1)"
   ]
  }
 ],
 "metadata": {
  "ipyflow": {
   "cell_children": {
    "30f26ac2-6018-4667-a14a-b767e9cbfecd": [],
    "df4761e8-dd1e-4f9d-94e0-e4cdb8a403de": [
     "fa21dbab-a54b-4426-bef2-1067a4e7e5fe"
    ],
    "fa21dbab-a54b-4426-bef2-1067a4e7e5fe": []
   },
   "cell_parents": {
    "30f26ac2-6018-4667-a14a-b767e9cbfecd": [],
    "df4761e8-dd1e-4f9d-94e0-e4cdb8a403de": [],
    "fa21dbab-a54b-4426-bef2-1067a4e7e5fe": [
     "df4761e8-dd1e-4f9d-94e0-e4cdb8a403de"
    ]
   }
  },
  "kernelspec": {
   "display_name": "Python 3 (ipyflow)",
   "language": "python",
   "name": "ipyflow"
  },
  "language_info": {
   "codemirror_mode": {
    "name": "ipython",
    "version": 3
   },
   "file_extension": ".py",
   "mimetype": "text/x-python",
   "name": "python",
   "nbconvert_exporter": "python",
   "pygments_lexer": "ipython3",
   "version": "3.13.5"
  }
 },
 "nbformat": 4,
 "nbformat_minor": 5
}
