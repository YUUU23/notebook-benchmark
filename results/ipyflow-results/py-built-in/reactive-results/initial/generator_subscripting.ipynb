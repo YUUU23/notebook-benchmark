{
 "cells": [
  {
   "cell_type": "code",
   "execution_count": 1,
   "id": "8901e269-8eb9-42b9-8efd-474871098b3e",
   "metadata": {},
   "outputs": [],
   "source": [
    "def generator():\n",
    "       yield 1\n",
    "       yield 2\n",
    "       yield 3"
   ]
  },
  {
   "cell_type": "code",
   "execution_count": 2,
   "id": "9d0dc302-1b41-4686-b699-8415160635dd",
   "metadata": {},
   "outputs": [],
   "source": [
    "gen = generator()"
   ]
  },
  {
   "cell_type": "code",
   "execution_count": 3,
   "id": "2b80cbf3-195d-4e08-9c09-bbf949c56f33",
   "metadata": {},
   "outputs": [
    {
     "name": "stdout",
     "output_type": "stream",
     "text": [
      "<generator object generator at 0x107d1eea0>\n"
     ]
    }
   ],
   "source": [
    "my_list = list(gen)\n",
    "print(gen)"
   ]
  },
  {
   "cell_type": "code",
   "execution_count": 4,
   "id": "0c1c707c-79ec-484b-94f1-37ce3b1e94d8",
   "metadata": {},
   "outputs": [
    {
     "name": "stdout",
     "output_type": "stream",
     "text": [
      "2\n"
     ]
    }
   ],
   "source": [
    "print(my_list[1])"
   ]
  }
 ],
 "metadata": {
  "ipyflow": {
   "cell_children": {
    "0c1c707c-79ec-484b-94f1-37ce3b1e94d8": [],
    "2b80cbf3-195d-4e08-9c09-bbf949c56f33": [
     "0c1c707c-79ec-484b-94f1-37ce3b1e94d8"
    ],
    "8901e269-8eb9-42b9-8efd-474871098b3e": [
     "9d0dc302-1b41-4686-b699-8415160635dd"
    ],
    "9d0dc302-1b41-4686-b699-8415160635dd": [
     "2b80cbf3-195d-4e08-9c09-bbf949c56f33"
    ]
   },
   "cell_parents": {
    "0c1c707c-79ec-484b-94f1-37ce3b1e94d8": [
     "2b80cbf3-195d-4e08-9c09-bbf949c56f33"
    ],
    "2b80cbf3-195d-4e08-9c09-bbf949c56f33": [
     "9d0dc302-1b41-4686-b699-8415160635dd"
    ],
    "8901e269-8eb9-42b9-8efd-474871098b3e": [],
    "9d0dc302-1b41-4686-b699-8415160635dd": [
     "8901e269-8eb9-42b9-8efd-474871098b3e"
    ]
   }
  },
  "kernelspec": {
   "display_name": "Python 3 (ipyflow)",
   "language": "python",
   "name": "ipyflow"
  },
  "language_info": {
   "codemirror_mode": {
    "name": "ipython",
    "version": 3
   },
   "file_extension": ".py",
   "mimetype": "text/x-python",
   "name": "python",
   "nbconvert_exporter": "python",
   "pygments_lexer": "ipython3",
   "version": "3.13.5"
  }
 },
 "nbformat": 4,
 "nbformat_minor": 5
}
