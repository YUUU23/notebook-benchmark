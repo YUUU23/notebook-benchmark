{
 "cells": [
  {
   "cell_type": "code",
   "execution_count": 1,
   "id": "d5871291-d0fa-47ed-8774-3e838ec81b61",
   "metadata": {},
   "outputs": [],
   "source": [
    "x = {'a': {}}"
   ]
  },
  {
   "cell_type": "code",
   "execution_count": 2,
   "id": "45034aaf-f651-485b-94aa-9a6396c67fbb",
   "metadata": {},
   "outputs": [],
   "source": [
    "x['a'] = x"
   ]
  },
  {
   "cell_type": "code",
   "execution_count": 3,
   "id": "0ff75d59-18d8-4968-9d61-da45a129b66f",
   "metadata": {},
   "outputs": [],
   "source": [
    "y = x['a']"
   ]
  },
  {
   "cell_type": "code",
   "execution_count": 4,
   "id": "de43933c-fa56-4071-add1-d5f8abc6515b",
   "metadata": {},
   "outputs": [],
   "source": [
    "y['a'] = 2"
   ]
  },
  {
   "cell_type": "code",
   "execution_count": 5,
   "id": "e23635e2-e9e0-4a72-b82b-88e3bd49c5d5",
   "metadata": {},
   "outputs": [
    {
     "name": "stdout",
     "output_type": "stream",
     "text": [
      "2\n"
     ]
    }
   ],
   "source": [
    "z = x['a']\n",
    "print(z)"
   ]
  }
 ],
 "metadata": {
  "ipyflow": {
   "cell_children": {
    "0ff75d59-18d8-4968-9d61-da45a129b66f": [],
    "45034aaf-f651-485b-94aa-9a6396c67fbb": [],
    "d5871291-d0fa-47ed-8774-3e838ec81b61": [],
    "de43933c-fa56-4071-add1-d5f8abc6515b": [],
    "e23635e2-e9e0-4a72-b82b-88e3bd49c5d5": []
   },
   "cell_parents": {
    "0ff75d59-18d8-4968-9d61-da45a129b66f": [],
    "45034aaf-f651-485b-94aa-9a6396c67fbb": [],
    "d5871291-d0fa-47ed-8774-3e838ec81b61": [],
    "de43933c-fa56-4071-add1-d5f8abc6515b": [],
    "e23635e2-e9e0-4a72-b82b-88e3bd49c5d5": []
   }
  },
  "kernelspec": {
   "display_name": "Python 3 (ipyflow)",
   "language": "python",
   "name": "ipyflow"
  },
  "language_info": {
   "codemirror_mode": {
    "name": "ipython",
    "version": 3
   },
   "file_extension": ".py",
   "mimetype": "text/x-python",
   "name": "python",
   "nbconvert_exporter": "python",
   "pygments_lexer": "ipython3",
   "version": "3.13.5"
  }
 },
 "nbformat": 4,
 "nbformat_minor": 5
}
