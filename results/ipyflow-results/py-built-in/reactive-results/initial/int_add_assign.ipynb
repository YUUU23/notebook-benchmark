{
 "cells": [
  {
   "cell_type": "code",
   "execution_count": 1,
   "id": "b859dcc5-96d9-4bf0-b94d-9edce74e1fbd",
   "metadata": {},
   "outputs": [],
   "source": [
    "x = 3"
   ]
  },
  {
   "cell_type": "code",
   "execution_count": 2,
   "id": "381fa5ee-1127-4977-8d5d-46e64c9d4735",
   "metadata": {},
   "outputs": [],
   "source": [
    "x += 1"
   ]
  },
  {
   "cell_type": "code",
   "execution_count": 3,
   "id": "c8b0410c-951a-4a67-a86f-50295677565c",
   "metadata": {},
   "outputs": [
    {
     "name": "stdout",
     "output_type": "stream",
     "text": [
      "5\n"
     ]
    }
   ],
   "source": [
    "print(x + 1)"
   ]
  }
 ],
 "metadata": {
  "ipyflow": {
   "cell_children": {
    "381fa5ee-1127-4977-8d5d-46e64c9d4735": [
     "c8b0410c-951a-4a67-a86f-50295677565c"
    ],
    "b859dcc5-96d9-4bf0-b94d-9edce74e1fbd": [
     "381fa5ee-1127-4977-8d5d-46e64c9d4735"
    ],
    "c8b0410c-951a-4a67-a86f-50295677565c": []
   },
   "cell_parents": {
    "381fa5ee-1127-4977-8d5d-46e64c9d4735": [
     "b859dcc5-96d9-4bf0-b94d-9edce74e1fbd"
    ],
    "b859dcc5-96d9-4bf0-b94d-9edce74e1fbd": [],
    "c8b0410c-951a-4a67-a86f-50295677565c": [
     "381fa5ee-1127-4977-8d5d-46e64c9d4735"
    ]
   }
  },
  "kernelspec": {
   "display_name": "Python 3 (ipyflow)",
   "language": "python",
   "name": "ipyflow"
  },
  "language_info": {
   "codemirror_mode": {
    "name": "ipython",
    "version": 3
   },
   "file_extension": ".py",
   "mimetype": "text/x-python",
   "name": "python",
   "nbconvert_exporter": "python",
   "pygments_lexer": "ipython3",
   "version": "3.13.5"
  }
 },
 "nbformat": 4,
 "nbformat_minor": 5
}
