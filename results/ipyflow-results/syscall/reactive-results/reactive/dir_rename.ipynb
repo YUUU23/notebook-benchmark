{
 "cells": [
  {
   "cell_type": "code",
   "execution_count": 1,
   "id": "3151a683-9864-4f70-b3cc-46d1c2b9bb52",
   "metadata": {
    "tags": []
   },
   "outputs": [],
   "source": [
    "import os"
   ]
  },
  {
   "cell_type": "code",
   "execution_count": 2,
   "id": "c96cda40-bc90-4382-b102-e9c01d58e445",
   "metadata": {
    "tags": []
   },
   "outputs": [],
   "source": [
    "old = \"old\""
   ]
  },
  {
   "cell_type": "code",
   "execution_count": 7,
   "id": "8efc5b86-1325-45db-9c54-7c85f82bc9b7",
   "metadata": {
    "tags": []
   },
   "outputs": [],
   "source": [
    "new = \"new\""
   ]
  },
  {
   "cell_type": "code",
   "execution_count": 8,
   "id": "5e9e446d-8457-41d4-bb08-8d6bd067caa9",
   "metadata": {
    "tags": []
   },
   "outputs": [
    {
     "name": "stdout",
     "output_type": "stream",
     "text": [
      "made dir: old\n"
     ]
    }
   ],
   "source": [
    "try:\n",
    "    os.mkdir(old)\n",
    "    print(f'made dir: {old}')\n",
    "except FileExistsError:\n",
    "    print(f'dir exists: {old}')"
   ]
  },
  {
   "cell_type": "code",
   "execution_count": 9,
   "id": "b4d7a9ce-8931-48cc-a019-d420a00812c6",
   "metadata": {
    "tags": []
   },
   "outputs": [],
   "source": [
    "os.rename(old, new)"
   ]
  },
  {
   "cell_type": "code",
   "execution_count": 10,
   "id": "70cc9112-5cee-4be3-903d-69861ba73c9e",
   "metadata": {},
   "outputs": [
    {
     "name": "stdout",
     "output_type": "stream",
     "text": [
      "new1\n",
      "new\n",
      ".ipynb_checkpoints\n"
     ]
    }
   ],
   "source": [
    "for name in os.listdir(os.getcwd()):\n",
    "    full_path = os.path.join(os.getcwd(), name)\n",
    "    if os.path.isdir(full_path):\n",
    "        print(name)"
   ]
  }
 ],
 "metadata": {
  "ipyflow": {
   "cell_children": {
    "3151a683-9864-4f70-b3cc-46d1c2b9bb52": [
     "70cc9112-5cee-4be3-903d-69861ba73c9e",
     "5e9e446d-8457-41d4-bb08-8d6bd067caa9",
     "b4d7a9ce-8931-48cc-a019-d420a00812c6"
    ],
    "5e9e446d-8457-41d4-bb08-8d6bd067caa9": [
     "b4d7a9ce-8931-48cc-a019-d420a00812c6"
    ],
    "70cc9112-5cee-4be3-903d-69861ba73c9e": [],
    "8efc5b86-1325-45db-9c54-7c85f82bc9b7": [
     "b4d7a9ce-8931-48cc-a019-d420a00812c6"
    ],
    "b4d7a9ce-8931-48cc-a019-d420a00812c6": [
     "70cc9112-5cee-4be3-903d-69861ba73c9e"
    ],
    "c96cda40-bc90-4382-b102-e9c01d58e445": [
     "5e9e446d-8457-41d4-bb08-8d6bd067caa9",
     "b4d7a9ce-8931-48cc-a019-d420a00812c6"
    ]
   },
   "cell_parents": {
    "3151a683-9864-4f70-b3cc-46d1c2b9bb52": [],
    "5e9e446d-8457-41d4-bb08-8d6bd067caa9": [
     "c96cda40-bc90-4382-b102-e9c01d58e445",
     "3151a683-9864-4f70-b3cc-46d1c2b9bb52"
    ],
    "70cc9112-5cee-4be3-903d-69861ba73c9e": [
     "b4d7a9ce-8931-48cc-a019-d420a00812c6",
     "3151a683-9864-4f70-b3cc-46d1c2b9bb52"
    ],
    "8efc5b86-1325-45db-9c54-7c85f82bc9b7": [],
    "b4d7a9ce-8931-48cc-a019-d420a00812c6": [
     "c96cda40-bc90-4382-b102-e9c01d58e445",
     "5e9e446d-8457-41d4-bb08-8d6bd067caa9",
     "3151a683-9864-4f70-b3cc-46d1c2b9bb52",
     "8efc5b86-1325-45db-9c54-7c85f82bc9b7"
    ],
    "c96cda40-bc90-4382-b102-e9c01d58e445": []
   }
  },
  "kernelspec": {
   "display_name": "Python 3 (ipyflow)",
   "language": "python",
   "name": "ipyflow"
  },
  "language_info": {
   "codemirror_mode": {
    "name": "ipython",
    "version": 3
   },
   "file_extension": ".py",
   "mimetype": "text/x-python",
   "name": "python",
   "nbconvert_exporter": "python",
   "pygments_lexer": "ipython3",
   "version": "3.13.2"
  }
 },
 "nbformat": 4,
 "nbformat_minor": 5
}
