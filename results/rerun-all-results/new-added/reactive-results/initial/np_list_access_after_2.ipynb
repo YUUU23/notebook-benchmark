{
 "cells": [
  {
   "cell_type": "code",
   "execution_count": 1,
   "id": "cf168c6c-35d1-433c-bd95-aeed26757b73",
   "metadata": {},
   "outputs": [],
   "source": [
    "import numpy as np"
   ]
  },
  {
   "cell_type": "code",
   "execution_count": 2,
   "id": "50505c78-f753-46bf-8ef5-8f325fc58cb2",
   "metadata": {},
   "outputs": [],
   "source": [
    "x = np.array([1,2,3])"
   ]
  },
  {
   "cell_type": "code",
   "execution_count": 3,
   "id": "5170629b-b6d9-4471-8eff-e5380921fac8",
   "metadata": {},
   "outputs": [],
   "source": [
    "y = x[1]"
   ]
  },
  {
   "cell_type": "code",
   "execution_count": 4,
   "id": "e08cbe43-1101-45b2-bbaa-7492f70f2c90",
   "metadata": {},
   "outputs": [],
   "source": [
    "x[0] = 10"
   ]
  },
  {
   "cell_type": "code",
   "execution_count": 5,
   "id": "5952259f-eb62-480e-b7f5-2e02b99ce88c",
   "metadata": {},
   "outputs": [
    {
     "name": "stdout",
     "output_type": "stream",
     "text": [
      "[10  2  3] 2\n"
     ]
    }
   ],
   "source": [
    "print(x,y)"
   ]
  }
 ],
 "metadata": {
  "ipyflow": {
   "cell_children": {
    "50505c78-f753-46bf-8ef5-8f325fc58cb2": [
     "e08cbe43-1101-45b2-bbaa-7492f70f2c90",
     "5170629b-b6d9-4471-8eff-e5380921fac8",
     "5952259f-eb62-480e-b7f5-2e02b99ce88c"
    ],
    "5170629b-b6d9-4471-8eff-e5380921fac8": [
     "5952259f-eb62-480e-b7f5-2e02b99ce88c"
    ],
    "5952259f-eb62-480e-b7f5-2e02b99ce88c": [],
    "cf168c6c-35d1-433c-bd95-aeed26757b73": [
     "50505c78-f753-46bf-8ef5-8f325fc58cb2"
    ],
    "e08cbe43-1101-45b2-bbaa-7492f70f2c90": [
     "5952259f-eb62-480e-b7f5-2e02b99ce88c"
    ]
   },
   "cell_parents": {
    "50505c78-f753-46bf-8ef5-8f325fc58cb2": [
     "cf168c6c-35d1-433c-bd95-aeed26757b73"
    ],
    "5170629b-b6d9-4471-8eff-e5380921fac8": [
     "50505c78-f753-46bf-8ef5-8f325fc58cb2"
    ],
    "5952259f-eb62-480e-b7f5-2e02b99ce88c": [
     "e08cbe43-1101-45b2-bbaa-7492f70f2c90",
     "5170629b-b6d9-4471-8eff-e5380921fac8",
     "50505c78-f753-46bf-8ef5-8f325fc58cb2"
    ],
    "cf168c6c-35d1-433c-bd95-aeed26757b73": [],
    "e08cbe43-1101-45b2-bbaa-7492f70f2c90": [
     "50505c78-f753-46bf-8ef5-8f325fc58cb2"
    ]
   }
  },
  "kernelspec": {
   "display_name": "Python 3 (ipykernel)",
   "language": "python",
   "name": "python3"
  },
  "language_info": {
   "codemirror_mode": {
    "name": "ipython",
    "version": 3
   },
   "file_extension": ".py",
   "mimetype": "text/x-python",
   "name": "python",
   "nbconvert_exporter": "python",
   "pygments_lexer": "ipython3",
   "version": "3.13.5"
  }
 },
 "nbformat": 4,
 "nbformat_minor": 5
}
