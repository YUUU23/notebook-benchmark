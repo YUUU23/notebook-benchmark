{
 "cells": [
  {
   "cell_type": "code",
   "execution_count": 5,
   "id": "721f52a4-91c6-49c5-92fd-904e1987c3f8",
   "metadata": {},
   "outputs": [],
   "source": [
    "x = [1,2,3]"
   ]
  },
  {
   "cell_type": "code",
   "execution_count": 6,
   "id": "9a23dba2-0bab-4e41-9647-3762a96cb814",
   "metadata": {},
   "outputs": [],
   "source": [
    "x[0] = 10"
   ]
  },
  {
   "cell_type": "code",
   "execution_count": 7,
   "id": "a32aa388-5910-4e63-a47f-c55c1486e37a",
   "metadata": {},
   "outputs": [],
   "source": [
    "y = x[1]"
   ]
  },
  {
   "cell_type": "code",
   "execution_count": 8,
   "id": "829eb345-cfc4-4091-a530-62b07e8095ba",
   "metadata": {},
   "outputs": [
    {
     "name": "stdout",
     "output_type": "stream",
     "text": [
      "2\n"
     ]
    }
   ],
   "source": [
    "print(y)"
   ]
  }
 ],
 "metadata": {
  "ipyflow": {
   "cell_children": {
    "02df9f44-5cb5-4d38-b75e-49200ce95530": [],
    "13b7fc3c-de58-40a5-bac2-29763ba9f6dc": [],
    "69e887ab-f536-4dfd-9307-0b5058e97737": [],
    "721f52a4-91c6-49c5-92fd-904e1987c3f8": [
     "9a23dba2-0bab-4e41-9647-3762a96cb814",
     "a32aa388-5910-4e63-a47f-c55c1486e37a"
    ],
    "7b1126f9-728f-4361-bda5-fcd23585bef6": [],
    "829eb345-cfc4-4091-a530-62b07e8095ba": [],
    "9a23dba2-0bab-4e41-9647-3762a96cb814": [],
    "a32aa388-5910-4e63-a47f-c55c1486e37a": [
     "829eb345-cfc4-4091-a530-62b07e8095ba"
    ]
   },
   "cell_parents": {
    "02df9f44-5cb5-4d38-b75e-49200ce95530": [],
    "13b7fc3c-de58-40a5-bac2-29763ba9f6dc": [],
    "69e887ab-f536-4dfd-9307-0b5058e97737": [],
    "721f52a4-91c6-49c5-92fd-904e1987c3f8": [],
    "7b1126f9-728f-4361-bda5-fcd23585bef6": [],
    "829eb345-cfc4-4091-a530-62b07e8095ba": [
     "a32aa388-5910-4e63-a47f-c55c1486e37a"
    ],
    "9a23dba2-0bab-4e41-9647-3762a96cb814": [
     "721f52a4-91c6-49c5-92fd-904e1987c3f8"
    ],
    "a32aa388-5910-4e63-a47f-c55c1486e37a": [
     "721f52a4-91c6-49c5-92fd-904e1987c3f8"
    ]
   }
  },
  "kernelspec": {
   "display_name": "Python 3 (ipykernel)",
   "language": "python",
   "name": "python3"
  },
  "language_info": {
   "codemirror_mode": {
    "name": "ipython",
    "version": 3
   },
   "file_extension": ".py",
   "mimetype": "text/x-python",
   "name": "python",
   "nbconvert_exporter": "python",
   "pygments_lexer": "ipython3",
   "version": "3.13.5"
  }
 },
 "nbformat": 4,
 "nbformat_minor": 5
}
