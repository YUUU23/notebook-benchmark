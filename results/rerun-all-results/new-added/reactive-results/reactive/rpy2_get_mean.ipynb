{
 "cells": [
  {
   "cell_type": "code",
   "execution_count": 8,
   "id": "62ce48fa-56bd-42d7-a401-0445e884974c",
   "metadata": {
    "scrolled": true
   },
   "outputs": [],
   "source": [
    "import rpy2.robjects as robjects\n",
    "from rpy2.robjects.packages import importr"
   ]
  },
  {
   "cell_type": "code",
   "execution_count": 9,
   "id": "62d1f605-a0ab-4456-a22a-35e665bc601c",
   "metadata": {},
   "outputs": [],
   "source": [
    "r_env = robjects.r['new.env']()"
   ]
  },
  {
   "cell_type": "code",
   "execution_count": 10,
   "id": "0e4decd3-9b26-4fe2-916f-07d4234726a0",
   "metadata": {},
   "outputs": [],
   "source": [
    "arr = [1,2,3,8,200]\n",
    "assign_var = 'y'"
   ]
  },
  {
   "cell_type": "code",
   "execution_count": 11,
   "id": "ce4d8e75-2781-4bcc-8ab3-c85ae7525c10",
   "metadata": {},
   "outputs": [],
   "source": [
    "r_env[assign_var] = robjects.FloatVector(arr)"
   ]
  },
  {
   "cell_type": "code",
   "execution_count": 12,
   "id": "e2dc30c7-3ceb-44db-8802-85824920256a",
   "metadata": {},
   "outputs": [],
   "source": [
    "r_expr = robjects.r(f'expression(mean({assign_var}))')"
   ]
  },
  {
   "cell_type": "code",
   "execution_count": 13,
   "id": "1e15dee4-80ad-483f-92fc-1e87ac0436a3",
   "metadata": {},
   "outputs": [],
   "source": [
    "mean_val = robjects.r['eval'](r_expr, envir=r_env)"
   ]
  },
  {
   "cell_type": "code",
   "execution_count": 14,
   "id": "3c5cea49-84fd-4765-af32-863ec3646e96",
   "metadata": {},
   "outputs": [
    {
     "name": "stdout",
     "output_type": "stream",
     "text": [
      "42.8\n"
     ]
    }
   ],
   "source": [
    "print(mean_val[0])"
   ]
  }
 ],
 "metadata": {
  "ipyflow": {
   "cell_children": {
    "0e4decd3-9b26-4fe2-916f-07d4234726a0": [
     "e2dc30c7-3ceb-44db-8802-85824920256a",
     "ce4d8e75-2781-4bcc-8ab3-c85ae7525c10"
    ],
    "1e15dee4-80ad-483f-92fc-1e87ac0436a3": [
     "3c5cea49-84fd-4765-af32-863ec3646e96"
    ],
    "3c5cea49-84fd-4765-af32-863ec3646e96": [],
    "62ce48fa-56bd-42d7-a401-0445e884974c": [
     "e2dc30c7-3ceb-44db-8802-85824920256a",
     "ce4d8e75-2781-4bcc-8ab3-c85ae7525c10",
     "1e15dee4-80ad-483f-92fc-1e87ac0436a3",
     "62d1f605-a0ab-4456-a22a-35e665bc601c"
    ],
    "62d1f605-a0ab-4456-a22a-35e665bc601c": [
     "ce4d8e75-2781-4bcc-8ab3-c85ae7525c10",
     "1e15dee4-80ad-483f-92fc-1e87ac0436a3"
    ],
    "ce4d8e75-2781-4bcc-8ab3-c85ae7525c10": [
     "1e15dee4-80ad-483f-92fc-1e87ac0436a3"
    ],
    "e2dc30c7-3ceb-44db-8802-85824920256a": [
     "1e15dee4-80ad-483f-92fc-1e87ac0436a3"
    ]
   },
   "cell_parents": {
    "0e4decd3-9b26-4fe2-916f-07d4234726a0": [],
    "1e15dee4-80ad-483f-92fc-1e87ac0436a3": [
     "e2dc30c7-3ceb-44db-8802-85824920256a",
     "ce4d8e75-2781-4bcc-8ab3-c85ae7525c10",
     "62ce48fa-56bd-42d7-a401-0445e884974c",
     "62d1f605-a0ab-4456-a22a-35e665bc601c"
    ],
    "3c5cea49-84fd-4765-af32-863ec3646e96": [
     "1e15dee4-80ad-483f-92fc-1e87ac0436a3"
    ],
    "62ce48fa-56bd-42d7-a401-0445e884974c": [],
    "62d1f605-a0ab-4456-a22a-35e665bc601c": [
     "62ce48fa-56bd-42d7-a401-0445e884974c"
    ],
    "ce4d8e75-2781-4bcc-8ab3-c85ae7525c10": [
     "0e4decd3-9b26-4fe2-916f-07d4234726a0",
     "62ce48fa-56bd-42d7-a401-0445e884974c",
     "62d1f605-a0ab-4456-a22a-35e665bc601c"
    ],
    "e2dc30c7-3ceb-44db-8802-85824920256a": [
     "0e4decd3-9b26-4fe2-916f-07d4234726a0",
     "62ce48fa-56bd-42d7-a401-0445e884974c"
    ]
   }
  },
  "kernelspec": {
   "display_name": "Python 3 (ipykernel)",
   "language": "python",
   "name": "python3"
  },
  "language_info": {
   "codemirror_mode": {
    "name": "ipython",
    "version": 3
   },
   "file_extension": ".py",
   "mimetype": "text/x-python",
   "name": "python",
   "nbconvert_exporter": "python",
   "pygments_lexer": "ipython3",
   "version": "3.13.5"
  }
 },
 "nbformat": 4,
 "nbformat_minor": 5
}
