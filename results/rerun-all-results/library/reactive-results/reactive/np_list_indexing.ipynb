{
 "cells": [
  {
   "cell_type": "code",
   "execution_count": 5,
   "id": "4562c87d-37e2-4fce-be2b-90c2350d73b6",
   "metadata": {},
   "outputs": [],
   "source": [
    "import numpy as np"
   ]
  },
  {
   "cell_type": "code",
   "execution_count": 6,
   "id": "88d11fbc-6c68-4569-8da6-ea47cf64b756",
   "metadata": {},
   "outputs": [],
   "source": [
    "a = np.array([2,1,2])"
   ]
  },
  {
   "cell_type": "code",
   "execution_count": 7,
   "id": "88101dac-a05a-46bc-8784-bef358d9347f",
   "metadata": {},
   "outputs": [],
   "source": [
    "a[0] = 30"
   ]
  },
  {
   "cell_type": "code",
   "execution_count": 8,
   "id": "8be4cc33-54e1-408b-acb1-014b50eb4020",
   "metadata": {},
   "outputs": [
    {
     "name": "stdout",
     "output_type": "stream",
     "text": [
      "30\n"
     ]
    }
   ],
   "source": [
    "print(a[0])"
   ]
  }
 ],
 "metadata": {
  "kernelspec": {
   "display_name": "Python 3 (ipykernel)",
   "language": "python",
   "name": "python3"
  },
  "language_info": {
   "codemirror_mode": {
    "name": "ipython",
    "version": 3
   },
   "file_extension": ".py",
   "mimetype": "text/x-python",
   "name": "python",
   "nbconvert_exporter": "python",
   "pygments_lexer": "ipython3",
   "version": "3.13.5"
  }
 },
 "nbformat": 4,
 "nbformat_minor": 5
}
