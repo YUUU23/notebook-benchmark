{
 "cells": [
  {
   "cell_type": "code",
   "execution_count": 1,
   "id": "5683ec09-d92e-475c-9914-7b160a29584c",
   "metadata": {
    "tags": []
   },
   "outputs": [],
   "source": [
    "import numpy as np "
   ]
  },
  {
   "cell_type": "code",
   "execution_count": 2,
   "id": "8faba5de-0179-44b7-931a-4cd4248dc4c7",
   "metadata": {
    "tags": []
   },
   "outputs": [],
   "source": [
    "a = np.array([1,2,4])"
   ]
  },
  {
   "cell_type": "code",
   "execution_count": 3,
   "id": "dc6361b7-19bc-4505-8eab-96465c8f512f",
   "metadata": {
    "tags": []
   },
   "outputs": [],
   "source": [
    "a = a[np.newaxis, :] "
   ]
  },
  {
   "cell_type": "code",
   "execution_count": 4,
   "id": "63c061ac-c1ba-4e09-86bd-09d67e855ed0",
   "metadata": {
    "tags": []
   },
   "outputs": [
    {
     "name": "stdout",
     "output_type": "stream",
     "text": [
      "[[1 2 4]]\n"
     ]
    }
   ],
   "source": [
    "print(a)"
   ]
  }
 ],
 "metadata": {
  "kernelspec": {
   "display_name": "Python 3 (ipykernel)",
   "language": "python",
   "name": "python3"
  },
  "language_info": {
   "codemirror_mode": {
    "name": "ipython",
    "version": 3
   },
   "file_extension": ".py",
   "mimetype": "text/x-python",
   "name": "python",
   "nbconvert_exporter": "python",
   "pygments_lexer": "ipython3",
   "version": "3.13.5"
  }
 },
 "nbformat": 4,
 "nbformat_minor": 5
}
