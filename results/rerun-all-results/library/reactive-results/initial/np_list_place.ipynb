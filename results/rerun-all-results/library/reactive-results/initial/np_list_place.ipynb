{
 "cells": [
  {
   "cell_type": "code",
   "execution_count": 1,
   "id": "89902036-e276-4a88-a13d-649d6dffe4c5",
   "metadata": {
    "tags": []
   },
   "outputs": [],
   "source": [
    "import numpy as np"
   ]
  },
  {
   "cell_type": "code",
   "execution_count": 2,
   "id": "19394625-878e-4119-8a73-31d8989586d6",
   "metadata": {},
   "outputs": [],
   "source": [
    "a = np.array([1,2,3,4]) "
   ]
  },
  {
   "cell_type": "code",
   "execution_count": 3,
   "id": "b79ec71f-83fc-4ec7-947a-21dd264f8ace",
   "metadata": {},
   "outputs": [],
   "source": [
    "pred = a % 2 == 0"
   ]
  },
  {
   "cell_type": "code",
   "execution_count": 4,
   "id": "09c0000f-8aba-40b9-9d82-fab3f8ecbb36",
   "metadata": {
    "tags": []
   },
   "outputs": [],
   "source": [
    "np.place(a, pred, [20,40,60,80])"
   ]
  },
  {
   "cell_type": "code",
   "execution_count": 5,
   "id": "467ccf09-bebd-41ed-bad9-92950f71db73",
   "metadata": {
    "tags": []
   },
   "outputs": [
    {
     "name": "stdout",
     "output_type": "stream",
     "text": [
      "[ 1 20  3 40]\n"
     ]
    }
   ],
   "source": [
    "print(a)"
   ]
  }
 ],
 "metadata": {
  "kernelspec": {
   "display_name": "Python 3 (ipykernel)",
   "language": "python",
   "name": "python3"
  },
  "language_info": {
   "codemirror_mode": {
    "name": "ipython",
    "version": 3
   },
   "file_extension": ".py",
   "mimetype": "text/x-python",
   "name": "python",
   "nbconvert_exporter": "python",
   "pygments_lexer": "ipython3",
   "version": "3.13.5"
  }
 },
 "nbformat": 4,
 "nbformat_minor": 5
}
