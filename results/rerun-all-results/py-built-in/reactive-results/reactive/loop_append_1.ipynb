{
 "cells": [
  {
   "cell_type": "code",
   "execution_count": 5,
   "id": "495291b9-a857-45f0-a8c0-7406de1768f1",
   "metadata": {},
   "outputs": [],
   "source": [
    "x = {'a': []}"
   ]
  },
  {
   "cell_type": "code",
   "execution_count": 6,
   "id": "162dce08-831a-463b-8131-b5188b55fc73",
   "metadata": {},
   "outputs": [],
   "source": [
    "for (_, l) in x.items():\n",
    "    l.append(5)"
   ]
  },
  {
   "cell_type": "code",
   "execution_count": 7,
   "id": "3d2271cd-2564-45df-ab55-7eff2c27d264",
   "metadata": {},
   "outputs": [],
   "source": [
    "z = x['a']"
   ]
  },
  {
   "cell_type": "code",
   "execution_count": 8,
   "id": "24865864-956e-4a77-baa0-fcb84a9f2dca",
   "metadata": {},
   "outputs": [
    {
     "name": "stdout",
     "output_type": "stream",
     "text": [
      "[5]\n"
     ]
    }
   ],
   "source": [
    "print(z)"
   ]
  }
 ],
 "metadata": {
  "ipyflow": {
   "cell_children": {
    "162dce08-831a-463b-8131-b5188b55fc73": [
     "24865864-956e-4a77-baa0-fcb84a9f2dca",
     "3d2271cd-2564-45df-ab55-7eff2c27d264"
    ],
    "24865864-956e-4a77-baa0-fcb84a9f2dca": [],
    "3d2271cd-2564-45df-ab55-7eff2c27d264": [
     "24865864-956e-4a77-baa0-fcb84a9f2dca"
    ],
    "495291b9-a857-45f0-a8c0-7406de1768f1": [
     "162dce08-831a-463b-8131-b5188b55fc73",
     "3d2271cd-2564-45df-ab55-7eff2c27d264"
    ]
   },
   "cell_parents": {
    "162dce08-831a-463b-8131-b5188b55fc73": [
     "495291b9-a857-45f0-a8c0-7406de1768f1"
    ],
    "24865864-956e-4a77-baa0-fcb84a9f2dca": [
     "162dce08-831a-463b-8131-b5188b55fc73",
     "3d2271cd-2564-45df-ab55-7eff2c27d264"
    ],
    "3d2271cd-2564-45df-ab55-7eff2c27d264": [
     "495291b9-a857-45f0-a8c0-7406de1768f1",
     "162dce08-831a-463b-8131-b5188b55fc73"
    ],
    "495291b9-a857-45f0-a8c0-7406de1768f1": []
   }
  },
  "kernelspec": {
   "display_name": "Python 3 (ipykernel)",
   "language": "python",
   "name": "python3"
  },
  "language_info": {
   "codemirror_mode": {
    "name": "ipython",
    "version": 3
   },
   "file_extension": ".py",
   "mimetype": "text/x-python",
   "name": "python",
   "nbconvert_exporter": "python",
   "pygments_lexer": "ipython3",
   "version": "3.13.5"
  }
 },
 "nbformat": 4,
 "nbformat_minor": 5
}
