{
 "cells": [
  {
   "cell_type": "code",
   "execution_count": 4,
   "id": "495291b9-a857-45f0-a8c0-7406de1768f1",
   "metadata": {},
   "outputs": [],
   "source": [
    "a = [1,2,3]"
   ]
  },
  {
   "cell_type": "code",
   "execution_count": 5,
   "id": "162dce08-831a-463b-8131-b5188b55fc73",
   "metadata": {},
   "outputs": [],
   "source": [
    "def f(): \n",
    "    return 2"
   ]
  },
  {
   "cell_type": "code",
   "execution_count": 6,
   "id": "3d2271cd-2564-45df-ab55-7eff2c27d264",
   "metadata": {},
   "outputs": [
    {
     "name": "stdout",
     "output_type": "stream",
     "text": [
      "4\n"
     ]
    }
   ],
   "source": [
    "print(a[f()] + 1)"
   ]
  }
 ],
 "metadata": {
  "ipyflow": {
   "cell_children": {
    "162dce08-831a-463b-8131-b5188b55fc73": [
     "3d2271cd-2564-45df-ab55-7eff2c27d264"
    ],
    "3d2271cd-2564-45df-ab55-7eff2c27d264": [],
    "495291b9-a857-45f0-a8c0-7406de1768f1": [
     "3d2271cd-2564-45df-ab55-7eff2c27d264"
    ]
   },
   "cell_parents": {
    "162dce08-831a-463b-8131-b5188b55fc73": [],
    "3d2271cd-2564-45df-ab55-7eff2c27d264": [
     "162dce08-831a-463b-8131-b5188b55fc73",
     "495291b9-a857-45f0-a8c0-7406de1768f1"
    ],
    "495291b9-a857-45f0-a8c0-7406de1768f1": []
   }
  },
  "kernelspec": {
   "display_name": "Python 3 (ipykernel)",
   "language": "python",
   "name": "python3"
  },
  "language_info": {
   "codemirror_mode": {
    "name": "ipython",
    "version": 3
   },
   "file_extension": ".py",
   "mimetype": "text/x-python",
   "name": "python",
   "nbconvert_exporter": "python",
   "pygments_lexer": "ipython3",
   "version": "3.13.5"
  }
 },
 "nbformat": 4,
 "nbformat_minor": 5
}
