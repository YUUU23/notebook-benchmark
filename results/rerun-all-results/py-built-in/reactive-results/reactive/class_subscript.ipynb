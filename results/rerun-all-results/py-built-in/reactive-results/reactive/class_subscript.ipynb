{
 "cells": [
  {
   "cell_type": "code",
   "execution_count": 6,
   "id": "b1e583d6-f0da-47f6-a82f-e01c9a441695",
   "metadata": {},
   "outputs": [],
   "source": [
    "class abc: \n",
    "    a = 3\n",
    "    b = {}\n",
    "    \n",
    "    def add_k_to_b(self, k, v):\n",
    "        self.b[k] = v "
   ]
  },
  {
   "cell_type": "code",
   "execution_count": 7,
   "id": "f2e78340-7292-44c4-b86b-1e1e356a145e",
   "metadata": {},
   "outputs": [
    {
     "data": {
      "text/plain": [
       "{}"
      ]
     },
     "execution_count": 7,
     "metadata": {},
     "output_type": "execute_result"
    }
   ],
   "source": [
    "my_class = abc() \n",
    "my_class.b"
   ]
  },
  {
   "cell_type": "code",
   "execution_count": 8,
   "id": "5769c669-e2d5-49ec-9829-97b98d57824d",
   "metadata": {},
   "outputs": [],
   "source": [
    "my_class.a = 5 "
   ]
  },
  {
   "cell_type": "code",
   "execution_count": 9,
   "id": "3215a491-a1d9-4b32-9f97-c884ca8753f6",
   "metadata": {},
   "outputs": [],
   "source": [
    "my_class.add_k_to_b(35, 2)"
   ]
  },
  {
   "cell_type": "code",
   "execution_count": 10,
   "id": "a8784a89-6fef-4150-a69d-c66f8301443b",
   "metadata": {},
   "outputs": [
    {
     "name": "stdout",
     "output_type": "stream",
     "text": [
      "5 {35: 2}\n"
     ]
    }
   ],
   "source": [
    "print(my_class.a, my_class.b)"
   ]
  }
 ],
 "metadata": {
  "kernelspec": {
   "display_name": "Python 3 (ipykernel)",
   "language": "python",
   "name": "python3"
  },
  "language_info": {
   "codemirror_mode": {
    "name": "ipython",
    "version": 3
   },
   "file_extension": ".py",
   "mimetype": "text/x-python",
   "name": "python",
   "nbconvert_exporter": "python",
   "pygments_lexer": "ipython3",
   "version": "3.13.5"
  }
 },
 "nbformat": 4,
 "nbformat_minor": 5
}
