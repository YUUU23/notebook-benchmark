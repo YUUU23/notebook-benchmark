{
 "cells": [
  {
   "cell_type": "code",
   "execution_count": 5,
   "id": "f0ec84ea-0c58-43e4-97f6-9e68c47a7abb",
   "metadata": {},
   "outputs": [],
   "source": [
    "x = {'a': [], 'b': []}"
   ]
  },
  {
   "cell_type": "code",
   "execution_count": 6,
   "id": "988bef8c-aae0-4cf0-ac18-24b77ad2d177",
   "metadata": {},
   "outputs": [],
   "source": [
    "x['b'].append(1)"
   ]
  },
  {
   "cell_type": "code",
   "execution_count": 7,
   "id": "6e4f3b3b-3076-4f93-983c-a7cbc3ebf20e",
   "metadata": {},
   "outputs": [],
   "source": [
    "z = x['b']"
   ]
  },
  {
   "cell_type": "code",
   "execution_count": 8,
   "id": "df73b1fb-6bd3-46a8-a540-426ab29b71d5",
   "metadata": {},
   "outputs": [
    {
     "name": "stdout",
     "output_type": "stream",
     "text": [
      "[1]\n"
     ]
    }
   ],
   "source": [
    "print(z)"
   ]
  }
 ],
 "metadata": {
  "ipyflow": {
   "cell_children": {
    "6e4f3b3b-3076-4f93-983c-a7cbc3ebf20e": [
     "df73b1fb-6bd3-46a8-a540-426ab29b71d5"
    ],
    "988bef8c-aae0-4cf0-ac18-24b77ad2d177": [
     "df73b1fb-6bd3-46a8-a540-426ab29b71d5",
     "6e4f3b3b-3076-4f93-983c-a7cbc3ebf20e"
    ],
    "df73b1fb-6bd3-46a8-a540-426ab29b71d5": [],
    "f0ec84ea-0c58-43e4-97f6-9e68c47a7abb": [
     "988bef8c-aae0-4cf0-ac18-24b77ad2d177",
     "6e4f3b3b-3076-4f93-983c-a7cbc3ebf20e"
    ]
   },
   "cell_parents": {
    "6e4f3b3b-3076-4f93-983c-a7cbc3ebf20e": [
     "988bef8c-aae0-4cf0-ac18-24b77ad2d177",
     "f0ec84ea-0c58-43e4-97f6-9e68c47a7abb"
    ],
    "988bef8c-aae0-4cf0-ac18-24b77ad2d177": [
     "f0ec84ea-0c58-43e4-97f6-9e68c47a7abb"
    ],
    "df73b1fb-6bd3-46a8-a540-426ab29b71d5": [
     "988bef8c-aae0-4cf0-ac18-24b77ad2d177",
     "6e4f3b3b-3076-4f93-983c-a7cbc3ebf20e"
    ],
    "f0ec84ea-0c58-43e4-97f6-9e68c47a7abb": []
   }
  },
  "kernelspec": {
   "display_name": "Python 3 (ipykernel)",
   "language": "python",
   "name": "python3"
  },
  "language_info": {
   "codemirror_mode": {
    "name": "ipython",
    "version": 3
   },
   "file_extension": ".py",
   "mimetype": "text/x-python",
   "name": "python",
   "nbconvert_exporter": "python",
   "pygments_lexer": "ipython3",
   "version": "3.13.5"
  }
 },
 "nbformat": 4,
 "nbformat_minor": 5
}
