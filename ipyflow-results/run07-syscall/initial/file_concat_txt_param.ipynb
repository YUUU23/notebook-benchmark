{
 "cells": [
  {
   "cell_type": "code",
   "execution_count": 1,
   "id": "278aa735-f9e8-422f-b1c6-636b0f05f03e",
   "metadata": {
    "tags": []
   },
   "outputs": [],
   "source": [
    "file_1_path = \"new1.txt\""
   ]
  },
  {
   "cell_type": "code",
   "execution_count": 2,
   "id": "dda449d3-6256-4b08-adfd-0630f27bd66d",
   "metadata": {
    "tags": []
   },
   "outputs": [],
   "source": [
    "file_2_path = \"new2.txt\""
   ]
  },
  {
   "cell_type": "code",
   "execution_count": 3,
   "id": "f4f8c0c7-3a90-4346-938a-5431841ef6ba",
   "metadata": {},
   "outputs": [],
   "source": [
    "file_1_text = \"abcd\""
   ]
  },
  {
   "cell_type": "code",
   "execution_count": 4,
   "id": "a2b23ea8-c7ae-4768-8033-85060d3f9cbb",
   "metadata": {},
   "outputs": [],
   "source": [
    "file_2_text = \"efgh\" "
   ]
  },
  {
   "cell_type": "code",
   "execution_count": 5,
   "id": "bd459eaf-20b5-4775-9f1e-47fe1c6fb77b",
   "metadata": {},
   "outputs": [],
   "source": [
    "files = [file_1_path, file_2_path] "
   ]
  },
  {
   "cell_type": "code",
   "execution_count": 6,
   "id": "e44e18c4-5ccd-4b7c-8333-a417d210e497",
   "metadata": {},
   "outputs": [],
   "source": [
    "texts = [file_1_text, file_2_text] "
   ]
  },
  {
   "cell_type": "code",
   "execution_count": 7,
   "id": "af95b07f-621f-496c-9de9-e124aa3cec0a",
   "metadata": {},
   "outputs": [],
   "source": [
    "for f_path, t in zip(files, texts):\n",
    "    with open(f_path, 'w') as f:\n",
    "        f.write(\"abc\")"
   ]
  },
  {
   "cell_type": "code",
   "execution_count": 8,
   "id": "f9290d15-f222-4b34-9de0-46edfbd92c3f",
   "metadata": {
    "tags": []
   },
   "outputs": [],
   "source": [
    "concat_text = \"\"\n",
    "for f_path, t in zip(files, texts):\n",
    "    with open(f_path) as f:\n",
    "        concat_text += f.read()"
   ]
  },
  {
   "cell_type": "code",
   "execution_count": 9,
   "id": "25300c51-7c22-48a8-afd3-c68a6b125630",
   "metadata": {
    "tags": []
   },
   "outputs": [
    {
     "name": "stdout",
     "output_type": "stream",
     "text": [
      "abcabc\n"
     ]
    }
   ],
   "source": [
    "print(concat_text)"
   ]
  }
 ],
 "metadata": {
  "ipyflow": {
   "cell_children": {
    "25300c51-7c22-48a8-afd3-c68a6b125630": [],
    "278aa735-f9e8-422f-b1c6-636b0f05f03e": [
     "bd459eaf-20b5-4775-9f1e-47fe1c6fb77b"
    ],
    "a2b23ea8-c7ae-4768-8033-85060d3f9cbb": [
     "e44e18c4-5ccd-4b7c-8333-a417d210e497"
    ],
    "af95b07f-621f-496c-9de9-e124aa3cec0a": [],
    "bd459eaf-20b5-4775-9f1e-47fe1c6fb77b": [
     "f9290d15-f222-4b34-9de0-46edfbd92c3f",
     "af95b07f-621f-496c-9de9-e124aa3cec0a"
    ],
    "dda449d3-6256-4b08-adfd-0630f27bd66d": [
     "bd459eaf-20b5-4775-9f1e-47fe1c6fb77b"
    ],
    "e44e18c4-5ccd-4b7c-8333-a417d210e497": [
     "f9290d15-f222-4b34-9de0-46edfbd92c3f",
     "af95b07f-621f-496c-9de9-e124aa3cec0a"
    ],
    "f4f8c0c7-3a90-4346-938a-5431841ef6ba": [
     "e44e18c4-5ccd-4b7c-8333-a417d210e497"
    ],
    "f9290d15-f222-4b34-9de0-46edfbd92c3f": [
     "25300c51-7c22-48a8-afd3-c68a6b125630"
    ]
   },
   "cell_parents": {
    "25300c51-7c22-48a8-afd3-c68a6b125630": [
     "f9290d15-f222-4b34-9de0-46edfbd92c3f"
    ],
    "278aa735-f9e8-422f-b1c6-636b0f05f03e": [],
    "a2b23ea8-c7ae-4768-8033-85060d3f9cbb": [],
    "af95b07f-621f-496c-9de9-e124aa3cec0a": [
     "bd459eaf-20b5-4775-9f1e-47fe1c6fb77b",
     "e44e18c4-5ccd-4b7c-8333-a417d210e497"
    ],
    "bd459eaf-20b5-4775-9f1e-47fe1c6fb77b": [
     "278aa735-f9e8-422f-b1c6-636b0f05f03e",
     "dda449d3-6256-4b08-adfd-0630f27bd66d"
    ],
    "dda449d3-6256-4b08-adfd-0630f27bd66d": [],
    "e44e18c4-5ccd-4b7c-8333-a417d210e497": [
     "f4f8c0c7-3a90-4346-938a-5431841ef6ba",
     "a2b23ea8-c7ae-4768-8033-85060d3f9cbb"
    ],
    "f4f8c0c7-3a90-4346-938a-5431841ef6ba": [],
    "f9290d15-f222-4b34-9de0-46edfbd92c3f": [
     "bd459eaf-20b5-4775-9f1e-47fe1c6fb77b",
     "e44e18c4-5ccd-4b7c-8333-a417d210e497"
    ]
   }
  },
  "kernelspec": {
   "display_name": "Python 3 (ipyflow)",
   "language": "python",
   "name": "ipyflow"
  },
  "language_info": {
   "codemirror_mode": {
    "name": "ipython",
    "version": 3
   },
   "file_extension": ".py",
   "mimetype": "text/x-python",
   "name": "python",
   "nbconvert_exporter": "python",
   "pygments_lexer": "ipython3",
   "version": "3.13.2"
  }
 },
 "nbformat": 4,
 "nbformat_minor": 5
}
