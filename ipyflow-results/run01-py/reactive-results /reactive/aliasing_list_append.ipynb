{
 "cells": [
  {
   "cell_type": "code",
   "execution_count": 6,
   "id": "b23a356c-d09c-4343-bf95-aee7a4349bc7",
   "metadata": {},
   "outputs": [],
   "source": [
    "a = [1,2,3]"
   ]
  },
  {
   "cell_type": "code",
   "execution_count": 7,
   "id": "38433730-1c38-4eaa-9d10-8b37cdc54310",
   "metadata": {},
   "outputs": [],
   "source": [
    "b = a "
   ]
  },
  {
   "cell_type": "code",
   "execution_count": 8,
   "id": "73be249d-4420-405d-aac1-c9462f113f62",
   "metadata": {},
   "outputs": [],
   "source": [
    "b.append(0)\n",
    "a.append(4)"
   ]
  },
  {
   "cell_type": "code",
   "execution_count": 9,
   "id": "7fd43cc1-33f1-44bc-82c8-6dfb56b2479f",
   "metadata": {},
   "outputs": [
    {
     "name": "stdout",
     "output_type": "stream",
     "text": [
      "4\n"
     ]
    }
   ],
   "source": [
    "print(b[-1])"
   ]
  },
  {
   "cell_type": "code",
   "execution_count": 10,
   "id": "4a0d9c63-90ba-44c4-af1d-2a6a87fe22d0",
   "metadata": {},
   "outputs": [
    {
     "name": "stdout",
     "output_type": "stream",
     "text": [
      "4\n"
     ]
    }
   ],
   "source": [
    "print(a[-1])"
   ]
  }
 ],
 "metadata": {
  "ipyflow": {
   "cell_children": {
    "38433730-1c38-4eaa-9d10-8b37cdc54310": [
     "73be249d-4420-405d-aac1-c9462f113f62"
    ],
    "4a0d9c63-90ba-44c4-af1d-2a6a87fe22d0": [],
    "73be249d-4420-405d-aac1-c9462f113f62": [
     "4a0d9c63-90ba-44c4-af1d-2a6a87fe22d0",
     "7fd43cc1-33f1-44bc-82c8-6dfb56b2479f"
    ],
    "7fd43cc1-33f1-44bc-82c8-6dfb56b2479f": [],
    "b23a356c-d09c-4343-bf95-aee7a4349bc7": [
     "73be249d-4420-405d-aac1-c9462f113f62",
     "38433730-1c38-4eaa-9d10-8b37cdc54310"
    ]
   },
   "cell_parents": {
    "38433730-1c38-4eaa-9d10-8b37cdc54310": [
     "b23a356c-d09c-4343-bf95-aee7a4349bc7"
    ],
    "4a0d9c63-90ba-44c4-af1d-2a6a87fe22d0": [
     "73be249d-4420-405d-aac1-c9462f113f62"
    ],
    "73be249d-4420-405d-aac1-c9462f113f62": [
     "b23a356c-d09c-4343-bf95-aee7a4349bc7",
     "38433730-1c38-4eaa-9d10-8b37cdc54310"
    ],
    "7fd43cc1-33f1-44bc-82c8-6dfb56b2479f": [
     "73be249d-4420-405d-aac1-c9462f113f62"
    ],
    "b23a356c-d09c-4343-bf95-aee7a4349bc7": []
   }
  },
  "kernelspec": {
   "display_name": "Python 3 (ipyflow)",
   "language": "python",
   "name": "ipyflow"
  },
  "language_info": {
   "codemirror_mode": {
    "name": "ipython",
    "version": 3
   },
   "file_extension": ".py",
   "mimetype": "text/x-python",
   "name": "python",
   "nbconvert_exporter": "python",
   "pygments_lexer": "ipython3",
   "version": "3.13.2"
  }
 },
 "nbformat": 4,
 "nbformat_minor": 5
}
