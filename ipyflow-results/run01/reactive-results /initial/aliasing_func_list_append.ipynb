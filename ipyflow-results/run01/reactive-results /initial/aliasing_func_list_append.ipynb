{
 "cells": [
  {
   "cell_type": "code",
   "execution_count": 1,
   "id": "b23a356c-d09c-4343-bf95-aee7a4349bc7",
   "metadata": {},
   "outputs": [],
   "source": [
    "def append_to_list(l):\n",
    "    l.append(7)"
   ]
  },
  {
   "cell_type": "code",
   "execution_count": 2,
   "id": "38433730-1c38-4eaa-9d10-8b37cdc54310",
   "metadata": {},
   "outputs": [],
   "source": [
    "b = [3,2,4]"
   ]
  },
  {
   "cell_type": "code",
   "execution_count": 3,
   "id": "19ddc25f-cbeb-407b-b283-ce0fffc3e081",
   "metadata": {},
   "outputs": [],
   "source": [
    "append_to_list(b)"
   ]
  },
  {
   "cell_type": "code",
   "execution_count": 4,
   "id": "7fd43cc1-33f1-44bc-82c8-6dfb56b2479f",
   "metadata": {},
   "outputs": [
    {
     "name": "stdout",
     "output_type": "stream",
     "text": [
      "7 4\n"
     ]
    }
   ],
   "source": [
    "print(b[-1], len(b))"
   ]
  }
 ],
 "metadata": {
  "ipyflow": {
   "cell_children": {
    "19ddc25f-cbeb-407b-b283-ce0fffc3e081": [
     "7fd43cc1-33f1-44bc-82c8-6dfb56b2479f"
    ],
    "38433730-1c38-4eaa-9d10-8b37cdc54310": [
     "7fd43cc1-33f1-44bc-82c8-6dfb56b2479f",
     "19ddc25f-cbeb-407b-b283-ce0fffc3e081"
    ],
    "7fd43cc1-33f1-44bc-82c8-6dfb56b2479f": [],
    "b23a356c-d09c-4343-bf95-aee7a4349bc7": [
     "19ddc25f-cbeb-407b-b283-ce0fffc3e081"
    ]
   },
   "cell_parents": {
    "19ddc25f-cbeb-407b-b283-ce0fffc3e081": [
     "b23a356c-d09c-4343-bf95-aee7a4349bc7",
     "38433730-1c38-4eaa-9d10-8b37cdc54310"
    ],
    "38433730-1c38-4eaa-9d10-8b37cdc54310": [],
    "7fd43cc1-33f1-44bc-82c8-6dfb56b2479f": [
     "38433730-1c38-4eaa-9d10-8b37cdc54310",
     "19ddc25f-cbeb-407b-b283-ce0fffc3e081"
    ],
    "b23a356c-d09c-4343-bf95-aee7a4349bc7": []
   }
  },
  "kernelspec": {
   "display_name": "Python 3 (ipyflow)",
   "language": "python",
   "name": "ipyflow"
  },
  "language_info": {
   "codemirror_mode": {
    "name": "ipython",
    "version": 3
   },
   "file_extension": ".py",
   "mimetype": "text/x-python",
   "name": "python",
   "nbconvert_exporter": "python",
   "pygments_lexer": "ipython3",
   "version": "3.13.2"
  }
 },
 "nbformat": 4,
 "nbformat_minor": 5
}
