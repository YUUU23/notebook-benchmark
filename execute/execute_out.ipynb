{
 "cells": [
  {
   "cell_type": "code",
   "execution_count": null,
   "id": "5ac796e5-c274-484b-8109-d46e13cc18c2",
   "metadata": {
    "execution": {
     "iopub.execute_input": "2025-06-27T01:04:37.375939Z",
     "iopub.status.busy": "2025-06-27T01:04:37.375530Z",
     "iopub.status.idle": "2025-06-27T01:04:37.406144Z",
     "shell.execute_reply": "2025-06-27T01:04:37.405544Z"
    }
   },
   "outputs": [],
   "source": [
    "%flow toggele-reactivity \n",
    "a = \"hi\" "
   ]
  },
  {
   "cell_type": "code",
   "execution_count": 2,
   "id": "27b27d54-3aed-4d46-a5cb-afa4a3ae861a",
   "metadata": {
    "execution": {
     "iopub.execute_input": "2025-06-27T01:04:37.408039Z",
     "iopub.status.busy": "2025-06-27T01:04:37.407819Z",
     "iopub.status.idle": "2025-06-27T01:04:37.424398Z",
     "shell.execute_reply": "2025-06-27T01:04:37.424050Z"
    }
   },
   "outputs": [],
   "source": [
    "a += \"good_bye\" "
   ]
  },
  {
   "cell_type": "code",
   "execution_count": null,
   "id": "301cb8f3",
   "metadata": {},
   "outputs": [
    {
     "name": "stdout",
     "output_type": "stream",
     "text": [
      "3\n"
     ]
    }
   ],
   "source": [
    "b = 3\n",
    "print(b)"
   ]
  },
  {
   "cell_type": "code",
   "execution_count": null,
   "id": "b866b48f-980c-4f42-99a3-3c9ac33a81f3",
   "metadata": {
    "execution": {
     "iopub.execute_input": "2025-06-27T01:04:37.425694Z",
     "iopub.status.busy": "2025-06-27T01:04:37.425537Z",
     "iopub.status.idle": "2025-06-27T01:04:37.444769Z",
     "shell.execute_reply": "2025-06-27T01:04:37.444420Z"
    }
   },
   "outputs": [
    {
     "name": "stdout",
     "output_type": "stream",
     "text": [
      "3\n"
     ]
    },
    {
     "ename": "AttributeError",
     "evalue": "'Cell' object has no attribute 'deps'",
     "output_type": "error",
     "traceback": [
      "\u001b[31m---------------------------------------------------------------------------\u001b[39m",
      "\u001b[31mAttributeError\u001b[39m                            Traceback (most recent call last)",
      "\u001b[36mCell\u001b[39m\u001b[36m \u001b[39m\u001b[32mIn[6]\u001b[39m\u001b[32m, line 4\u001b[39m\n\u001b[32m      1\u001b[39m \u001b[38;5;28mprint\u001b[39m(b)\n\u001b[32m      3\u001b[39m \u001b[38;5;28;01mfrom\u001b[39;00m\u001b[38;5;250m \u001b[39m\u001b[34;01mipyflow\u001b[39;00m\u001b[38;5;250m \u001b[39m\u001b[38;5;28;01mimport\u001b[39;00m cells\n\u001b[32m----> \u001b[39m\u001b[32m4\u001b[39m \u001b[43mcells\u001b[49m\u001b[43m(\u001b[49m\u001b[32;43m4\u001b[39;49m\u001b[43m)\u001b[49m\u001b[43m.\u001b[49m\u001b[43mdeps\u001b[49m()\n",
      "\u001b[31mAttributeError\u001b[39m: 'Cell' object has no attribute 'deps'"
     ]
    }
   ],
   "source": [
    "print(b)\n",
    "\n",
    "from ipyflow import deps\n",
    "cells(4).deps()"
   ]
  }
 ],
 "metadata": {
  "ipyflow": {
   "cell_children": {
    "27b27d54-3aed-4d46-a5cb-afa4a3ae861a": [],
    "5ac796e5-c274-484b-8109-d46e13cc18c2": [],
    "b866b48f-980c-4f42-99a3-3c9ac33a81f3": []
   },
   "cell_parents": {
    "27b27d54-3aed-4d46-a5cb-afa4a3ae861a": [],
    "5ac796e5-c274-484b-8109-d46e13cc18c2": [],
    "b866b48f-980c-4f42-99a3-3c9ac33a81f3": []
   }
  },
  "kernelspec": {
   "display_name": "Python 3 (ipyflow)",
   "language": "python",
   "name": "ipyflow"
  },
  "language_info": {
   "codemirror_mode": {
    "name": "ipython",
    "version": 3
   },
   "file_extension": ".py",
   "mimetype": "text/x-python",
   "name": "python",
   "nbconvert_exporter": "python",
   "pygments_lexer": "ipython3",
   "version": "3.13.2"
  }
 },
 "nbformat": 4,
 "nbformat_minor": 5
}
