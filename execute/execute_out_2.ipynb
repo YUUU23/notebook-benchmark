{
 "cells": [
  {
   "cell_type": "code",
   "execution_count": 1,
   "id": "5ac796e5-c274-484b-8109-d46e13cc18c2",
   "metadata": {
    "execution": {
     "iopub.execute_input": "2025-06-27T01:02:58.295986Z",
     "iopub.status.busy": "2025-06-27T01:02:58.295681Z",
     "iopub.status.idle": "2025-06-27T01:02:58.323235Z",
     "shell.execute_reply": "2025-06-27T01:02:58.322714Z"
    }
   },
   "outputs": [],
   "source": [
    "a = \"hi\" "
   ]
  },
  {
   "cell_type": "code",
   "execution_count": 4,
   "id": "27b27d54-3aed-4d46-a5cb-afa4a3ae861a",
   "metadata": {
    "execution": {
     "iopub.execute_input": "2025-06-27T01:02:58.365089Z",
     "iopub.status.busy": "2025-06-27T01:02:58.364918Z",
     "iopub.status.idle": "2025-06-27T01:02:58.389016Z",
     "shell.execute_reply": "2025-06-27T01:02:58.388599Z"
    }
   },
   "outputs": [
    {
     "name": "stdout",
     "output_type": "stream",
     "text": [
      "higoodbye3\n"
     ]
    }
   ],
   "source": [
    "a += '3' \n",
    "print(a)"
   ]
  },
  {
   "cell_type": "code",
   "execution_count": 3,
   "id": "b866b48f-980c-4f42-99a3-3c9ac33a81f3",
   "metadata": {
    "execution": {
     "iopub.execute_input": "2025-06-27T01:02:58.341736Z",
     "iopub.status.busy": "2025-06-27T01:02:58.341566Z",
     "iopub.status.idle": "2025-06-27T01:02:58.361013Z",
     "shell.execute_reply": "2025-06-27T01:02:58.360670Z"
    }
   },
   "outputs": [
    {
     "name": "stdout",
     "output_type": "stream",
     "text": [
      "9\n"
     ]
    }
   ],
   "source": [
    "print(len(a))"
   ]
  }
 ],
 "metadata": {
  "ipyflow": {
   "cell_children": {
    "27b27d54-3aed-4d46-a5cb-afa4a3ae861a": [],
    "5ac796e5-c274-484b-8109-d46e13cc18c2": [],
    "b866b48f-980c-4f42-99a3-3c9ac33a81f3": []
   },
   "cell_parents": {
    "27b27d54-3aed-4d46-a5cb-afa4a3ae861a": [],
    "5ac796e5-c274-484b-8109-d46e13cc18c2": [],
    "b866b48f-980c-4f42-99a3-3c9ac33a81f3": []
   }
  },
  "kernelspec": {
   "display_name": "Python 3 (ipyflow)",
   "language": "python",
   "name": "ipyflow"
  },
  "language_info": {
   "codemirror_mode": {
    "name": "ipython",
    "version": 3
   },
   "file_extension": ".py",
   "mimetype": "text/x-python",
   "name": "python",
   "nbconvert_exporter": "python",
   "pygments_lexer": "ipython3",
   "version": "3.13.2"
  }
 },
 "nbformat": 4,
 "nbformat_minor": 5
}
